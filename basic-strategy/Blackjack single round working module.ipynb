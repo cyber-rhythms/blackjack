{
 "cells": [
  {
   "cell_type": "markdown",
   "metadata": {},
   "source": [
    "The objective of this side-project is to investigate how we can use simulation to gain insight on the strategy behind Blackjack.\n",
    "\n",
    "Start by building a very simple model - and build up from there. Use low-tech methods, and progressively build, following the calling of the questions you ask. This could be a very interesting to develop your understanding of reinforcement learning.\n",
    "\n",
    "Read as little as possible. Follow the question you are asking for now. \n",
    "\n",
    "Objective 1a. - Build a working model of one round of Blackjack\n",
    "Objective 1b. - Build a working model of multiple rounds of Blackjack\n",
    "\n",
    "Parameters\n",
    "\n",
    "* No. of decks - 1\n",
    "* Two players - dealer and player\n",
    "* Rules for the dealer\n",
    "* Rules for the player\n",
    "* No betting\n",
    "* Abstract out the concept of suit\n",
    "\n",
    "Othe criteria\n",
    "\n",
    "Don't include until working model has been developed\n",
    "\n",
    "* Betting - non-trivial - include later on.\n",
    "* Side-games\n",
    "* Card-counting\n",
    "* Historical/simulation statistics can be coded on demand."
   ]
  },
  {
   "cell_type": "code",
   "execution_count": 360,
   "metadata": {},
   "outputs": [],
   "source": [
    "# Import modules\n",
    "\n",
    "import random\n",
    "import timeit\n",
    "from collections import Counter"
   ]
  },
  {
   "cell_type": "code",
   "execution_count": 388,
   "metadata": {
    "scrolled": true
   },
   "outputs": [],
   "source": [
    "# Define a dictionary that acts as an unordered card-shoe\n",
    "# Dictionary keys represent the card as a string, without suit considerations\n",
    "# Dictionary attributes are a list [no. of cards remaining in deck, value]\n",
    "# For key 'A', representing an ace, it can have a value of both 1 and 11\n",
    "\n",
    "def getcards():\n",
    "\n",
    "    deck = {}\n",
    "    deck['A'] = [4, 1, 11]\n",
    "\n",
    "    for card in range(2, 11):\n",
    "        deck[str(card)] = [4, card]\n",
    "    \n",
    "    for card in \"JQK\":\n",
    "        deck[str(card)] = [4, 10]\n",
    "        \n",
    "    return deck"
   ]
  },
  {
   "cell_type": "code",
   "execution_count": 389,
   "metadata": {},
   "outputs": [
    {
     "name": "stdout",
     "output_type": "stream",
     "text": [
      "{'A': [4, 1, 11], '2': [4, 2], '3': [4, 3], '4': [4, 4], '5': [4, 5], '6': [4, 6], '7': [4, 7], '8': [4, 8], '9': [4, 9], '10': [4, 10], 'J': [4, 10], 'Q': [4, 10], 'K': [4, 10]}\n"
     ]
    }
   ],
   "source": [
    "deck = getcards()\n",
    "print(deck)"
   ]
  },
  {
   "cell_type": "code",
   "execution_count": 390,
   "metadata": {},
   "outputs": [],
   "source": [
    "# Approximately simulate shuffling deck of ordered cards\n",
    "\n",
    "def shuffler():\n",
    "    shuffled_shoe = []\n",
    "    while len(shuffled_shoe) < 52:\n",
    "        draw = random.choice(list(deck))\n",
    "        if deck[draw][0] == 0:\n",
    "            pass\n",
    "        else:\n",
    "            deck[draw][0] -= 1\n",
    "            shuffled_shoe.append(draw)\n",
    "    return shuffled_shoe"
   ]
  },
  {
   "cell_type": "code",
   "execution_count": 391,
   "metadata": {},
   "outputs": [
    {
     "name": "stdout",
     "output_type": "stream",
     "text": [
      "['3', '6', '7', '4', 'J', 'Q', '10', 'A', '6', '5', '9', '10', 'Q', '6', 'K', 'A', '5', '3', 'Q', '5', '4', '9', '6', 'K', 'K', '7', '8', 'A', 'J', '7', '2', '3', '8', '3', '8', '9', '5', '9', 'J', '10', '7', '4', 'K', '8', 'J', 'Q', '4', '10', 'A', '2', '2', '2']\n"
     ]
    }
   ],
   "source": [
    "shuffled_shoe = shuffler()\n",
    "print(shuffled_shoe)"
   ]
  },
  {
   "cell_type": "code",
   "execution_count": 365,
   "metadata": {},
   "outputs": [
    {
     "data": {
      "text/plain": [
       "104"
      ]
     },
     "execution_count": 365,
     "metadata": {},
     "output_type": "execute_result"
    }
   ],
   "source": [
    "len(shuffled_shoe)"
   ]
  },
  {
   "cell_type": "code",
   "execution_count": 366,
   "metadata": {},
   "outputs": [
    {
     "name": "stdout",
     "output_type": "stream",
     "text": [
      "Debug...\n",
      "And there are the correct number of each card in the deck.\n"
     ]
    }
   ],
   "source": [
    "# Sanity check on number of cards in shuffled shoe, and on number of each card\n",
    "\n",
    "if len(shuffled_shoe) == 52:\n",
    "    print(\"Yes there are currently 52 cards in the now freshly shuffled shoe.\")\n",
    "else:\n",
    "    print(\"Debug...\")\n",
    "    \n",
    "if any(tally < 4 for tally in list(Counter(shuffled_shoe).values())):\n",
    "    print(\"The integrity of the casino's shuffling processes has been compromised.\")\n",
    "else:\n",
    "    print(\"And there are the correct number of each card in the deck.\")"
   ]
  },
  {
   "cell_type": "code",
   "execution_count": 392,
   "metadata": {},
   "outputs": [],
   "source": [
    "# Simulate dealing of opening hands module. \n",
    "# If the player has a Blackjack, then that player is declared to have won instantly. The house pays out to that player at 3:2.\n",
    "\n",
    "def openinghand():\n",
    "    player = []\n",
    "    dealer = []\n",
    "\n",
    "    player.append(shuffled_shoe.pop())\n",
    "    player.append(shuffled_shoe.pop())\n",
    "    \n",
    "    dealer.append(shuffled_shoe.pop())\n",
    "    \n",
    "    if ('A' in player) and (('10' in player) or ('J' in player) or ('Q' in player) or ('K' in player)):\n",
    "        print(\"Blackjack, house pays out at 3:2\")\n",
    "    else:\n",
    "        print(\"No Blackjack this time\")\n",
    "        \n",
    "    return player, dealer"
   ]
  },
  {
   "cell_type": "code",
   "execution_count": 393,
   "metadata": {},
   "outputs": [
    {
     "name": "stdout",
     "output_type": "stream",
     "text": [
      "No Blackjack this time\n"
     ]
    }
   ],
   "source": [
    "player, dealer = openinghand()"
   ]
  },
  {
   "cell_type": "code",
   "execution_count": 394,
   "metadata": {},
   "outputs": [
    {
     "data": {
      "text/plain": [
       "(['2', '2'], ['2'])"
      ]
     },
     "execution_count": 394,
     "metadata": {},
     "output_type": "execute_result"
    }
   ],
   "source": [
    "player, dealer"
   ]
  },
  {
   "cell_type": "code",
   "execution_count": 395,
   "metadata": {},
   "outputs": [],
   "source": [
    "# Simulate the player's decision on whether or not to draw cards\n",
    "# For now, use a hit if under 18 rule of thumb\n",
    "# O/S Look up decision from a basic strategy table - now complete\n",
    "# O/S Coding soft vs hard hands - now complete\n",
    "\n",
    "def playerturn():\n",
    "    \n",
    "    \"\"\"Evaluates the player's score, and keeps drawing cards until the player has a score of more than 18\"\"\"\n",
    "    \n",
    "    cardvalues = []\n",
    "    for card in player:\n",
    "        cardvalues.append(deck[card][1])\n",
    "\n",
    "    while sum(cardvalues) < 18:\n",
    "        drawcard = shuffled_shoe.pop()\n",
    "        player.append(drawcard)\n",
    "        cardvalues.append(deck[drawcard][1])\n",
    "        print(\"Decided to hit, as I'm a risk lover and under 18\")\n",
    "        \n",
    "    if sum(cardvalues) > 21:\n",
    "        print(\"...I've gone bust. Why is my lucky charm that I got from the Amazonian shaman not working?\")\n",
    "    else:\n",
    "        print(\"Decided to stick\")\n",
    "        \n",
    "    print(\"Player Score:\" + str(sum(cardvalues)))\n",
    "    print(player)\n",
    "        \n",
    "    return player, sum(cardvalues)"
   ]
  },
  {
   "cell_type": "code",
   "execution_count": 396,
   "metadata": {
    "scrolled": true
   },
   "outputs": [
    {
     "name": "stdout",
     "output_type": "stream",
     "text": [
      "Decided to hit, as I'm a risk lover and under 18\n",
      "Decided to hit, as I'm a risk lover and under 18\n",
      "Decided to hit, as I'm a risk lover and under 18\n",
      "Decided to stick\n",
      "Player Score:19\n",
      "['2', '2', 'A', '10', '4']\n"
     ]
    }
   ],
   "source": [
    "player, playerscore = playerturn()"
   ]
  },
  {
   "cell_type": "code",
   "execution_count": 397,
   "metadata": {},
   "outputs": [],
   "source": [
    "# Simulate the dealer's position, which is fairly clear-cut - have to specify the must-draw on 16 and stick on 17\n",
    "# O/S - coding soft vs hard hands\n",
    "\n",
    "def dealerturn():\n",
    "    \n",
    "    \"\"\"Evaluates the dealer's score, and keeps drawing cards until dealer has a score of 17 or more.\"\"\"\n",
    "    \n",
    "    cardvalues = []\n",
    "    for card in dealer:\n",
    "        cardvalues.append(deck[card][1])\n",
    "        \n",
    "    while sum(cardvalues) <= 16:\n",
    "        drawcard = shuffled_shoe.pop()\n",
    "        dealer.append(drawcard)\n",
    "        cardvalues.append(deck[drawcard][1])\n",
    "        print(\"Dealer draws a card as under or equal to 16\")\n",
    "    \n",
    "    if sum(cardvalues) > 21:\n",
    "        print(\"Dealer goes bust\")\n",
    "    else:\n",
    "        print(\"Dealer sticks on 17 or over\")\n",
    "    \n",
    "    print(\"Dealer Score:\" + str(sum(cardvalues)))\n",
    "    print(dealer)\n",
    "    \n",
    "    return dealer, sum(cardvalues)"
   ]
  },
  {
   "cell_type": "code",
   "execution_count": 398,
   "metadata": {},
   "outputs": [
    {
     "name": "stdout",
     "output_type": "stream",
     "text": [
      "Dealer draws a card as under or equal to 16\n",
      "Dealer draws a card as under or equal to 16\n",
      "Dealer goes bust\n",
      "Dealer Score:22\n",
      "['2', 'Q', 'J']\n"
     ]
    }
   ],
   "source": [
    "dealer, dealerscore = dealerturn()"
   ]
  },
  {
   "cell_type": "code",
   "execution_count": 399,
   "metadata": {},
   "outputs": [],
   "source": [
    "# Evaluate the outcome of the hand. The dealer's score is evaluated first, and that is used to evaluate against the score of\n",
    "# the remaining players' hands, forming the basis for specifying additional players.\n",
    "\n",
    "def handoutcome(playerscore, dealerscore):\n",
    "\n",
    "    if playerscore > 21:\n",
    "        if dealerscore > 21:\n",
    "            print(\"Player busts. Dealer also busts. But the 'edge' means that player loses the hand.\")\n",
    "        else:\n",
    "            print(\"Player busts. Dealer wins the hand.\")\n",
    "    else:\n",
    "        if dealerscore > 21:\n",
    "            print(\"Dealer busts. Player wins the hand\")\n",
    "        else:\n",
    "            if dealerscore > playerscore:\n",
    "                print(\"Dealer has higher score. Dealer wins the hand\")\n",
    "            elif dealerscore < playerscore:\n",
    "                print(\"Player has higher score. Player wins the hand\")\n",
    "            else:\n",
    "                print(\"Both dealer and player have the same score, the outcome of the hand is a draw\")"
   ]
  },
  {
   "cell_type": "code",
   "execution_count": 400,
   "metadata": {},
   "outputs": [
    {
     "name": "stdout",
     "output_type": "stream",
     "text": [
      "Dealer busts. Player wins the hand\n"
     ]
    }
   ],
   "source": [
    "handoutcome(playerscore, dealerscore)"
   ]
  },
  {
   "cell_type": "markdown",
   "metadata": {},
   "source": [
    "Objective 1a - build a working model of Blackjack - complete\n",
    "\n",
    "Have now a bare skeleton working module that can simulate one round of blackjack, with some O/S caveats as indicated above."
   ]
  }
 ],
 "metadata": {
  "kernelspec": {
   "display_name": "Python 3",
   "language": "python",
   "name": "python3"
  },
  "language_info": {
   "codemirror_mode": {
    "name": "ipython",
    "version": 3
   },
   "file_extension": ".py",
   "mimetype": "text/x-python",
   "name": "python",
   "nbconvert_exporter": "python",
   "pygments_lexer": "ipython3",
   "version": "3.7.4"
  }
 },
 "nbformat": 4,
 "nbformat_minor": 2
}
