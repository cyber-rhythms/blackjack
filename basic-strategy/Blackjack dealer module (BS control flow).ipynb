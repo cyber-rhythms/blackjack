{
 "cells": [
  {
   "cell_type": "code",
   "execution_count": null,
   "metadata": {},
   "outputs": [],
   "source": [
    "# KISS\n",
    "# Evaluate if dealer has a hard total or a soft total"
   ]
  },
  {
   "cell_type": "code",
   "execution_count": 3,
   "metadata": {},
   "outputs": [],
   "source": [
    "import pandas as pd\n",
    "import random"
   ]
  },
  {
   "cell_type": "code",
   "execution_count": 4,
   "metadata": {},
   "outputs": [
    {
     "name": "stdout",
     "output_type": "stream",
     "text": [
      "         2   3   4   5   6   7   8   9  10   J   Q   K  A\n",
      "5        H   H   H   H   H   H   H   H   H   H   H   H  H\n",
      "6        H   H   H   H   H   H   H   H   H   H   H   H  H\n",
      "7        H   H   H   H   H   H   H   H   H   H   H   H  H\n",
      "8        H   H   H   H   H   H   H   H   H   H   H   H  H\n",
      "9        H   D   D   D   D   H   H   H   H   H   H   H  H\n",
      "10       D   D   D   D   D   D   D   D   H   H   H   H  H\n",
      "11       D   D   D   D   D   D   D   D   H   H   H   H  H\n",
      "12       H   H   S   S   S   H   H   H   H   H   H   H  H\n",
      "13       S   S   S   S   S   H   H   H   H   H   H   H  H\n",
      "14       S   S   S   S   S   H   H   H   H   H   H   H  H\n",
      "15       S   S   S   S   S   H   H   H   H   H   H   H  H\n",
      "16       S   S   S   S   S   H   H   H   H   H   H   H  H\n",
      "17       S   S   S   S   S   S   S   S   S   S   S   S  S\n",
      "18       S   S   S   S   S   S   S   S   S   S   S   S  S\n",
      "19       S   S   S   S   S   S   S   S   S   S   S   S  S\n",
      "20       S   S   S   S   S   S   S   S   S   S   S   S  S\n",
      "21       S   S   S   S   S   S   S   S   S   S   S   S  S\n",
      "A2       H   H   H   D   D   H   H   H   H   H   H   H  H\n",
      "A3       H   H   H   D   D   H   H   H   H   H   H   H  H\n",
      "A4       H   H   D   D   D   H   H   H   H   H   H   H  H\n",
      "A5       H   H   D   D   D   H   H   H   H   H   H   H  H\n",
      "A6       H   D   D   D   D   H   H   H   H   H   H   H  H\n",
      "A7       S   D   D   D   D   S   S   H   H   H   H   H  H\n",
      "A8       S   S   S   S   S   S   S   S   S   S   S   S  S\n",
      "A9       S   S   S   S   S   S   S   S   S   S   S   S  S\n",
      "A10      S   S   S   S   S   S   S   S   S   S   S   S  S\n",
      "2, 2    Sp  Sp  Sp  Sp  Sp  Sp   H   H   H   H   H   H  H\n",
      "3, 3    Sp  Sp  Sp  Sp  Sp  Sp   H   H   H   H   H   H  H\n",
      "4, 4     H   H   H  Sp  Sp   H   H   H   H   H   H   H  H\n",
      "5, 5     D   D   D   D   D   D   D   D   H   H   H   H  H\n",
      "6, 6    Sp  Sp  Sp  Sp  Sp   H   H   H   H   H   H   H  H\n",
      "7, 7    Sp  Sp  Sp  Sp  Sp  Sp   H   H   H   H   H   H  H\n",
      "8, 8    Sp  Sp  Sp  Sp  Sp  Sp  Sp  Sp   H   H   H   H  H\n",
      "9, 9    Sp  Sp  Sp  Sp  Sp   S  Sp  Sp   S   S   S   S  S\n",
      "10, 10   S   S   S   S   S   S   S   S   S   S   S   S  S\n",
      "J, J     S   S   S   S   S   S   S   S   S   S   S   S  S\n",
      "Q, Q     S   S   S   S   S   S   S   S   S   S   S   S  S\n",
      "K, K     S   S   S   S   S   S   S   S   S   S   S   S  S\n",
      "A, A    Sp  Sp  Sp  Sp  Sp  Sp  Sp  Sp  Sp  Sp  Sp  Sp  H\n"
     ]
    }
   ],
   "source": [
    "columns = ['2', '3', '4', '5', '6', '7', '8', '9', '10', 'J', 'Q', 'K', 'A']\n",
    "index = [i for i in range(5, 22)]\n",
    "index2 = ['A2', 'A3', 'A4', 'A5', 'A6', 'A7', 'A8', 'A9', 'A10']\n",
    "index3 = ['2, 2','3, 3', '4, 4', '5, 5', '6, 6', '7, 7', '8, 8', '9, 9', '10, 10', 'J, J', 'Q, Q', 'K, K', 'A, A']\n",
    "indices = index + index2 + index3\n",
    "basic_strategy_table = pd.read_csv('basic-strategy.csv', header=None)\n",
    "basic_strategy_table.index = indices\n",
    "basic_strategy_table.columns = columns\n",
    "print(basic_strategy_table)\n",
    "\n",
    "def getcards(decks=1):\n",
    "    \"\"\"Brings out a number of sealed decks of cards in their original order to the virutal gaming table.\n",
    "\n",
    "    Creates a dictionary tracking the name of each card, its quantity, and its value\n",
    "    \n",
    "    Keyword argument:\n",
    "        decks {int} -- the number of 52-card decks that the casino is using (default 1)\n",
    "    \n",
    "    Returns:\n",
    "        dictionary{keys: values} -- dictionary object where keys are the card name (e.g. 'K' for King )\n",
    "                                    and where the values are a list object containing the card's quantity and its value.\n",
    "                                    \n",
    "    The value for the ace contains three elements, as aces can further take on the value of 1 or 11, depending on \n",
    "    the context of the hand. No distinction is made between card suits, i.e. spades, hearts, clubs, diamonds.\n",
    "    \"\"\"\n",
    "    \n",
    "    deck = {}\n",
    "    total_cards = decks * 52\n",
    "    card_quantity = int(total_cards / 13)\n",
    "    \n",
    "    deck['A'] = [card_quantity, 1, 11]\n",
    "\n",
    "    for card in range(2, 11):\n",
    "        deck[str(card)] = [card_quantity, card]\n",
    "    \n",
    "    for card in \"JQK\":\n",
    "        deck[str(card)] = [card_quantity, 10]\n",
    "        \n",
    "    return deck, total_cards\n",
    "\n",
    "deck, total_cards = getcards(decks=1)\n",
    "\n",
    "def shuffler(deck, total_cards):\n",
    "    \n",
    "    \"\"\"Shuffles the decks of cards, and places them inside the virtual gaming table card-shoe.\"\"\"\n",
    "    \n",
    "    shuffled_shoe = []\n",
    "    \n",
    "    while len(shuffled_shoe) < total_cards:\n",
    "        draw = random.choice(list(deck))\n",
    "        if deck[draw][0] == 0:\n",
    "            pass\n",
    "        else:\n",
    "            deck[draw][0] -= 1\n",
    "            shuffled_shoe.append(draw)\n",
    "            \n",
    "    return shuffled_shoe\n",
    "\n",
    "shuffled_shoe = shuffler(deck, total_cards)\n",
    "\n",
    "def check_if_bust(player):\n",
    "    if 'A' in player:\n",
    "        if player[0] != 'A':\n",
    "            ace_index = player.index('A')\n",
    "            player[0], player[ace_index] = player[ace_index], player[0]\n",
    "            \n",
    "        card_values_no_ace = [deck[card][1] for card in player[1::]]\n",
    "        \n",
    "        if sum(card_values_no_ace) <= 10:\n",
    "            bust_indicator = 0\n",
    "        elif sum(card_values_no_ace) > 20:\n",
    "            bust_indicator = 1\n",
    "        else:\n",
    "            bust_indicator = 0\n",
    "    else:\n",
    "        card_values = [deck[card][1] for card in player]\n",
    "        \n",
    "        if sum(card_values) > 21:\n",
    "            bust_indicator = 1\n",
    "        else:\n",
    "            bust_indicator = 0\n",
    "            \n",
    "    return bust_indicator"
   ]
  },
  {
   "cell_type": "code",
   "execution_count": 5,
   "metadata": {},
   "outputs": [],
   "source": [
    "# New working modules\n",
    "\n",
    "def evaluate_hand(dealer):\n",
    "    if 'A' in dealer:\n",
    "        soft_total_indicator = 1\n",
    "        print(\"Dealer has a soft total\")\n",
    "    else:\n",
    "        soft_total_indicator = 0\n",
    "        print(\"Dealer has a hard total\")\n",
    "    return soft_total_indicator"
   ]
  },
  {
   "cell_type": "code",
   "execution_count": 6,
   "metadata": {},
   "outputs": [],
   "source": [
    "# This submodule takes the dealer's hand and evaluates the score only for hard totals - it will produce an erroneous result\n",
    "# when passed a soft total. \n",
    "\n",
    "def hard_total_score(dealer):\n",
    "    cardvalues = [deck[card][1] for card in dealer]\n",
    "    return sum(cardvalues)"
   ]
  },
  {
   "cell_type": "code",
   "execution_count": 7,
   "metadata": {},
   "outputs": [
    {
     "ename": "NameError",
     "evalue": "name 'hard_total' is not defined",
     "output_type": "error",
     "traceback": [
      "\u001b[1;31m---------------------------------------------------------------------------\u001b[0m",
      "\u001b[1;31mNameError\u001b[0m                                 Traceback (most recent call last)",
      "\u001b[1;32m<ipython-input-7-134f2a2d9bdb>\u001b[0m in \u001b[0;36m<module>\u001b[1;34m\u001b[0m\n\u001b[1;32m----> 1\u001b[1;33m \u001b[1;32mwhile\u001b[0m \u001b[1;33m(\u001b[0m\u001b[0mhard_total\u001b[0m \u001b[1;33m<\u001b[0m \u001b[1;36m17\u001b[0m\u001b[1;33m)\u001b[0m\u001b[1;33m:\u001b[0m\u001b[1;33m\u001b[0m\u001b[1;33m\u001b[0m\u001b[0m\n\u001b[0m\u001b[0;32m      2\u001b[0m     \u001b[0mdrawcard\u001b[0m \u001b[1;33m=\u001b[0m \u001b[0mshuffled_shoe\u001b[0m\u001b[1;33m.\u001b[0m\u001b[0mpop\u001b[0m\u001b[1;33m(\u001b[0m\u001b[1;33m)\u001b[0m\u001b[1;33m\u001b[0m\u001b[1;33m\u001b[0m\u001b[0m\n\u001b[0;32m      3\u001b[0m     \u001b[0mdealer\u001b[0m\u001b[1;33m.\u001b[0m\u001b[0mappend\u001b[0m\u001b[1;33m(\u001b[0m\u001b[0mdrawcard\u001b[0m\u001b[1;33m)\u001b[0m\u001b[1;33m\u001b[0m\u001b[1;33m\u001b[0m\u001b[0m\n\u001b[0;32m      4\u001b[0m     \u001b[0mprint\u001b[0m\u001b[1;33m(\u001b[0m\u001b[1;34m\"As hard total is smaller than 17, dealer draws {}.\"\u001b[0m\u001b[1;33m.\u001b[0m\u001b[0mformat\u001b[0m\u001b[1;33m(\u001b[0m\u001b[0mdrawcard\u001b[0m\u001b[1;33m)\u001b[0m\u001b[1;33m)\u001b[0m\u001b[1;33m\u001b[0m\u001b[1;33m\u001b[0m\u001b[0m\n\u001b[0;32m      5\u001b[0m     \u001b[0mhard_total\u001b[0m \u001b[1;33m=\u001b[0m \u001b[0mhard_total_score\u001b[0m\u001b[1;33m(\u001b[0m\u001b[0mdealer\u001b[0m\u001b[1;33m)\u001b[0m\u001b[1;33m\u001b[0m\u001b[1;33m\u001b[0m\u001b[0m\n",
      "\u001b[1;31mNameError\u001b[0m: name 'hard_total' is not defined"
     ]
    }
   ],
   "source": [
    "while (hard_total < 17):\n",
    "    drawcard = shuffled_shoe.pop()\n",
    "    dealer.append(drawcard)\n",
    "    print(\"As hard total is smaller than 17, dealer draws {}.\".format(drawcard))\n",
    "    hard_total = hard_total_score(dealer)\n",
    "    bust_indicator = check_if_bust(dealer)\n",
    "    if bust_indicator == 1:\n",
    "        print(\"Dealer has bust\")\n",
    "        break\n",
    "else:\n",
    "    print(\"Dealer chooses to stick.\")\n",
    "print(dealer)"
   ]
  },
  {
   "cell_type": "code",
   "execution_count": 8,
   "metadata": {},
   "outputs": [],
   "source": [
    "# This hand deals with soft totals. \n",
    "# Currently this outputs a status variable, which determines whether we break out of the soft total while loop which draws cards\n",
    "# As the status is contingent on score caculation, \n",
    "\n",
    "def soft_total_score(dealer):\n",
    "    if dealer[0] != 'A':\n",
    "        ace_index = dealer.index('A')\n",
    "        dealer[0], dealer[ace_index] = dealer[ace_index], dealer[0]\n",
    "        \n",
    "    cardvalues_no_ace = [deck[card][1] for card in dealer[1::]]\n",
    "    \n",
    "    if sum(cardvalues_no_ace) <= 5:\n",
    "        status = 'H'\n",
    "        dealerscore = 0\n",
    "        print(\"Dealer has soft {}, that is {} or {}. Dealer must draw a card.\".format(11 + sum(cardvalues_no_ace), 1 + sum(cardvalues_no_ace), 11 + sum(cardvalues_no_ace)))\n",
    "    if (sum(cardvalues_no_ace) >= 6) and (sum(cardvalues_no_ace) <= 10):\n",
    "        print(\"Dealer has {}. Dealer must stick.\".format(11 + sum(cardvalues_no_ace)))\n",
    "        status = 'S'\n",
    "        dealerscore = 11 + sum(cardvalues_no_ace)\n",
    "    if (sum(cardvalues_no_ace) >= 11) and (sum(cardvalues_no_ace) <= 15):\n",
    "        print(\"Dealer has {}. Dealer must draw cards\".format(1 + sum(cardvalues_no_ace)))\n",
    "        status = 'H'\n",
    "        dealerscore = 1 + sum(cardvalues_no_ace)\n",
    "    if (sum(cardvalues_no_ace) >= 16) and sum(cardvalues_no_ace) <= 20:\n",
    "        print(\"Dealer has {}. Dealer must stick.\".format(1 + sum(cardvalues_no_ace)))\n",
    "        status = 'S'\n",
    "        dealerscore = 1 + sum(cardvalues_no_ace)\n",
    "    elif sum(cardvalues_no_ace) > 20:\n",
    "        status = 'B'\n",
    "        dealerscore = 1 + sum(cardvalues_no_ace)\n",
    "        \n",
    "    return [status, dealerscore]"
   ]
  },
  {
   "cell_type": "code",
   "execution_count": 9,
   "metadata": {},
   "outputs": [
    {
     "ename": "NameError",
     "evalue": "name 'dealerturn' is not defined",
     "output_type": "error",
     "traceback": [
      "\u001b[1;31m---------------------------------------------------------------------------\u001b[0m",
      "\u001b[1;31mNameError\u001b[0m                                 Traceback (most recent call last)",
      "\u001b[1;32m<ipython-input-9-fd499a35dbf0>\u001b[0m in \u001b[0;36m<module>\u001b[1;34m\u001b[0m\n\u001b[1;32m----> 1\u001b[1;33m \u001b[0mdealerturn\u001b[0m\u001b[1;33m(\u001b[0m\u001b[1;33m[\u001b[0m\u001b[1;34m'6'\u001b[0m\u001b[1;33m,\u001b[0m \u001b[1;34m'10'\u001b[0m\u001b[1;33m]\u001b[0m\u001b[1;33m)\u001b[0m\u001b[1;33m\u001b[0m\u001b[1;33m\u001b[0m\u001b[0m\n\u001b[0m",
      "\u001b[1;31mNameError\u001b[0m: name 'dealerturn' is not defined"
     ]
    }
   ],
   "source": [
    "dealerturn(['6', '10'])"
   ]
  },
  {
   "cell_type": "code",
   "execution_count": 10,
   "metadata": {},
   "outputs": [
    {
     "data": {
      "text/plain": [
       "1"
      ]
     },
     "execution_count": 10,
     "metadata": {},
     "output_type": "execute_result"
    }
   ],
   "source": [
    "check_if_bust(['6', '10', '10'])"
   ]
  },
  {
   "cell_type": "code",
   "execution_count": 16,
   "metadata": {},
   "outputs": [],
   "source": [
    "def dealerturn(dealer):\n",
    "    \n",
    "    drawcard = shuffled_shoe.pop()\n",
    "    dealer.append(drawcard)\n",
    "    \n",
    "    print(\"Dealer draws {}.\".format(drawcard))\n",
    "    \n",
    "    soft_total_indicator = evaluate_hand(dealer)  # Evaluates whether there is an ace in the dealer's hand\n",
    "    \n",
    "    hard_total = hard_total_score(dealer)  # Computes hand's score whether this is a hard or soft hand \n",
    "    \n",
    "    dealerbust_indicator = check_if_bust(dealer)\n",
    "      \n",
    "    while (soft_total_indicator == 0) and (hard_total < 17):\n",
    "        \n",
    "        drawcard = shuffled_shoe.pop()\n",
    "        dealer.append(drawcard)\n",
    "        print(\"As dealer's score is less than 17, dealer draws {}.\".format(drawcard))\n",
    "        print(dealer)\n",
    "        soft_total_indicator = evaluate_hand(dealer)\n",
    "        hard_total = hard_total_score(dealer)\n",
    "        dealerbust_indicator = check_if_bust(dealer)\n",
    "        if dealerbust_indicator == 1:\n",
    "            print(\"Dealer has bust with total of {}\".format(hard_total))\n",
    "            dealerscore = hard_total\n",
    "            dealerbust_indicator = 1\n",
    "            break\n",
    "    else:\n",
    "        print(\"Either dealer has an ace in hand, has drawn an ace, or chosen to stick on greater than 17 or has bust.\") #This happens when the statement x becomes false \n",
    "    \n",
    "        if soft_total_indicator == 1:\n",
    "            soft_total = soft_total_score(dealer)\n",
    "            while (soft_total[0] == 'H'):\n",
    "                drawcard = shuffled_shoe.pop()\n",
    "                dealer.append(drawcard)\n",
    "                print(\"Dealer draws {}.\".format(drawcard))\n",
    "                soft_total = soft_total_score(dealer)\n",
    "                if soft_total[0] == 'B':\n",
    "                    print(\"Dealer has bust\")\n",
    "                    dealerscore = soft_total[1]\n",
    "                    dealerbust_indicator = 1\n",
    "                    break\n",
    "            else:\n",
    "                dealerscore = soft_total[1]\n",
    "                dealerbust_indicator = 0\n",
    "                \n",
    "        # Cases of hard hand, have to deal with >17 and bust, and >17 stick\n",
    "        else: \n",
    "            if hard_total > 21:\n",
    "                dealerscore = hard_total\n",
    "                dealerbust_indicator = 1\n",
    "            elif hard_total <= 21:\n",
    "                dealerscore = hard_total\n",
    "                dealerbust_indicator = 0\n",
    "                \n",
    "    print(dealer)\n",
    "    \n",
    "    return dealer, dealerscore, dealerbust_indicator"
   ]
  },
  {
   "cell_type": "code",
   "execution_count": 17,
   "metadata": {
    "scrolled": true
   },
   "outputs": [
    {
     "name": "stdout",
     "output_type": "stream",
     "text": [
      "Dealer draws 5.\n",
      "Dealer has a soft total\n",
      "Either dealer has an ace in hand, has drawn an ace, or chosen to stick on greater than 17 or has bust.\n",
      "Dealer has soft 16, that is 6 or 16. Dealer must draw a card.\n",
      "Dealer draws 5.\n",
      "Dealer has 21. Dealer must stick.\n",
      "['A', '5', '5']\n"
     ]
    },
    {
     "data": {
      "text/plain": [
       "(['A', '5', '5'], 21, 0)"
      ]
     },
     "execution_count": 17,
     "metadata": {},
     "output_type": "execute_result"
    }
   ],
   "source": [
    "dealerturn(['A'])"
   ]
  },
  {
   "cell_type": "code",
   "execution_count": 18,
   "metadata": {},
   "outputs": [
    {
     "name": "stdout",
     "output_type": "stream",
     "text": [
      "Dealer draws 9.\n",
      "Dealer has a hard total\n",
      "As dealer's score is less than 17, dealer draws K.\n",
      "['2', '9', 'K']\n",
      "Dealer has a hard total\n",
      "Either dealer has an ace in hand, has drawn an ace, or chosen to stick on greater than 17 or has bust.\n",
      "['2', '9', 'K']\n"
     ]
    },
    {
     "data": {
      "text/plain": [
       "(['2', '9', 'K'], 21, 0)"
      ]
     },
     "execution_count": 18,
     "metadata": {},
     "output_type": "execute_result"
    }
   ],
   "source": [
    "dealerturn(['2'])"
   ]
  },
  {
   "cell_type": "code",
   "execution_count": 303,
   "metadata": {},
   "outputs": [
    {
     "ename": "IndentationError",
     "evalue": "expected an indented block (<ipython-input-303-9d7139f57c0e>, line 32)",
     "output_type": "error",
     "traceback": [
      "\u001b[1;36m  File \u001b[1;32m\"<ipython-input-303-9d7139f57c0e>\"\u001b[1;36m, line \u001b[1;32m32\u001b[0m\n\u001b[1;33m    else: #hard total branch\u001b[0m\n\u001b[1;37m       ^\u001b[0m\n\u001b[1;31mIndentationError\u001b[0m\u001b[1;31m:\u001b[0m expected an indented block\n"
     ]
    }
   ],
   "source": [
    "# The below represents a failed attempt. Debrief as to why you were getting so confused together with CF diagram. Reevaluate\n",
    "# how you managed to resolve the issue.\n",
    "\n",
    "# Dealerturn() module - encapsulates dealer decision and actions. Simpler as there is no basic strategy involved, and hence\n",
    "# no recursive decision-action sequences which require a stopping rule. \n",
    "\n",
    "# Is the above claim that it's simpler because there are no decision-action sequences with feedback really justified?\n",
    "# Q: Compare to CF #1 where you resolved the issue. What part of its structure, if any, is applicable here? \n",
    "\n",
    "# 1. Compute score\n",
    "# 2. Carry out action\n",
    "# 3. Merge or keep separate 1. and 2. ?\n",
    "\n",
    "# Process: Dealer draws cards continuously either until he busts, or the sum of his hand is greater than 16. What seems to be \n",
    "# common sense calculation for dealing with a dual value ace turns out to be trickier to program literally for a novice programmer\n",
    "\n",
    "\n",
    "def dealerturn(dealer, player_blackjack):\n",
    "    \n",
    "    \"\"\"Evaluates the dealer's score, and keeps drawing cards until dealer has a score of 17 or more.\"\"\"\n",
    "    \n",
    "    if player_blackjack == 1:\n",
    "        cardvalues = [deck[dealer[0]][1]]\n",
    "        print(\"Dealer draws no cards as player has blackjacked.\")\n",
    "    \n",
    "    else:\n",
    "        dealer.append(shuffled_shoe.pop())\n",
    "        print(\"Dealer draws a card.\")\n",
    "        \n",
    "        if 'A' in dealer: #soft total branch\n",
    "              \n",
    "        else: #hard total branch\n",
    "            card_values = [deck[card][1] for card in dealer]"
   ]
  },
  {
   "cell_type": "code",
   "execution_count": null,
   "metadata": {},
   "outputs": [],
   "source": [
    "# Write loop\n",
    "# STRATEGY ALPHA: TERMINATION CONDITIONS ON WHILE LOOPS \"DOMINATE\"\n",
    "\n",
    "while 'A' not in dealer:\n",
    "   \n",
    "    cardvalues = [deck[card][1] for card in dealer]\n",
    "    print(\"The dealer's score is a hard {}\".format(sum(cardvalues)))\n",
    "    \n",
    "    bust_indicator = check_if_bust(dealer)\n",
    "    \n",
    "    if bust_indicator == 1:\n",
    "        break\n",
    "        print(\"The dealer has bust with score {}.\"format(sum(cardvalues)))\n",
    "    else:\n",
    "        print(\"The dealer is not bust, draw card.\")\n",
    "        drawcard = shuffled_shoe.pop()\n",
    "        dealer.append(drawcard)\n",
    "else:        \n",
    "    if dealer[0] != 'A':\n",
    "        ace_index = dealer.index('A')\n",
    "        dealer[0], dealer[ace_index] = dealer[ace_index], dealer[0]\n",
    "        \n",
    "    cardvalues_no_ace = [deck[card][1] for card in dealer[1::]]\n",
    "        \n",
    "    if sum(cardvalues_no_ace) >= 11:\n",
    "        print(\"This is hard total, go to the hard total branch/call that routine\") # here is the problem, we need to exit this branch and go to a higher one.\n",
    "    elif sum(cardvalues_no_ace) <= 5:\n",
    "        print(\"The dealer score is {} or {}, he needs to draw a card\".format(1 + sum(cardvalues_no_ace), 11 + sum(cardvalues_no_ace)))\n",
    "    else:\n",
    "        print(\"The dealer's score is {}, he will stick\".format(11 + sum(cardvalues_no_ace)))"
   ]
  },
  {
   "cell_type": "code",
   "execution_count": null,
   "metadata": {},
   "outputs": [],
   "source": [
    "# Strategy 2: Split each piece of dealerturn into functions.\n",
    "# Can either go down a similar route to player with a decision module and action module, and CF over variables.\n",
    "# Or can go for an option where you define a soft total and hard total function."
   ]
  },
  {
   "cell_type": "code",
   "execution_count": null,
   "metadata": {},
   "outputs": [],
   "source": [
    "# Erroneous module for a minor exception listed below; some logic needed clarifying. Archiving here for debrief/optimisation\n",
    "# purposes. \n",
    "\n",
    "# Okay some simple progress has been made by keeping it simple. You returned to visualisation of the procedure, and the\n",
    "# simplicity with which dealers evaluate the score of their hand and decide whether or not to draw.\n",
    "\n",
    "# Draw a card to dealer's hand. Check if he has a hard total or a soft total.\n",
    "# If he has a hard total, then whilst his score is under 17, he has to draw UNTIL either he gets over 17 OR he busts\n",
    "# OR until he draws an ace. \n",
    "\n",
    "# If he has a soft total; then there are a number of scenarios.\n",
    "\n",
    "# If the residual value of his cards are smaller than or equal to 5, he draws UNTIL either:\n",
    "\n",
    "# A. If the residual value of his cards is between 6 and 10, then he sticks.\n",
    "# B. If the residual value of his cards is greater than 11, then he draws UNTIL either he gets over 17 OR he busts.\n",
    "\n",
    "# Issue with this - Dealer = [6, 10] and a a 10 is drawn. This triggers the hard total > 17 condition, and the while loop is exited\n",
    "# BEFORE the bust indicator can trigger a loop exit as an exception to conditions not specified. \n",
    "# This is contrary to the intended of the behaviour of the module to exit the 1st while loop explicitly via \n",
    "# Amend by checking if bust BEFORE the hard totals are updated. Still no change, the hard total > 17 condition seems to take\n",
    "# precedence. \n",
    "\n",
    "# Can tinker with this one. \n",
    "\n",
    "# Observation - your very clear casino commentary has specified the case of a hard total, but uses the linguistic conjunction 'or'.\n",
    "# Your CF specified AND. \n",
    "# Strategy - go back and clarify conditions with a truth table. \n",
    "\n",
    "def dealerturn(dealer):\n",
    "    \n",
    "    dealer.append(shuffled_shoe.pop()) \n",
    "    \n",
    "    soft_total_indicator = evaluate_hand(dealer)  # Evaluates whether there is an ace in the dealer's hand\n",
    "    \n",
    "    hard_total = hard_total_score(dealer)  # Computes hand's score whether this is a hard or soft hand \n",
    "      \n",
    "    while (soft_total_indicator == 0) and (hard_total < 17): #deals with hard totals, exit when >17, or soft (or when bust)\n",
    "        \n",
    "        drawcard = shuffled_shoe.pop()\n",
    "        dealer.append(drawcard)\n",
    "        print(\"As dealer's score is less than 17, dealer draws {}.\".format(drawcard))\n",
    "        print(dealer)\n",
    "        soft_total_indicator = evaluate_hand(dealer)\n",
    "        hard_total = hard_total_score(dealer)\n",
    "        dealerbust_indicator = check_if_bust(dealer)\n",
    "        if dealerbust_indicator == 1:\n",
    "            print(\"Dealer has bust with total of {}\".format(hard_total))\n",
    "            dealerscore = hard_total\n",
    "            dealerbust_indicator = 1\n",
    "            break\n",
    "    else:\n",
    "        print(\"Either dealer has chosen to stick or has drawn an ace.\")\n",
    "    \n",
    "    if soft_total_indicator == 1:\n",
    "        soft_total = soft_total_score(dealer)\n",
    "        while (soft_total[0] == 'H'):\n",
    "            drawcard = shuffled_shoe.pop()\n",
    "            dealer.append(drawcard)\n",
    "            print(\"Dealer draws {}.\".format(drawcard))\n",
    "            soft_total = soft_total_score(dealer)\n",
    "            if soft_total[0] == 'B':\n",
    "                print(\"Dealer has bust\")\n",
    "                dealerscore = soft_total[1]\n",
    "                dealerbust_indicator = 1\n",
    "                break\n",
    "        else:\n",
    "            dealerscore = soft_total[1]\n",
    "            dealerbust_indicator = 0\n",
    "    else:\n",
    "        dealerscore = hard_total\n",
    "        dealerbust_indicator = 0\n",
    "    print(dealer)\n",
    "    \n",
    "    return dealer, dealerscore, dealerbust_indicator"
   ]
  }
 ],
 "metadata": {
  "kernelspec": {
   "display_name": "Python 3",
   "language": "python",
   "name": "python3"
  },
  "language_info": {
   "codemirror_mode": {
    "name": "ipython",
    "version": 3
   },
   "file_extension": ".py",
   "mimetype": "text/x-python",
   "name": "python",
   "nbconvert_exporter": "python",
   "pygments_lexer": "ipython3",
   "version": "3.7.4"
  }
 },
 "nbformat": 4,
 "nbformat_minor": 2
}
