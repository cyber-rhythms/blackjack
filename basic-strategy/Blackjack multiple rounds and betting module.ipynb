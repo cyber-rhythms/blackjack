{
 "cells": [
  {
   "cell_type": "markdown",
   "metadata": {},
   "source": [
    "Objective 1b - build a working model of multiple rounds of Blackjack, with betting functionality\n",
    "\n",
    "There are a number of functionalities that I would like to build into the module in another script to start answering some meatier questions.\n",
    "\n",
    "A simple betting module that can in its most simplest iteration specify a player's betting behaviour.\n",
    "It must be able to accurately compute amounts paid out at the end of each hand.\n",
    "It must be able to track amounts paid out by the dealer, and amounts won by the player historically.\n",
    "\n",
    "Amend the existing modules to simulate the effect of multiple rounds being played in one \"shoe\", as is done in casinos, and this is crucial to assess the effects of card counting as a later objective. \n",
    "\n",
    "Skeleton module completed. Functionality:\n",
    "\n",
    "* Module can encode initial capital stock, simple rule-based player betting behaviour at the beginning. \n",
    "* Module can simulate multiple hands being played.\n",
    "* Module can compute payoffs and losses at the end of each hand, with caveats, and store the evolution of the player's capital stock, which can subsequently accessed for statistical analysis.\n",
    "* Module can simulate the effects of reshuffling close to the end of the shoe. Frequency of reshuffling is controlled by a user defined threshold parameter that represents the cards remaining as a proportion of the total number of cards that the casino uses at the beginning of the shoe."
   ]
  },
  {
   "cell_type": "code",
   "execution_count": 548,
   "metadata": {},
   "outputs": [],
   "source": [
    "# Import modules\n",
    "\n",
    "import random\n",
    "import timeit\n",
    "from collections import Counter"
   ]
  },
  {
   "cell_type": "code",
   "execution_count": 607,
   "metadata": {},
   "outputs": [],
   "source": [
    "def getcards(decks=1):\n",
    "    \"\"\"Brings out a number of sealed decks of cards in their original order to the virutal gaming table.\n",
    "\n",
    "    Creates a dictionary tracking the name of each card, its quantity, and its value\n",
    "    \n",
    "    Keyword argument:\n",
    "        decks {int} -- the number of 52-card decks that the casino is using (default 1)\n",
    "    \n",
    "    Returns:\n",
    "        dictionary{keys: values} -- dictionary object where keys are the card name (e.g. 'K' for King )\n",
    "                                    and where the values are a list object containing the card's quantity and its value.\n",
    "                                    \n",
    "    The value for the ace contains three elements, as aces can further take on the value of 1 or 11, depending on \n",
    "    the context of the hand. No distinction is made between card suits, i.e. spades, hearts, clubs, diamonds.\n",
    "    \"\"\"\n",
    "    \n",
    "    deck = {}\n",
    "    total_cards = decks * 52\n",
    "    card_quantity = int(total_cards / 13)\n",
    "    \n",
    "    deck['A'] = [card_quantity, 1, 11]\n",
    "\n",
    "    for card in range(2, 11):\n",
    "        deck[str(card)] = [card_quantity, card]\n",
    "    \n",
    "    for card in \"JQK\":\n",
    "        deck[str(card)] = [card_quantity, 10]\n",
    "        \n",
    "    return deck, total_cards\n",
    "\n",
    "deck, total_cards = getcards(decks=1)"
   ]
  },
  {
   "cell_type": "code",
   "execution_count": 608,
   "metadata": {},
   "outputs": [],
   "source": [
    "def shuffler(deck, total_cards):\n",
    "    \n",
    "    \"\"\"Shuffles the decks of cards, and places them inside the virtual gaming table card-shoe.\"\"\"\n",
    "    \n",
    "    shuffled_shoe = []\n",
    "    \n",
    "    while len(shuffled_shoe) < total_cards:\n",
    "        draw = random.choice(list(deck))\n",
    "        if deck[draw][0] == 0:\n",
    "            pass\n",
    "        else:\n",
    "            deck[draw][0] -= 1\n",
    "            shuffled_shoe.append(draw)\n",
    "            \n",
    "    return shuffled_shoe\n",
    "\n",
    "shuffled_shoe = shuffler(deck, total_cards)"
   ]
  },
  {
   "cell_type": "code",
   "execution_count": 609,
   "metadata": {},
   "outputs": [
    {
     "name": "stdout",
     "output_type": "stream",
     "text": [
      "['J', '3', '6', '2', '10', 'Q', '3', '5', 'K', '7', '4', '7', '9', '7', '3', 'K', '8', 'J', '9', '2', 'Q', '5', 'Q', '5', '7', '10', 'A', '3', 'K', 'J', '2', '2', 'K', '8', 'A', 'A', '5', 'Q', 'A', '8', '10', '10', '8', 'J', '6', '9', '9', '6', '4', '4', '4', '6']\n"
     ]
    }
   ],
   "source": [
    "print(shuffled_shoe)"
   ]
  },
  {
   "cell_type": "code",
   "execution_count": 595,
   "metadata": {},
   "outputs": [],
   "source": [
    "# Set initial capital and player betting behaviour\n",
    "\n",
    "initial_capital = 500\n",
    "capital_stock = [initial_capital]\n",
    "bet_per_round = 5"
   ]
  },
  {
   "cell_type": "code",
   "execution_count": 676,
   "metadata": {},
   "outputs": [
    {
     "name": "stdout",
     "output_type": "stream",
     "text": [
      "No Blackjack this time\n",
      "Decided to hit, as I'm a risk lover and under 18\n",
      "Decided to hit, as I'm a risk lover and under 18\n",
      "...I've gone bust. Why is my lucky charm that I got from the Amazonian shaman not working?\n",
      "Player Score:24\n",
      "['6', '3', '5', 'K']\n",
      "Dealer draws a card as under or equal to 16\n",
      "Dealer draws a card as under or equal to 16\n",
      "Dealer sticks on 17 or over\n",
      "Dealer Score:20\n",
      "['Q', '3', '7']\n",
      "Player busts. Dealer wins the hand.\n",
      "Player loses 5 pounds\n",
      "Player now has 490 pounds remaining.\n",
      "No need for reshuffling yet, as card threshold not reached\n"
     ]
    }
   ],
   "source": [
    "def openinghand():\n",
    "    \n",
    "    \"\"\"Deals two cards to the player, and one to the dealer from the shuffled shoe.\n",
    "    \n",
    "    Cards are taken sequentially from the shuffled card shoe, beginning with the last element of the shuffled shoe list object\n",
    "    and working in reverse order.\"\"\"\n",
    "    \n",
    "    player = []\n",
    "    dealer = []\n",
    "\n",
    "    player.append(shuffled_shoe.pop())\n",
    "    player.append(shuffled_shoe.pop())\n",
    "    \n",
    "    dealer.append(shuffled_shoe.pop())\n",
    "    \n",
    "    if ('A' in player) and (('10' in player) or ('J' in player) or ('Q' in player) or ('K' in player)):\n",
    "        print(\"Blackjack, house pays out at 3:2\")\n",
    "    else:\n",
    "        print(\"No Blackjack this time\")\n",
    "        \n",
    "    return player, dealer\n",
    "\n",
    "player, dealer = openinghand()\n",
    "\n",
    "def playerturn():\n",
    "    \n",
    "    \"\"\"Evaluates the player's score, and keeps drawing cards until the player has a score of more than 18\"\"\"\n",
    "    \n",
    "    cardvalues = []\n",
    "    for card in player:\n",
    "        cardvalues.append(deck[card][1])\n",
    "\n",
    "    while sum(cardvalues) < 18:\n",
    "        drawcard = shuffled_shoe.pop()\n",
    "        player.append(drawcard)\n",
    "        cardvalues.append(deck[drawcard][1])\n",
    "        print(\"Decided to hit, as I'm a risk lover and under 18\")\n",
    "        \n",
    "    if sum(cardvalues) > 21:\n",
    "        print(\"...I've gone bust. Why is my lucky charm that I got from the Amazonian shaman not working?\")\n",
    "    else:\n",
    "        print(\"Decided to stick\")\n",
    "        \n",
    "    print(\"Player Score:\" + str(sum(cardvalues)))\n",
    "    print(player)\n",
    "        \n",
    "    return player, sum(cardvalues)\n",
    "\n",
    "player, playerscore = playerturn() \n",
    "\n",
    "def dealerturn():\n",
    "    \n",
    "    \"\"\"Evaluates the dealer's score, and keeps drawing cards until dealer has a score of 17 or more.\"\"\"\n",
    "    \n",
    "    cardvalues = []\n",
    "    for card in dealer:\n",
    "        cardvalues.append(deck[card][1])\n",
    "        \n",
    "    while sum(cardvalues) <= 16:\n",
    "        drawcard = shuffled_shoe.pop()\n",
    "        dealer.append(drawcard)\n",
    "        cardvalues.append(deck[drawcard][1])\n",
    "        print(\"Dealer draws a card as under or equal to 16\")\n",
    "    \n",
    "    if sum(cardvalues) > 21:\n",
    "        print(\"Dealer goes bust\")\n",
    "    else:\n",
    "        print(\"Dealer sticks on 17 or over\")\n",
    "    \n",
    "    print(\"Dealer Score:\" + str(sum(cardvalues)))\n",
    "    print(dealer)\n",
    "    \n",
    "    return dealer, sum(cardvalues)\n",
    "\n",
    "dealer, dealerscore = dealerturn()\n",
    "\n",
    "def handoutcome():\n",
    "    \n",
    "    \"\"\"Compares player's and dealer's scores and encodes the outcome.\n",
    "    \n",
    "    Can be extended if analysis required tracking the evolution of this variable.\"\"\"\n",
    "\n",
    "    if playerscore > 21:\n",
    "        if dealerscore > 21:\n",
    "            hand_outcome = 0\n",
    "            print(\"Player busts. Dealer also busts. But the 'edge' means that player loses the hand.\")\n",
    "        else:\n",
    "            hand_outcome = 0\n",
    "            print(\"Player busts. Dealer wins the hand.\")\n",
    "    else:\n",
    "        if dealerscore > 21:\n",
    "            hand_outcome = 1\n",
    "            print(\"Dealer busts. Player wins the hand\")\n",
    "        else:\n",
    "            if dealerscore > playerscore:\n",
    "                hand_outcome = 0\n",
    "                print(\"Dealer has higher score. Dealer wins the hand\")\n",
    "            elif dealerscore < playerscore:\n",
    "                hand_outcome = 1\n",
    "                print(\"Player has higher score. Player wins the hand\")\n",
    "            else:\n",
    "                hand_outcome = 2\n",
    "                print(\"Both dealer and player have the same score, the outcome of the hand is a draw\")\n",
    "    \n",
    "    return hand_outcome\n",
    "\n",
    "hand_outcome = handoutcome()\n",
    "\n",
    "def payout_loss(hand_outcome):\n",
    "    \n",
    "    \"\"\"Uses the outcome to calculate payoffs/losses, and updates player's capital stock accordingly.\"\"\"\n",
    "    \n",
    "    if hand_outcome == 1:\n",
    "        new_capital = capital_stock[-1] + bet_per_round\n",
    "        capital_stock.append(new_capital)\n",
    "        print(\"House pays out \" + str(bet_per_round) + \" pounds\")\n",
    "    elif hand_outcome == 0:\n",
    "        new_capital = capital_stock[-1] - bet_per_round\n",
    "        capital_stock.append(new_capital)\n",
    "        print(\"Player loses \" + str(bet_per_round) + \" pounds\")\n",
    "    else:\n",
    "        print(\"Draw, no change to player's initial capital\")\n",
    "        \n",
    "    print(\"Player now has\" + \" \" + str(capital_stock[-1]) + \" \" + \"pounds remaining.\")\n",
    "        \n",
    "    return capital_stock\n",
    "\n",
    "capital_stock = payout_loss(hand_outcome)\n",
    "\n",
    "def replenish_shoe(threshold, total_cards, deck, shuffled_shoe):\n",
    "    \n",
    "    \"\"\"Checks whether or not  we are near the end of a shoe. If so, discards the remaining cards in the current shoe,\n",
    "    collects them together with remaining cards that were discarded in previous hands, reshuffles all of them togther,\n",
    "    and finally replenishes the shoe.\"\"\"\n",
    "    \n",
    "    fraction_cards_remaining = len(shuffled_shoe) / total_cards\n",
    "    \n",
    "    if fraction_cards_remaining < threshold:\n",
    "        shuffled_shoe.clear\n",
    "        deck, total_cards = getcards(decks=1)\n",
    "        shuffled_shoe = shuffler(deck, total_cards)\n",
    "        print(\"As we are reaching near the end of the shoe, we will reshuffle\")\n",
    "    else:\n",
    "        print(\"No need for reshuffling yet, as card threshold not reached\")\n",
    "\n",
    "    return shuffled_shoe\n",
    "\n",
    "shuffled_shoe = replenish_shoe(0.1, total_cards, deck, shuffled_shoe)"
   ]
  },
  {
   "cell_type": "code",
   "execution_count": 677,
   "metadata": {},
   "outputs": [
    {
     "name": "stdout",
     "output_type": "stream",
     "text": [
      "[500, 505, 510, 515, 510, 505, 500, 495, 490, 485, 490, 495, 490, 485, 490, 485, 480, 475, 470, 475, 480, 475, 470, 475, 480, 485, 490, 495, 500, 505, 500, 495, 490]\n"
     ]
    }
   ],
   "source": [
    "print(capital_stock)"
   ]
  },
  {
   "cell_type": "code",
   "execution_count": 611,
   "metadata": {},
   "outputs": [],
   "source": [
    "# Worry about efficiency later\n",
    "# O/S - basic strategy\n",
    "# O/S - hard vs soft hands and dual ace value\n",
    "# O/S - player double, split, \n",
    "\n",
    "# Player blackjack automatically terminates the round\n",
    "\n",
    "# Have to code in the ability to simulate multiple iterations\n",
    "# Have to address the issue of the shuffled shoe running out of cards. Can amend this by coding a replenish rule that \n",
    "# Is now the time to separate function definition and function calls so that I can put them through a simulator that runs it\n",
    "# many times?"
   ]
  },
  {
   "cell_type": "code",
   "execution_count": 612,
   "metadata": {},
   "outputs": [
    {
     "name": "stdout",
     "output_type": "stream",
     "text": [
      "House pays out 5 pounds\n",
      "Player now has 515 pounds remaining.\n"
     ]
    }
   ],
   "source": [
    "# Betting and payout modules\n",
    "# There might be an issue with your payout_loss() function - not storing post-hand capital changes appropriately.\n",
    "# Takes the outcome of the hand and computes payoffs or losses. Adjusts the player's capital stock depending on the outcome\n",
    "# of the hand. \n",
    "\n",
    "# * Now have rough knowledge of referencing variables outside a function, and the distinction between global and local variables\n",
    "# together with namespaces. Area for further reading - Python documentation would be best.\n",
    "# I know that modifying (assigning) a global variable outside a function inside a local context yields an unbound error using equals\n",
    "# But looking at this module, does this mean that you can still call methods on global variables? i.e. use append\n",
    "\n",
    "def payout_loss(hand_outcome):\n",
    "    \n",
    "    if hand_outcome == 1:\n",
    "        new_capital = capital_stock[-1] + bet_per_round\n",
    "        capital_stock.append(new_capital)\n",
    "        print(\"House pays out \" + str(bet_per_round) + \" pounds\")\n",
    "    elif hand_outcome == 0:\n",
    "        new_capital = capital_stock[-1] - bet_per_round\n",
    "        capital_stock.append(new_capital)\n",
    "        print(\"Player loses \" + str(bet_per_round) + \" pounds\")\n",
    "    else:\n",
    "        print(\"Draw, no change to player's initial capital\")\n",
    "        \n",
    "    print(\"Player now has\" + \" \" + str(capital_stock[-1]) + \" \" + \"pounds remaining.\")\n",
    "        \n",
    "    return capital_stock\n",
    "\n",
    "capital_stock = payout_loss(hand_outcome)"
   ]
  },
  {
   "cell_type": "code",
   "execution_count": 613,
   "metadata": {},
   "outputs": [
    {
     "name": "stdout",
     "output_type": "stream",
     "text": [
      "No need for reshuffling yet, as card threshold not reached\n"
     ]
    }
   ],
   "source": [
    "# End of shoe - replenish the shuffled shoe according to a shuffle-frequency parameter; a user-defined parameter that implicitly\n",
    "# determines how quickly a shoe finishes, cards are replenished and reshuffling occurs. This parameter is specified\n",
    "# as the percentage of cards remaining in the shoe, and when the number of cards in the shoe falls below this percentage,\n",
    "# replenishment occurs. Make concise explanation later but for now it suffices.\n",
    "\n",
    "# Amend the commentary of getcards() - it is not simulating getting cards from the back room , but also corresponds to\n",
    "# replenshing it. \n",
    "\n",
    "# Payoff_loss() will continue to use the last hand outcome and make adjsutments to the player's capital stock even after\n",
    "# there are no longer any cards to be dealt due to an empty card shoe.\n",
    "\n",
    "# Getting the sense that this will be a perfect opportunity to learn about classes,namespaces, local and global variables\n",
    "\n",
    "# Opted to include deck, shuffled_shoe and total_cards as arguments to this function rather than declaring them within\n",
    "# the local context of the function as global variables\n",
    "\n",
    "\n",
    "def replenish_shoe(threshold, total_cards, deck, shuffled_shoe):\n",
    "    \n",
    "    fraction_cards_remaining = len(shuffled_shoe) / total_cards\n",
    "    \n",
    "    if fraction_cards_remaining < threshold:\n",
    "        shuffled_shoe.clear\n",
    "        deck, total_cards = getcards(decks=1)\n",
    "        shuffled_shoe = shuffler(deck, total_cards)\n",
    "        print(\"As we are reaching near the end of the shoe, we will reshuffle\")\n",
    "    else:\n",
    "        print(\"No need for reshuffling yet, as card threshold not reached\")\n",
    "\n",
    "    return shuffled_shoe\n",
    "\n",
    "shuffled_shoe = replenish_shoe(0.1, total_cards, deck, shuffled_shoe)"
   ]
  },
  {
   "cell_type": "code",
   "execution_count": 614,
   "metadata": {},
   "outputs": [
    {
     "data": {
      "text/plain": [
       "[500, 505, 510, 515]"
      ]
     },
     "execution_count": 614,
     "metadata": {},
     "output_type": "execute_result"
    }
   ],
   "source": [
    "capital_stock"
   ]
  },
  {
   "cell_type": "code",
   "execution_count": 465,
   "metadata": {},
   "outputs": [],
   "source": [
    "# Python is returning an error when I use this code module \"local variable 'total_cards' referenced before assignment\".\n",
    "# I don't understand, but don't want this to disrupt the flow so I will come back to it later. For now deactivate it,\n",
    "# find a quick workaround and dig a little later. It's either to do with namespacing or local and global variables.\n",
    "\n",
    "def replenish_shoe(threshold):\n",
    "    \n",
    "    fraction_cards_remaining = len(shuffled_shoe) / total_cards\n",
    "    \n",
    "    if fraction_cards_remaining < threshold:\n",
    "        shuffled_shoe.clear()\n",
    "        deck, total_cards = getcards(decks=1)\n",
    "        print(\"As we are reaching near the end of the shoe, we will reshuffle\")\n",
    "        \n",
    "    else:\n",
    "        return shuffled_shoe"
   ]
  },
  {
   "cell_type": "code",
   "execution_count": 466,
   "metadata": {},
   "outputs": [
    {
     "ename": "UnboundLocalError",
     "evalue": "local variable 'total_cards' referenced before assignment",
     "output_type": "error",
     "traceback": [
      "\u001b[1;31m---------------------------------------------------------------------------\u001b[0m",
      "\u001b[1;31mUnboundLocalError\u001b[0m                         Traceback (most recent call last)",
      "\u001b[1;32m<ipython-input-466-b9a854627520>\u001b[0m in \u001b[0;36m<module>\u001b[1;34m\u001b[0m\n\u001b[1;32m----> 1\u001b[1;33m \u001b[0mreplenish_shoe\u001b[0m\u001b[1;33m(\u001b[0m\u001b[1;36m0.1\u001b[0m\u001b[1;33m)\u001b[0m\u001b[1;33m\u001b[0m\u001b[1;33m\u001b[0m\u001b[0m\n\u001b[0m",
      "\u001b[1;32m<ipython-input-465-080bd44fae25>\u001b[0m in \u001b[0;36mreplenish_shoe\u001b[1;34m(threshold)\u001b[0m\n\u001b[0;32m      5\u001b[0m \u001b[1;32mdef\u001b[0m \u001b[0mreplenish_shoe\u001b[0m\u001b[1;33m(\u001b[0m\u001b[0mthreshold\u001b[0m\u001b[1;33m)\u001b[0m\u001b[1;33m:\u001b[0m\u001b[1;33m\u001b[0m\u001b[1;33m\u001b[0m\u001b[0m\n\u001b[0;32m      6\u001b[0m \u001b[1;33m\u001b[0m\u001b[0m\n\u001b[1;32m----> 7\u001b[1;33m     \u001b[0mfraction_cards_remaining\u001b[0m \u001b[1;33m=\u001b[0m \u001b[0mlen\u001b[0m\u001b[1;33m(\u001b[0m\u001b[0mshuffled_shoe\u001b[0m\u001b[1;33m)\u001b[0m \u001b[1;33m/\u001b[0m \u001b[0mtotal_cards\u001b[0m\u001b[1;33m\u001b[0m\u001b[1;33m\u001b[0m\u001b[0m\n\u001b[0m\u001b[0;32m      8\u001b[0m \u001b[1;33m\u001b[0m\u001b[0m\n\u001b[0;32m      9\u001b[0m     \u001b[1;32mif\u001b[0m \u001b[0mfraction_cards_remaining\u001b[0m \u001b[1;33m<\u001b[0m \u001b[0mthreshold\u001b[0m\u001b[1;33m:\u001b[0m\u001b[1;33m\u001b[0m\u001b[1;33m\u001b[0m\u001b[0m\n",
      "\u001b[1;31mUnboundLocalError\u001b[0m: local variable 'total_cards' referenced before assignment"
     ]
    }
   ],
   "source": [
    "replenish_shoe(0.1)"
   ]
  },
  {
   "cell_type": "code",
   "execution_count": 440,
   "metadata": {},
   "outputs": [
    {
     "name": "stdout",
     "output_type": "stream",
     "text": [
      "Once deleted, variables cannot be recovered. Proceed (y/[n])? y\n"
     ]
    }
   ],
   "source": [
    "% reset"
   ]
  },
  {
   "cell_type": "code",
   "execution_count": null,
   "metadata": {},
   "outputs": [],
   "source": []
  }
 ],
 "metadata": {
  "kernelspec": {
   "display_name": "Python 3",
   "language": "python",
   "name": "python3"
  },
  "language_info": {
   "codemirror_mode": {
    "name": "ipython",
    "version": 3
   },
   "file_extension": ".py",
   "mimetype": "text/x-python",
   "name": "python",
   "nbconvert_exporter": "python",
   "pygments_lexer": "ipython3",
   "version": "3.7.4"
  }
 },
 "nbformat": 4,
 "nbformat_minor": 2
}
