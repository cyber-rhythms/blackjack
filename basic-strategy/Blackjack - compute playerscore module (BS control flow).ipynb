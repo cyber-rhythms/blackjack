{
 "cells": [
  {
   "cell_type": "markdown",
   "metadata": {},
   "source": [
    " "
   ]
  },
  {
   "cell_type": "markdown",
   "metadata": {},
   "source": [
    "* Tested with all cases from multiwaysplits(2) notebook; and scores are all correctly evaluated."
   ]
  },
  {
   "cell_type": "code",
   "execution_count": 4,
   "metadata": {},
   "outputs": [],
   "source": [
    "import pandas as pd\n",
    "import random\n",
    "\n",
    "def getcards(decks=1):\n",
    "    \"\"\"Brings out a number of sealed decks of cards in their original order to the virutal gaming table.\n",
    "\n",
    "    Creates a dictionary tracking the name of each card, its quantity, and its value\n",
    "    \n",
    "    Keyword argument:\n",
    "        decks {int} -- the number of 52-card decks that the casino is using (default 1)\n",
    "    \n",
    "    Returns:\n",
    "        dictionary{keys: values} -- dictionary object where keys are the card name (e.g. 'K' for King )\n",
    "                                    and where the values are a list object containing the card's quantity and its value.\n",
    "                                    \n",
    "    The value for the ace contains three elements, as aces can further take on the value of 1 or 11, depending on \n",
    "    the context of the hand. No distinction is made between card suits, i.e. spades, hearts, clubs, diamonds.\n",
    "    \"\"\"\n",
    "    \n",
    "    deck = {}\n",
    "    total_cards = decks * 52\n",
    "    card_quantity = int(total_cards / 13)\n",
    "    \n",
    "    deck['A'] = [card_quantity, 1, 11]\n",
    "\n",
    "    for card in range(2, 11):\n",
    "        deck[str(card)] = [card_quantity, card]\n",
    "    \n",
    "    for card in \"JQK\":\n",
    "        deck[str(card)] = [card_quantity, 10]\n",
    "        \n",
    "    return deck, total_cards\n",
    "\n",
    "deck, total_cards = getcards(decks=1)\n",
    "\n",
    "def shuffler(deck, total_cards):\n",
    "    \n",
    "    \"\"\"Shuffles the decks of cards, and places them inside the virtual gaming table card-shoe.\"\"\"\n",
    "    \n",
    "    shuffled_shoe = []\n",
    "    \n",
    "    while len(shuffled_shoe) < total_cards:\n",
    "        draw = random.choice(list(deck))\n",
    "        if deck[draw][0] == 0:\n",
    "            pass\n",
    "        else:\n",
    "            deck[draw][0] -= 1\n",
    "            shuffled_shoe.append(draw)\n",
    "            \n",
    "    return shuffled_shoe\n",
    "\n",
    "shuffled_shoe = shuffler(deck, total_cards)"
   ]
  },
  {
   "cell_type": "code",
   "execution_count": 13,
   "metadata": {},
   "outputs": [],
   "source": [
    "# Work on computing player score here.\n",
    "# Current thinking - when the player has a hard hand, computing player score is trivial.\n",
    "# However, when player has a soft hand, it gets more tricky, and player score is multivalued. \n",
    "# It is multi-valued for more cases than the dealerscore - see the graphs you've drawn, and should include in write up\n",
    "# Dealer score is multivalued only for a residual between 1 and 5, where residual is the sum of card values net of the 1st ace\n",
    "# and for which subsequent aces have value 1. This is by virtue of the rules governing dealer behaviour for drawing\n",
    "# cards. \n",
    "\n",
    "# Player score is multivalued for 1 <= residual <= 10. Due to this indeterminacy, it makes no sense to calculate the player's\n",
    "# score, and it makes sense only to do it when the player has no outstanding decision-action sequences i.e. when his turn has \n",
    "# concluded. So we assume that the player's hand has terminated - this module will be called when \n",
    "\n",
    "# A heuristic I want to try is the following. Let's group by category of hand we will pass into the compute score module\n",
    "\n",
    "# 1. Hard totals - trivial - sum of values. \n",
    "# 2. Splits - deal with this at the end.\n",
    "\n",
    "# 3. Soft totals heuristic:\n",
    "\n",
    "# Regardless of player hand,\n",
    "# If residual >= 11, then hard total -> trivial computation\n",
    "# If residual <= 10, then choose the ace to be the maximum value, so playerscore as close to 21 as possible."
   ]
  },
  {
   "cell_type": "code",
   "execution_count": 5,
   "metadata": {},
   "outputs": [],
   "source": [
    "# Module for evaluating hand, with some adaptation to arguments. Be aware that this was designed as part of dealerturn module.\n",
    "\n",
    "def evaluate_hand(player):\n",
    "    if 'A' in player:\n",
    "        soft_total_indicator = 1\n",
    "        print(\"Player has a soft total\")\n",
    "    else:\n",
    "        soft_total_indicator = 0\n",
    "        print(\"Player has a hard total\")\n",
    "    return soft_total_indicator"
   ]
  },
  {
   "cell_type": "code",
   "execution_count": 9,
   "metadata": {},
   "outputs": [],
   "source": [
    "# Module for computing player score, given that all decision-action sequences have terminated. Tested in context of\n",
    "# entire CF; and is working as expected. \n",
    "\n",
    "def compute_playerscore(player):\n",
    "    soft_total_indicator = evaluate_hand(player)\n",
    "    \n",
    "    if soft_total_indicator:\n",
    "        if player[0] != 'A':\n",
    "            ace_index = player.index('A')\n",
    "            player[0], player[ace_index] = player[ace_index], player[0]\n",
    "            \n",
    "        cardvalues_no_ace = [deck[card][1] for card in player[1::]]\n",
    "        \n",
    "        if sum(cardvalues_no_ace) >= 11:\n",
    "            playerscore = deck['A'][1] + sum(cardvalues_no_ace)\n",
    "        elif sum(cardvalues_no_ace) <= 10:\n",
    "            playerscore = deck['A'][2] + sum(cardvalues_no_ace)   \n",
    "    else:\n",
    "        playerscore = sum([deck[card][1] for card in player])\n",
    "        \n",
    "    return playerscore"
   ]
  },
  {
   "cell_type": "code",
   "execution_count": 10,
   "metadata": {},
   "outputs": [],
   "source": [
    "# Extension - to apply in the case of multiple hands.\n",
    "\n",
    "def compute_multiple_playerscores(player_split_hands):\n",
    "    playerscore_list = []\n",
    "    for hand in player_split_hands:\n",
    "        playerscore = compute_playerscore(hand)\n",
    "        playerscore_list.append(playerscore)\n",
    "    \n",
    "    return playerscore_list"
   ]
  },
  {
   "cell_type": "code",
   "execution_count": 21,
   "metadata": {},
   "outputs": [],
   "source": [
    "player_split_hands = [['A', '7'], ['A', '2'], ['A', '2'], ['A', '7'], ['A', '5'], ['A', '9'], ['A', '4'], ['A', '2'], ['A', '2'], ['A', '3'], ['A', '9']]"
   ]
  },
  {
   "cell_type": "code",
   "execution_count": 22,
   "metadata": {},
   "outputs": [
    {
     "name": "stdout",
     "output_type": "stream",
     "text": [
      "Player has a soft total\n",
      "Player has a soft total\n",
      "Player has a soft total\n",
      "Player has a soft total\n",
      "Player has a soft total\n",
      "Player has a soft total\n",
      "Player has a soft total\n",
      "Player has a soft total\n",
      "Player has a soft total\n",
      "Player has a soft total\n",
      "Player has a soft total\n"
     ]
    },
    {
     "data": {
      "text/plain": [
       "[18, 13, 13, 18, 16, 20, 15, 13, 13, 14, 20]"
      ]
     },
     "execution_count": 22,
     "metadata": {},
     "output_type": "execute_result"
    }
   ],
   "source": [
    "compute_multiple_playerscores(player_split_hands)"
   ]
  },
  {
   "cell_type": "code",
   "execution_count": null,
   "metadata": {},
   "outputs": [],
   "source": []
  }
 ],
 "metadata": {
  "kernelspec": {
   "display_name": "Python 3",
   "language": "python",
   "name": "python3"
  },
  "language_info": {
   "codemirror_mode": {
    "name": "ipython",
    "version": 3
   },
   "file_extension": ".py",
   "mimetype": "text/x-python",
   "name": "python",
   "nbconvert_exporter": "python",
   "pygments_lexer": "ipython3",
   "version": "3.7.4"
  }
 },
 "nbformat": 4,
 "nbformat_minor": 2
}
