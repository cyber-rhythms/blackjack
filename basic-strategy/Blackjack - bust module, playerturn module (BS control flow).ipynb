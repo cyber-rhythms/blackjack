{
 "cells": [
  {
   "cell_type": "code",
   "execution_count": 1,
   "metadata": {},
   "outputs": [],
   "source": [
    "# The contents of this module is to focus on the overall control flow of entire module. Not really considering splits.\n",
    "# O/S = If dealer gets blackjack AND player gets blackjack, everyone loses their bets - needs to be factored into outcome. \n",
    "\n",
    "import pandas as pd\n",
    "import random"
   ]
  },
  {
   "cell_type": "code",
   "execution_count": 2,
   "metadata": {},
   "outputs": [],
   "source": [
    "columns = ['2', '3', '4', '5', '6', '7', '8', '9', '10', 'J', 'Q', 'K', 'A']\n",
    "index = [i for i in range(5, 22)]\n",
    "index2 = ['A2', 'A3', 'A4', 'A5', 'A6', 'A7', 'A8', 'A9', 'A10']\n",
    "index3 = ['2, 2','3, 3', '4, 4', '5, 5', '6, 6', '7, 7', '8, 8', '9, 9', '10, 10', 'J, J', 'Q, Q', 'K, K', 'A, A']\n",
    "indices = index + index2 + index3\n",
    "basic_strategy_table = pd.read_csv('basic-strategy.csv', header=None)\n",
    "basic_strategy_table.index = indices\n",
    "basic_strategy_table.columns = columns\n",
    "\n",
    "basic_strategy_table_no_doubling = pd.read_csv('basic-strategy-no-doubling.csv', header=None)\n",
    "basic_strategy_table_no_doubling.index = indices\n",
    "basic_strategy_table_no_doubling.columns = columns\n",
    "\n",
    "def getcards(decks=1):\n",
    "    \"\"\"Brings out a number of sealed decks of cards in their original order to the virutal gaming table.\n",
    "\n",
    "    Creates a dictionary tracking the name of each card, its quantity, and its value\n",
    "    \n",
    "    Keyword argument:\n",
    "        decks {int} -- the number of 52-card decks that the casino is using (default 1)\n",
    "    \n",
    "    Returns:\n",
    "        dictionary{keys: values} -- dictionary object where keys are the card name (e.g. 'K' for King )\n",
    "                                    and where the values are a list object containing the card's quantity and its value.\n",
    "                                    \n",
    "    The value for the ace contains three elements, as aces can further take on the value of 1 or 11, depending on \n",
    "    the context of the hand. No distinction is made between card suits, i.e. spades, hearts, clubs, diamonds.\n",
    "    \"\"\"\n",
    "    \n",
    "    deck = {}\n",
    "    total_cards = decks * 52\n",
    "    card_quantity = int(total_cards / 13)\n",
    "    \n",
    "    deck['A'] = [card_quantity, 1, 11]\n",
    "\n",
    "    for card in range(2, 11):\n",
    "        deck[str(card)] = [card_quantity, card]\n",
    "    \n",
    "    for card in \"JQK\":\n",
    "        deck[str(card)] = [card_quantity, 10]\n",
    "        \n",
    "    return deck, total_cards\n",
    "\n",
    "deck, total_cards = getcards(decks=1)\n",
    "\n",
    "def shuffler(deck, total_cards):\n",
    "    \n",
    "    \"\"\"Shuffles the decks of cards, and places them inside the virtual gaming table card-shoe.\"\"\"\n",
    "    \n",
    "    shuffled_shoe = []\n",
    "    \n",
    "    while len(shuffled_shoe) < total_cards:\n",
    "        draw = random.choice(list(deck))\n",
    "        if deck[draw][0] == 0:\n",
    "            pass\n",
    "        else:\n",
    "            deck[draw][0] -= 1\n",
    "            shuffled_shoe.append(draw)\n",
    "            \n",
    "    return shuffled_shoe\n",
    "\n",
    "shuffled_shoe = shuffler(deck, total_cards)"
   ]
  },
  {
   "cell_type": "code",
   "execution_count": 3,
   "metadata": {},
   "outputs": [
    {
     "name": "stdout",
     "output_type": "stream",
     "text": [
      "['2', '2', '3', '4', 'A', '9', '7', '6', '6', '3', '6', '6', '9', '2', '2']\n"
     ]
    }
   ],
   "source": [
    "rigged_shoe = []\n",
    "\n",
    "for card in \"2234A9766366922\":\n",
    "    rigged_shoe.append(card)\n",
    "print(rigged_shoe)"
   ]
  },
  {
   "cell_type": "code",
   "execution_count": 4,
   "metadata": {},
   "outputs": [
    {
     "name": "stdout",
     "output_type": "stream",
     "text": [
      "No Blackjack this time\n"
     ]
    }
   ],
   "source": [
    "def openinghand():\n",
    "    \n",
    "    \"\"\"Deals two cards to the player, and one to the dealer from the shuffled shoe. Outputs a message if there is Blackjack\n",
    "    \n",
    "    Cards are taken sequentially from the shuffled card shoe, beginning with the last element of the shuffled shoe list object\n",
    "    and working in reverse order.\"\"\"\n",
    "    \n",
    "    player = []\n",
    "    dealer = []\n",
    "\n",
    "    player.append(rigged_shoe.pop())\n",
    "    player.append(rigged_shoe.pop())\n",
    "    \n",
    "    dealer.append(rigged_shoe.pop())\n",
    "    \n",
    "    if ('A' in player) and (('10' in player) or ('J' in player) or ('Q' in player) or ('K' in player)):\n",
    "        player_blackjack = 1\n",
    "        print(\"Blackjack, house pays out at 3:2\")\n",
    "    else:\n",
    "        player_blackjack = 0\n",
    "        print(\"No Blackjack this time\")\n",
    "        \n",
    "    return player, dealer, player_blackjack\n",
    "\n",
    "player, dealer, player_blackjack = openinghand()"
   ]
  },
  {
   "cell_type": "code",
   "execution_count": 5,
   "metadata": {},
   "outputs": [],
   "source": [
    "def decode(action):\n",
    "    if action == 'Sp':\n",
    "        message = 'split'\n",
    "    elif action == 'H':\n",
    "        message = 'hit'\n",
    "    elif action == 'D':\n",
    "        message = 'double down'\n",
    "    else:\n",
    "        message = 'stick'\n",
    "    return message"
   ]
  },
  {
   "cell_type": "code",
   "execution_count": 6,
   "metadata": {},
   "outputs": [],
   "source": [
    "def basic_player_multiple_hits(player, dealer, player_blackjack):\n",
    "    \n",
    "    if len(player) == 2:\n",
    "        \n",
    "        if player_blackjack == 1:\n",
    "            cardvalues = [21]\n",
    "            decision = 'S'\n",
    "            print(\"It's my lucky day\")\n",
    "        else:\n",
    "            if player[0] == player[1]:\n",
    "                lookup_pairs = player[0] + \", \" + player[1]\n",
    "                decision = basic_strategy_table.loc[lookup_pairs, dealer[0]]\n",
    "                print(\"As I have a pair of {}s, I am going to {}\".format(player[0], decode(decision)))\n",
    "            elif ('A' in player):\n",
    "                if player[0] == 'A':\n",
    "                    lookup_soft_total = player[0] + player[1]\n",
    "                else:\n",
    "                    lookup_soft_total = player[1] + player[0]\n",
    "                \n",
    "                decision = basic_strategy_table.loc[lookup_soft_total, dealer[0]]\n",
    "                print(\"As I have a soft total, I am going to {}\".format(decode(decision)))\n",
    "            else:\n",
    "                cardvalues = []\n",
    "                for card in player:\n",
    "                    cardvalues.append(deck[card][1])\n",
    "                \n",
    "                lookup_hard_total = sum(cardvalues)\n",
    "                decision = basic_strategy_table.loc[lookup_hard_total, dealer[0]]\n",
    "                print(\"I have a total of {}, I am going to {}\".format(lookup_hard_total, decode(decision)))\n",
    "        \n",
    "    if len(player) > 2: \n",
    "        \n",
    "        if 'A' in player:  # check if the >3 hand has an ace, i.e. is potentially soft.\n",
    "            if player[0] != 'A':  # re-order dual ace to the left\n",
    "                ace_index = player.index('A')  \n",
    "                player[0], player[ace_index] = player[ace_index], player[0]\n",
    "            \n",
    "            cardvalues_no_ace = [deck[card][1] for card in player[1::]]\n",
    "            \n",
    "            if sum(cardvalues_no_ace) <= 10: # check soft totals\n",
    "                lookup_soft_total = player[0] + str(sum(cardvalues_no_ace))\n",
    "\n",
    "                decision = basic_strategy_table_no_doubling.loc[lookup_soft_total, dealer[0]]\n",
    "                print(\"As I have a soft {}, that is {} or {}, I am going to {}.\".format(11 + sum(cardvalues_no_ace), 1 + sum(cardvalues_no_ace), 11 + sum(cardvalues_no_ace), decode(decision)))\n",
    "            else:\n",
    "                lookup_hard_total = deck['A'][1] + sum(cardvalues_no_ace) # variable naming, hard total as ace can only take value 1 now\n",
    "                \n",
    "                decision = basic_strategy_table_no_doubling.loc[lookup_hard_total, dealer[0]]\n",
    "                print(\"I have {}, so I am going to {}\".format(1 + sum(cardvalues_no_ace), decode(decision)))\n",
    "        else:\n",
    "            cardvalues = [deck[card][1] for card in player]\n",
    "            lookup_hard_total = sum(cardvalues)\n",
    "            \n",
    "            decision = basic_strategy_table_no_doubling.loc[lookup_hard_total, dealer[0]]\n",
    "            print(\"I have {}, so I am going to {}\".format(sum(cardvalues), decode(decision)))\n",
    "            \n",
    "    return decision"
   ]
  },
  {
   "cell_type": "code",
   "execution_count": 7,
   "metadata": {},
   "outputs": [],
   "source": [
    "def player_action(player, decision):\n",
    "    \n",
    "    if decision == 'S':\n",
    "        print(player)\n",
    "        return player# -> go to dealerturn()\n",
    "\n",
    "    if decision == 'D':\n",
    "        drawcard = rigged_shoe.pop()\n",
    "        player.append(drawcard)\n",
    "        print(player) #-> go to dealerturn(), and also have to modify payout\n",
    "        return player\n",
    "        \n",
    "    \n",
    "    if decision == 'H':\n",
    "        drawcard = rigged_shoe.pop()\n",
    "        player.append(drawcard)\n",
    "        print(player) #-> now there are three cards in player hand and one in dealer\n",
    "        return player\n",
    "        \n",
    "\n",
    "    if decision == 'Sp': \n",
    "        multiple_hand_player = [player[i:i+1] for i in range(len(player))] #splits the player hand into two cards and places them in two sub-hands\n",
    "    \n",
    "        drawcard1 = shuffled_shoe.pop()\n",
    "        drawcard2 = shuffled_shoe.pop()\n",
    "    \n",
    "        print(\"After, splitting, I receive {} and {} in each of my hands\".format(drawcard1, drawcard2))\n",
    "    \n",
    "        multiple_hand_player[0].append(drawcard1)\n",
    "        multiple_hand_player[1].append(drawcard2)\n",
    "        \n",
    "        print(\"My new hands are: \" + str(multiple_hand_player))\n",
    "        \n",
    "        return multiple_hand_player"
   ]
  },
  {
   "cell_type": "code",
   "execution_count": 8,
   "metadata": {},
   "outputs": [],
   "source": [
    "def dealerturn(dealer, player_blackjack):\n",
    "    \n",
    "    \"\"\"Evaluates the dealer's score, and keeps drawing cards until dealer has a score of 17 or more.\"\"\"\n",
    "    \n",
    "    if player_blackjack == 1:\n",
    "        cardvalues = [deck[dealer[0]][1]]\n",
    "        print(\"Dealer draws no cards as player has blackjacked\")\n",
    "    else: \n",
    "        cardvalues = []\n",
    "        for card in dealer:\n",
    "            cardvalues.append(deck[card][1])\n",
    "        \n",
    "        while sum(cardvalues) <= 16:\n",
    "            drawcard = rigged_shoe.pop()\n",
    "            dealer.append(drawcard)\n",
    "            cardvalues.append(deck[drawcard][1])\n",
    "            print(\"Dealer draws a card as under or equal to 16\")\n",
    "    \n",
    "        if sum(cardvalues) > 21:\n",
    "            print(\"Dealer goes bust\")\n",
    "        else:\n",
    "            print(\"Dealer sticks on 17 or over\")\n",
    "    \n",
    "        print(\"Dealer Score:\" + str(sum(cardvalues)))\n",
    "        print(dealer)\n",
    "    \n",
    "    return dealer, sum(cardvalues)"
   ]
  },
  {
   "cell_type": "code",
   "execution_count": 9,
   "metadata": {},
   "outputs": [],
   "source": [
    "def handoutcome(playerscore, dealerscore, player_blackjack):\n",
    "    \n",
    "    \"\"\"Compares player's and dealer's scores and encodes the outcome.\n",
    "    \n",
    "    Can be extended if analysis required tracking the evolution of this variable.\"\"\"\n",
    "    \n",
    "    if player_blackjack == 1:\n",
    "        hand_outcome = 3\n",
    "        print(\"Player wins the hand with Blackjack\")\n",
    "    else:\n",
    "        if playerscore > 21:\n",
    "            if dealerscore > 21:\n",
    "                hand_outcome = 0\n",
    "                print(\"Player busts. Dealer also busts. But the 'edge' means that player loses the hand.\")\n",
    "            else:\n",
    "                hand_outcome = 0\n",
    "                print(\"Player busts. Dealer wins the hand.\")\n",
    "        else:\n",
    "            if dealerscore > 21:\n",
    "                hand_outcome = 1\n",
    "                print(\"Dealer busts. Player wins the hand\")\n",
    "            else:\n",
    "                if dealerscore > playerscore:\n",
    "                    hand_outcome = 0\n",
    "                    print(\"Dealer has higher score. Dealer wins the hand\")\n",
    "                elif dealerscore < playerscore:\n",
    "                    hand_outcome = 1\n",
    "                    print(\"Player has higher score. Player wins the hand\")\n",
    "                else:\n",
    "                    hand_outcome = 2\n",
    "                    print(\"Both dealer and player have the same score, the outcome of the hand is a draw\")\n",
    "    \n",
    "    return hand_outcome"
   ]
  },
  {
   "cell_type": "code",
   "execution_count": 10,
   "metadata": {},
   "outputs": [],
   "source": [
    "def payout_loss(hand_outcome):\n",
    "    \n",
    "    \"\"\"Uses the outcome to calculate payoffs/losses, and updates player's capital stock accordingly.\"\"\"\n",
    "    \n",
    "    global capital_stock\n",
    "    \n",
    "    if hand_outcome == 0:\n",
    "        new_capital = capital_stock[-1] - bet_per_round\n",
    "        capital_stock.append(new_capital)\n",
    "        print(\"Player loses \" + str(bet_per_round) + \" pounds.\")\n",
    "    \n",
    "    elif hand_outcome == 1:\n",
    "        new_capital = capital_stock[-1] + bet_per_round\n",
    "        capital_stock.append(new_capital)\n",
    "        print(\"House pays out \" + str(bet_per_round) + \" pound.s\")\n",
    "        \n",
    "    elif hand_outcome == 2:\n",
    "        new_capital = capital_stock[-1]\n",
    "        capital_stock.append(new_capital)\n",
    "        print(\"Draw, no change to player's initial capital.\")\n",
    "        \n",
    "    else:\n",
    "        new_capital = capital_stock[-1] + (1.5 * bet_per_round)\n",
    "        capital_stock.append(new_capital)\n",
    "        print(\"Player blackjacks, house pays out \" + str(1.5 * bet_per_round) + \" pounds.\")\n",
    "        \n",
    "    print(\"Player now has\" + \" \" + str(capital_stock[-1]) + \" \" + \"pounds remaining.\")\n",
    "        \n",
    "    return capital_stock"
   ]
  },
  {
   "cell_type": "code",
   "execution_count": 11,
   "metadata": {},
   "outputs": [],
   "source": [
    "def replenish_shoe(threshold):\n",
    "    \n",
    "    \"\"\"Checks whether or not  we are near the end of a shoe. If so, discards the remaining cards in the current shoe,\n",
    "    collects them together with remaining cards that were discarded in previous hands, reshuffles all of them togther,\n",
    "    and finally replenishes the shoe.\"\"\"\n",
    "    \n",
    "    global deck\n",
    "    global total_cards\n",
    "    global shuffled_shoe\n",
    "    \n",
    "    fraction_cards_remaining = len(shuffled_shoe) / total_cards\n",
    "    \n",
    "    if fraction_cards_remaining < threshold:\n",
    "        shuffled_shoe.clear\n",
    "        deck, total_cards = getcards(decks=1)\n",
    "        shuffled_shoe = shuffler(deck, total_cards)\n",
    "        print(\"As we are reaching near the end of the shoe, we will reshuffle\")\n",
    "    else:\n",
    "        print(\"No need for reshuffling yet, as card threshold not reached\")\n",
    "\n",
    "    return shuffled_shoe"
   ]
  },
  {
   "cell_type": "code",
   "execution_count": 12,
   "metadata": {},
   "outputs": [],
   "source": [
    "# Busting module\n",
    "# O/S - simplify the logic, if possible. Make it a function of a generic argument like hand?\n",
    "\n",
    "def check_if_bust(player):\n",
    "    if 'A' in player:\n",
    "        if player[0] != 'A':\n",
    "            ace_index = player.index('A')\n",
    "            player[0], player[ace_index] = player[ace_index], player[0]\n",
    "            \n",
    "        card_values_no_ace = [deck[card][1] for card in player[1::]]\n",
    "        \n",
    "        if sum(card_values_no_ace) <= 10:\n",
    "            bust_indicator = 0\n",
    "        elif sum(card_values_no_ace) > 20:\n",
    "            bust_indicator = 1\n",
    "        else:\n",
    "            bust_indicator = 0\n",
    "    else:\n",
    "        card_values = [deck[card][1] for card in player]\n",
    "        \n",
    "        if sum(card_values) > 21:\n",
    "            bust_indicator = 1\n",
    "        else:\n",
    "            bust_indicator = 0\n",
    "            \n",
    "    return bust_indicator"
   ]
  },
  {
   "cell_type": "code",
   "execution_count": 13,
   "metadata": {},
   "outputs": [],
   "source": [
    "deck, total_cards = getcards(decks=6)\n",
    "shuffled_shoe = shuffler(deck, total_cards)"
   ]
  },
  {
   "cell_type": "code",
   "execution_count": 14,
   "metadata": {},
   "outputs": [],
   "source": [
    "rigged_shoe = shuffled_shoe"
   ]
  },
  {
   "cell_type": "code",
   "execution_count": 15,
   "metadata": {},
   "outputs": [
    {
     "name": "stdout",
     "output_type": "stream",
     "text": [
      "['2', 'A', '4', 'A', '9', '5', 'A', 'A', '9', 'A', '2', 'A', 'A', 'A', 'A', '9', '2', 'A', '6', '2', '2']\n"
     ]
    }
   ],
   "source": [
    "rigged_shoe = []\n",
    "\n",
    "for card in \"2A4A95AA9A2AAAA92A622\":\n",
    "    rigged_shoe.append(card)\n",
    "    \n",
    "print(rigged_shoe)"
   ]
  },
  {
   "cell_type": "code",
   "execution_count": 16,
   "metadata": {},
   "outputs": [
    {
     "name": "stdout",
     "output_type": "stream",
     "text": [
      "No Blackjack this time\n",
      "Player's hand is ['2', '2']. Dealer's hand is ['6'].\n",
      "As I have a pair of 2s, I am going to split\n",
      "After, splitting, I receive 3 and 3 in each of my hands\n",
      "My new hands are: [['2', '3'], ['2', '3']]\n",
      "Loop terminated by decision = {S, D}\n"
     ]
    }
   ],
   "source": [
    "# Write control flow here. This feels like it has shed a lot of light on issues I was grappling with.\n",
    "# If decision = {S, D}, then the CF takes over.\n",
    "# Structuring the decision = {H} and no bust case is trickier - some subtleties regarding control flow.\n",
    "\n",
    "# Thrown an error message - it's because there is an edge case, A10,\n",
    "# which has not been specified in the basic strategy lookup table.\n",
    "# The corresponding rigged shoe setup that throws this error is given above.\n",
    "# Amended by adding an 'A10' entry to basic strategy table. This needs to be explained in the write-up.\n",
    "\n",
    "# Need to code up the print messages to better understand under what conditions the loop terminates.\n",
    "\n",
    "player, dealer, player_blackjack = openinghand()\n",
    "print(\"Player's hand is {}.\".format(player) + \" Dealer's hand is {}.\".format(dealer))\n",
    "decision = basic_player_multiple_hits(player, dealer, player_blackjack)\n",
    "player = player_action(player, decision)\n",
    "\n",
    "if (decision == 'S') or (decision =='D'):\n",
    "    print(\"go to dealer, CF takes over\")\n",
    "else:\n",
    "    while decision == 'H':\n",
    "        bust_indicator = check_if_bust(player)\n",
    "        \n",
    "        if bust_indicator == 0:\n",
    "            print(\"Continue decision-action sequence\")\n",
    "            decision = basic_player_multiple_hits(player, dealer, player_blackjack)\n",
    "            player = player_action(player, decision)\n",
    "        else:\n",
    "            print(\"Now dealer's turn as I have gone bust, CF takes over\")\n",
    "            break\n",
    "    else:\n",
    "        print(\"Loop terminated by decision = {S, D}\")"
   ]
  },
  {
   "cell_type": "code",
   "execution_count": 26,
   "metadata": {},
   "outputs": [],
   "source": [
    "# Have to deal with issue where the given a player hand, and the dealer receive a picture i.e. Dealer = [J/Q/K], decision module\n",
    "# looks up dealer[0], and for these cards, it won't be present in the lookup table.\n",
    "\n",
    "# Can either do a lookup of J/Q/K value in the dictionary and lookup points value '10' in BS table\n",
    "# OR add columns that are exactly same as '10' in BS table to include J/Q/K.\n",
    "\n",
    "# Going to add to the BS table, and check against other strategy tables. Also applies to pairs - done."
   ]
  },
  {
   "cell_type": "code",
   "execution_count": 49,
   "metadata": {
    "scrolled": true
   },
   "outputs": [
    {
     "name": "stdout",
     "output_type": "stream",
     "text": [
      "No Blackjack this time\n",
      "Player's hand is ['10', '2']. Dealer's upcard is ['2'].\n",
      "I have a total of 12, I am going to hit\n",
      "['10', '2', 'Q']\n",
      "Now dealer's turn as I have gone bust, CF takes over\n"
     ]
    }
   ],
   "source": [
    "# This is proposed refinement of above that aims to trim down some redundant conditions.\n",
    "# Last else that breaks out of the while loop is only triggered when decision == 'S' or 'D'.\n",
    "# Merge the 1st, that checks whether to initiate while loop with else that breaks out of the while loop; so the\n",
    "# while is skipped over if decision - {S, D}.\n",
    "\n",
    "# In CF diagram terms, is this merging the flow from dealer turn onwards \n",
    "\n",
    "player, dealer, player_blackjack = openinghand()\n",
    "print(\"Player's hand is {}.\".format(player) + \" Dealer's upcard is {}.\".format(dealer))\n",
    "decision = basic_player_multiple_hits(player, dealer, player_blackjack)\n",
    "player = player_action(player, decision)\n",
    "\n",
    "while decision == 'H':\n",
    "    playerbust_indicator = check_if_bust(player)\n",
    "        \n",
    "    if playerbust_indicator == 0:\n",
    "        print(\"Continue decision-action sequence\")\n",
    "        decision = basic_player_multiple_hits(player, dealer, player_blackjack)\n",
    "        player = player_action(player, decision)\n",
    "    else:\n",
    "        print(\"Now dealer's turn as I have gone bust, CF takes over\")\n",
    "        break\n",
    "else:\n",
    "    print(\"Decision-action sequence terminated by decision = {S, D}\")\n",
    "    print(\"Go to dealer, CF takes over\")"
   ]
  },
  {
   "cell_type": "code",
   "execution_count": 113,
   "metadata": {},
   "outputs": [],
   "source": [
    "# Process: After player has been dealt two cards, he will have to use BS table to look up his decision using the\n",
    "# basic_player_multiple_hits(player, dealer, player_blackjack) decision module; and then take an action using the \n",
    "# player_action(player, decision) module. \n",
    "\n",
    "# After this has happened, a mechanism is needed to co-ordinate whether the player's turn ends at that point, and the dealer's\n",
    "# begins; or whether the player takes another decision-action. \n",
    "\n",
    "# That is encapsulated in the playerturn(player, decision) function; which uses the output of the 1st decision-action sequence\n",
    "# to co-ordinate whether the entire CF of the round should proceed to the dealer's turn or not. \n",
    "\n",
    "def player_turn(player, decision):\n",
    "\n",
    "    while decision == 'H':\n",
    "        bust_indicator = check_if_bust(player)\n",
    "        \n",
    "        if bust_indicator == 0:\n",
    "            print(\"Continue decision-action sequence\")\n",
    "            decision = basic_player_multiple_hits(player, dealer, player_blackjack)\n",
    "            print(decision)\n",
    "            player = player_action(player, decision)\n",
    "            print(player)\n",
    "        else:\n",
    "            print(\"Now dealer's turn as I have gone bust, CF takes over\")\n",
    "            break\n",
    "    else:\n",
    "        print(\"Decision-action sequence terminated by decision = {S, D}\")\n",
    "        print(\"Go to dealer, CF takes over\")\n",
    "        \n",
    "    return player, decision"
   ]
  },
  {
   "cell_type": "code",
   "execution_count": 399,
   "metadata": {},
   "outputs": [
    {
     "name": "stdout",
     "output_type": "stream",
     "text": [
      "No Blackjack this time\n",
      "Player's hand is ['A', '2']. Dealer's upcard is ['9'].\n",
      "As I have a soft total, I am going to hit\n",
      "['A', '2', 'A']\n",
      "['A', '2', 'A'] H\n",
      "Continue decision-action sequence\n",
      "As I have a soft 14, that is 4 or 14, I am going to hit.\n",
      "H\n",
      "['A', '2', 'A', 'A']\n",
      "['A', '2', 'A', 'A']\n",
      "Continue decision-action sequence\n",
      "As I have a soft 15, that is 5 or 15, I am going to hit.\n",
      "H\n",
      "['A', '2', 'A', 'A', 'A']\n",
      "['A', '2', 'A', 'A', 'A']\n",
      "Continue decision-action sequence\n",
      "As I have a soft 16, that is 6 or 16, I am going to hit.\n",
      "H\n",
      "['A', '2', 'A', 'A', 'A', 'A']\n",
      "['A', '2', 'A', 'A', 'A', 'A']\n",
      "Continue decision-action sequence\n",
      "As I have a soft 17, that is 7 or 17, I am going to hit.\n",
      "H\n",
      "['A', '2', 'A', 'A', 'A', 'A', '2']\n",
      "['A', '2', 'A', 'A', 'A', 'A', '2']\n",
      "Continue decision-action sequence\n",
      "As I have a soft 19, that is 9 or 19, I am going to stick.\n",
      "S\n",
      "['A', '2', 'A', 'A', 'A', 'A', '2']\n",
      "['A', '2', 'A', 'A', 'A', 'A', '2']\n",
      "Decision-action sequence terminated by decision = 'S'\n",
      "Go to dealer, CF takes over\n"
     ]
    }
   ],
   "source": [
    "# CF with subsequent decision-action modules and their co-ordination bundled into a module that controls when they are invoked. \n",
    "\n",
    "player, dealer, player_blackjack = openinghand()\n",
    "print(\"Player's hand is {}.\".format(player) + \" Dealer's upcard is {}.\".format(dealer))\n",
    "decision = basic_player_multiple_hits(player, dealer, player_blackjack)\n",
    "player = player_action(player, decision)\n",
    "print(player, decision)\n",
    "player, decision, playerbust_indicator = player_turn(player, decision)"
   ]
  },
  {
   "cell_type": "code",
   "execution_count": 400,
   "metadata": {},
   "outputs": [
    {
     "name": "stdout",
     "output_type": "stream",
     "text": [
      "Decision-action sequence terminated by decision = 'S'\n",
      "Go to dealer, CF takes over\n"
     ]
    },
    {
     "data": {
      "text/plain": [
       "(['A', '2', 'A', 'A', 'A', 'A', '2'], 'S', 0)"
      ]
     },
     "execution_count": 400,
     "metadata": {},
     "output_type": "execute_result"
    }
   ],
   "source": [
    "player_turn(player, decision)"
   ]
  },
  {
   "cell_type": "code",
   "execution_count": 401,
   "metadata": {},
   "outputs": [
    {
     "name": "stdout",
     "output_type": "stream",
     "text": [
      "Player has a soft total\n"
     ]
    },
    {
     "data": {
      "text/plain": [
       "19"
      ]
     },
     "execution_count": 401,
     "metadata": {},
     "output_type": "execute_result"
    }
   ],
   "source": [
    "compute_playerscore(player)"
   ]
  },
  {
   "cell_type": "code",
   "execution_count": 138,
   "metadata": {},
   "outputs": [],
   "source": [
    "# Amended above to include playerbust indicator in event of decision = {D}; and now\n",
    "# make a cosmetic distinction between decision-action sequences being\n",
    "# terminated by decision = {S} and decision = {D}.\n",
    "\n",
    "# Note this cannot yet handle decision = {Sp}; covered in another area.\n",
    "\n",
    "def player_turn(player, decision):\n",
    "\n",
    "    while decision == 'H':\n",
    "        playerbust_indicator = check_if_bust(player)\n",
    "        \n",
    "        if playerbust_indicator == 0:\n",
    "            print(\"Continue decision-action sequence\")\n",
    "            decision = basic_player_multiple_hits(player, dealer, player_blackjack)\n",
    "            print(decision)\n",
    "            player = player_action(player, decision)\n",
    "            print(player)\n",
    "        else:\n",
    "            print(\"Now dealer's turn as I have gone bust, CF takes over\")\n",
    "            break\n",
    "    else:\n",
    "        if decision == 'S':\n",
    "            print(\"Decision-action sequence terminated by decision = 'S'\")\n",
    "            print(\"Go to dealer, CF takes over\")\n",
    "            playerbust_indicator = 0\n",
    "        elif decision == 'D':\n",
    "            print(\"Decision-action sequence terminated by decision = 'D'\")\n",
    "            print(\"Go to dealer, CF takes over\")\n",
    "            playerbust_indicator = check_if_bust(player)\n",
    "            \n",
    "            if playerbust_indicator:\n",
    "                print(\"Player doubled and busted.\")\n",
    "            else:\n",
    "                print(\"Player doubled and did not bust.\")\n",
    "        \n",
    "    return player, decision, playerbust_indicator"
   ]
  },
  {
   "cell_type": "code",
   "execution_count": 172,
   "metadata": {},
   "outputs": [],
   "source": [
    "# Working compute_playerscore module - taken from another notebook, and used to test CF\n",
    "\n",
    "def compute_playerscore(player):\n",
    "    soft_total_indicator = evaluate_hand(player)\n",
    "    \n",
    "    if soft_total_indicator:\n",
    "        if player[0] != 'A':\n",
    "            ace_index = player.index('A')\n",
    "            player[0], player[ace_index] = player[ace_index], player[0]\n",
    "            \n",
    "        cardvalues_no_ace = [deck[card][1] for card in player[1::]]\n",
    "        \n",
    "        if sum(cardvalues_no_ace) >= 11:\n",
    "            playerscore = deck['A'][1] + sum(cardvalues_no_ace)\n",
    "        elif sum(cardvalues_no_ace) <= 10:\n",
    "            playerscore = deck['A'][2] + sum(cardvalues_no_ace)   \n",
    "    else:\n",
    "        playerscore = sum([deck[card][1] for card in player])\n",
    "        \n",
    "    return playerscore"
   ]
  },
  {
   "cell_type": "code",
   "execution_count": 368,
   "metadata": {},
   "outputs": [],
   "source": [
    "# Evaluate player hand module called in compute_playerscore module - taken from another notebook and used to test CF\n",
    "\n",
    "def evaluate_hand(player):\n",
    "    if 'A' in player:\n",
    "        soft_total_indicator = 1\n",
    "        print(\"Player has a soft total\")\n",
    "    else:\n",
    "        soft_total_indicator = 0\n",
    "        print(\"Player has a hard total\")\n",
    "    return soft_total_indicator"
   ]
  },
  {
   "cell_type": "markdown",
   "metadata": {},
   "source": [
    "* The next few offshoots to my thinking are here to show your progress, and for debrief write up purposes. Now you look back you may think it is trivial, but there were some thorny game logical and algorithmic issues you were dealing with at the same time."
   ]
  },
  {
   "cell_type": "code",
   "execution_count": 118,
   "metadata": {},
   "outputs": [
    {
     "ename": "IndentationError",
     "evalue": "expected an indented block (<ipython-input-118-95bfd5931949>, line 21)",
     "output_type": "error",
     "traceback": [
      "\u001b[1;36m  File \u001b[1;32m\"<ipython-input-118-95bfd5931949>\"\u001b[1;36m, line \u001b[1;32m21\u001b[0m\n\u001b[1;33m    return sum(card_values)\u001b[0m\n\u001b[1;37m    ^\u001b[0m\n\u001b[1;31mIndentationError\u001b[0m\u001b[1;31m:\u001b[0m expected an indented block\n"
     ]
    }
   ],
   "source": [
    "# CF has taken over, there will be no fedback decision-action sequences, and the remainder of CF is linear.\n",
    "# So now we can definitively compute the score of player hand, salvaging parts of the failed attempt below :-) - good one.\n",
    "# You knew it would come in handy\n",
    "# Also think about whether this can be generalisable to the evaluation of the dealer's score.\n",
    "\n",
    "# As there was difficulty in computing playerscore, I decided to do the simpler case of the dealer score, and then the playerscore\n",
    "\n",
    "def compute_playerscore(player):\n",
    "    if len(player) == 2:\n",
    "        if 'A' in player:\n",
    "            if player[0] != 'A':\n",
    "                ace_index = player.index('A')\n",
    "                player[0], player[ace_index] = player[ace_index], player[0]\n",
    "                \n",
    "            card_values = [11, deck[player[1]][1]]\n",
    "        \n",
    "        else:\n",
    "            card_values = [deck[card][1] for card in player]\n",
    "            \n",
    "    if len(player) > 3:\n",
    "        if 'A' in player:\n",
    "            \n",
    "    \n",
    "    return sum(card_values)      "
   ]
  },
  {
   "cell_type": "code",
   "execution_count": 4,
   "metadata": {},
   "outputs": [],
   "source": [
    "# These next modules were part of a failed attempt; above CF works. Left it here for notes purposes; and will be cleared up\n",
    "# in a review. \n",
    "\n",
    "# Two stages to this module.\n",
    "# 1. Take the player hand as input and compute and save the score, to be used \n",
    "# for evaluation of outcome.\n",
    "\n",
    "# 2. Feeding player hand into decision and action module - should this be\n",
    "# located within the module or outside the module?\n",
    "\n",
    "# This module has to be able to accomodate player hands of different lengths."
   ]
  },
  {
   "cell_type": "code",
   "execution_count": 36,
   "metadata": {},
   "outputs": [],
   "source": [
    "# For two card hands, look up values of each card in the dictionary and\n",
    "# compute the sum. \n",
    "\n",
    "# This is used when earlier decision module outputs decision = {S}\n",
    "\n",
    "# Q: For two card hands with an ace - what cases need to be considered?\n",
    "# A: Yellow decision = {S} squares.\n",
    "\n",
    "# AA - comes under pair, any in any case, a two card [A, A] which then\n",
    "# proceeds to dealer turn would not occur under BS. Every decision\n",
    "# associated with AA would lead to further splits, dealt with later,\n",
    "# or a hit, making it a three card hand.\n",
    "\n",
    "# A2 - A6 - all decisions are {H, D} so these do not need to be considered.\n",
    "# *A10, AJ, AQ, AK not specified as that would mean player blackjack - needs to be resolved.\n",
    "\n",
    "# A7 has 3 instances of decision = {S} which would mean a two card A7 hand\n",
    "# A8 - A9 has decision = {S} on every instance which would mean two card A8, A9 hands\n",
    "# For all two card instances where the BS specifies decision = {S}, it can\n",
    "# safely assumed that the ace takes on the value 11. \n",
    "\n",
    "# For two card hands that could have yielded a split - what cases?\n",
    "# Under BS, only way in which two card hands containing a pair can pass through\n",
    "# this module is (9,9) and (10,10) for which decision = {S}.\n",
    "# So this case can be bundled with a standard dictionary look up and sum()\n",
    "\n",
    "# *Later consideration - should I design this with a view to modularity?\n",
    "# That is should the new modules at each update be able to accomodate\n",
    "# the behaviour of previous modules?\n",
    "# Ideally yes, but I think you need to focus on getting a working module for\n",
    "# the more complex case done first before you start worrying about design\n",
    "# considerations where complex collapses into simple. #\n",
    "\n",
    "# Efficiency considerations later; get working code set up and optimisation later"
   ]
  },
  {
   "cell_type": "code",
   "execution_count": 34,
   "metadata": {},
   "outputs": [],
   "source": [
    "# Two card check_bust_score check score module completed.\n",
    "\n",
    "# ??? - You got a little confused here. It is not possible to go bust with a 2 card hand....!!!\n",
    "# Evaluate what went wrong with your thinking here during debrief write-up.\n",
    "# Actually this is fine, it's a module to compute the score. \n",
    "# Thinking was that computing score will be be necessary to determine\n",
    "# if a player is bust. And also that it would be needed anyway.\n",
    "\n",
    "# Clarifying the broader CF really helped here. \n",
    "\n",
    "def check_bust_score_module(player):\n",
    "    if 'A' in player:\n",
    "        if player[0] != 'A':\n",
    "            ace_index = player.index('A')\n",
    "            player[0], player[ace_index] = player[ace_index], player[0]\n",
    "                \n",
    "        card_values = [11, deck[player[1]][1]]\n",
    "        \n",
    "    else:\n",
    "        card_values = [deck[card][1] for card in player]\n",
    "        \n",
    "    return sum(card_values)"
   ]
  },
  {
   "cell_type": "code",
   "execution_count": 35,
   "metadata": {},
   "outputs": [
    {
     "data": {
      "text/plain": [
       "12"
      ]
     },
     "execution_count": 35,
     "metadata": {},
     "output_type": "execute_result"
    }
   ],
   "source": [
    "check_bust_score_module(['A', 'A'])"
   ]
  },
  {
   "cell_type": "code",
   "execution_count": 37,
   "metadata": {},
   "outputs": [],
   "source": [
    "# For three card hands, deal with simplest case where there are no aces\n",
    "# Look up the values in dictionary and add them up.\n",
    "\n",
    "# This module will be used when the earlier decision module outputs d = {H, D}\n",
    "\n",
    "# Consulting BS table.\n",
    "\n",
    "# Case bashing/rules - 3 card case\n",
    "\n",
    "# Clarity on the edge case [A, A, A] - possible in one case.\n",
    "\n",
    "# If [X, Y, Z] does not contain ace, then it's just a sum.\n",
    "\n",
    "# For three card hands containing an ace:\n",
    "# [A, X, Y] - ace takes value 1 if (X + Y) >= 11. \n",
    "# [X, A, Y] and [X, Y, A] - same, but put A at front of list so sum(X+Y) can\n",
    "# be computed. \n",
    "# So for these cases, it becomes a hard total, as the ace can only take the value 1\n",
    "# \n",
    "\n",
    "# [A, X, Y] - ace can take value 1 or 11 if (X + Y) <= 10\n",
    "# Score can be computed, but can take two values. \n",
    "# In this case, the hand is definitely not bust.\n",
    "# Is it meaningful to compute the score? And how should we treat it? BS table\n"
   ]
  },
  {
   "cell_type": "code",
   "execution_count": null,
   "metadata": {},
   "outputs": [],
   "source": [
    "# Extend this to hands of greater than length 2\n",
    "\n",
    "def check_bust_score_module(player):\n",
    "    if 'A' in player:\n",
    "        if player[0] != 'A':\n",
    "            ace_index = player.index('A')\n",
    "            player[0], player[ace_index] = player[ace_index], player[0]\n",
    "            \n",
    "        cardvalues_no_ace = [deck[card][1] for card in player[1::]]\n",
    "        \n",
    "        if sum(cardvalues_no_ace) <= 10:\n",
    "            ? # if the next \n",
    "        else:\n",
    "            card_values = [1, sum(cardvalues_no_ace)]\n",
    "    else:\n",
    "        card_values = [deck[card][1] for card in player]"
   ]
  },
  {
   "cell_type": "code",
   "execution_count": null,
   "metadata": {},
   "outputs": [],
   "source": []
  },
  {
   "cell_type": "code",
   "execution_count": null,
   "metadata": {},
   "outputs": [],
   "source": [
    "# Q: Might it be a better idea to separate the check bust and compute player score modules? \n",
    "\n",
    "# Q: Examine relationship between score computation and checking if bust. You have been *assuming that they naturally go together. \n",
    "\n",
    "# Problem - it is not actually possible to say what the score is for the above case where there is a question mark. \n",
    "\n",
    "# Had another think about the functionality of the check_bust_score_module - it needed clarifying, and CF needed to be scrutinised.\n",
    "# Context PD = {H}. If an earlier decision was to hit and a card was drawn, the CF needs to CHECK if the player is bust.\n",
    "\n",
    "# Otherwise, if we were to pass the player hand back to the decision module after the hand was bust, it wouldn't make any sense.\n",
    "# E.g. if player = [A, 3, 9] and dealer = [J], which is clearly bust, the player no longer can make any decisions and crucially,\n",
    "# the CF takes over. \n",
    "\n",
    "# If player is not bust, we need to feed his hand back into another decision-action sequence. This continues *indefinitely*,\n",
    "# with termination/escape from the loop only possible if either the decision becomes a stand or double {S,D}, OR the player busts.\n",
    "\n",
    "# Context PD = {S, D}. Evaluation of whether or not the player is bust is *irrelevant* for CF/player decision purposes. That\n",
    "# is because there is NO feedback into another decision-action sequence and the CF takes over.\n",
    "# However, score computation and determining whether the player is bust will be needed for evaluating hand outcome. \n",
    "\n"
   ]
  }
 ],
 "metadata": {
  "kernelspec": {
   "display_name": "Python 3",
   "language": "python",
   "name": "python3"
  },
  "language_info": {
   "codemirror_mode": {
    "name": "ipython",
    "version": 3
   },
   "file_extension": ".py",
   "mimetype": "text/x-python",
   "name": "python",
   "nbconvert_exporter": "python",
   "pygments_lexer": "ipython3",
   "version": "3.7.4"
  }
 },
 "nbformat": 4,
 "nbformat_minor": 2
}
