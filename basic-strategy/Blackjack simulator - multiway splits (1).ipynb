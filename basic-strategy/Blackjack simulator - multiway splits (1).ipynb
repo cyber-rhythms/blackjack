{
 "cells": [
  {
   "cell_type": "markdown",
   "metadata": {},
   "source": [
    "* Work on multi-way splits here. \n",
    "* Write down some of your design considerations here.\n",
    "\n",
    "* Module is now working for 7-way split. Technically it should be able to run for any number of splits. \n",
    "\n",
    "* Write this as function - done.\n",
    "\n",
    "* Investigate whether there will be an issue with playerturn() module INSIDE the for loop (to be placed in function) being called, as it calls the unmodified player_action() function. That contains a legacy decision = {Sp} piece of code using old variable assignments. Feeling is that nature of the CF in the main function means that it never will get passed a decision = {Sp}, and this is dealt with by player_action_parent and player_action_child. \n",
    "\n",
    "* Investigate whether the issue of hastily specified decision = {Sp} and a bust_indicator assignment is redundant. Feeling is that it is - according to CF diagrams, splits are dealt with during the 1st decision-action sequence (whether parent or child); and so by the time you get to PT, either a decision = {S,D} was taken, or player blackjacked, so no need to consider this possibility. \n",
    "\n",
    "* Function, for loop and individual iterations now all harmonised -> move on to the score computation.\n",
    "\n",
    "\n",
    "* Error 1: This code cannot deal with two pairs being drawn after the decision-action sequence in the for loop has determined a split. \n",
    "\n",
    "* As the commands inside IF conditional will generate a further split decision and reindex player, which in our case will be itself a pair, a pair and decision = {Sp} will be passed to playerturn(). This will then do nothing' and decision will be recorded in array as 'Sp', bust_indicator as 0, hand will be recorded as pair, which has been UNRESOLVED. So for 2 pairs being drawn, the IF conditional will only call ONE decision-action sequence before moving to resolve the hand, rather than TWO times. \n",
    "\n",
    "* Error 2: Following from error 1, this module cannot deal with long runs of the same card (in this example 7), coming after the first decision-action sequence on the iterable, that is indefinite numbers of pairs coming after the 1st decision-action sequence in the for loop iterator has been executed. \n",
    "\n",
    "These and some exceptional behaviour involving aces are all dealt with in multiway splits (2)."
   ]
  },
  {
   "cell_type": "code",
   "execution_count": 1,
   "metadata": {},
   "outputs": [],
   "source": [
    "import pandas as pd\n",
    "import random\n",
    "\n",
    "columns = ['2', '3', '4', '5', '6', '7', '8', '9', '10', 'J', 'Q', 'K', 'A']\n",
    "index = [i for i in range(5, 22)]\n",
    "index2 = ['A2', 'A3', 'A4', 'A5', 'A6', 'A7', 'A8', 'A9', 'A10']\n",
    "index3 = ['2, 2','3, 3', '4, 4', '5, 5', '6, 6', '7, 7', '8, 8', '9, 9', '10, 10', 'J, J', 'Q, Q', 'K, K', 'A, A']\n",
    "indices = index + index2 + index3\n",
    "basic_strategy_table = pd.read_csv('basic-strategy.csv', header=None)\n",
    "basic_strategy_table.index = indices\n",
    "basic_strategy_table.columns = columns\n",
    "\n",
    "basic_strategy_table_no_doubling = pd.read_csv('basic-strategy-no-doubling.csv', header=None)\n",
    "basic_strategy_table_no_doubling.index = indices\n",
    "basic_strategy_table_no_doubling.columns = columns"
   ]
  },
  {
   "cell_type": "code",
   "execution_count": 2,
   "metadata": {},
   "outputs": [],
   "source": [
    "def getcards(decks=1):\n",
    "    \"\"\"Brings out a number of sealed decks of cards in their original order to the virutal gaming table.\n",
    "\n",
    "    Creates a dictionary tracking the name of each card, its quantity, and its value\n",
    "    \n",
    "    Keyword argument:\n",
    "        decks {int} -- the number of 52-card decks that the casino is using (default 1)\n",
    "    \n",
    "    Returns:\n",
    "        dictionary{keys: values} -- dictionary object where keys are the card name (e.g. 'K' for King )\n",
    "                                    and where the values are a list object containing the card's quantity and its value.\n",
    "                                    \n",
    "    The value for the ace contains three elements, as aces can further take on the value of 1 or 11, depending on \n",
    "    the context of the hand. No distinction is made between card suits, i.e. spades, hearts, clubs, diamonds.\n",
    "    \"\"\"\n",
    "    \n",
    "    deck = {}\n",
    "    total_cards = decks * 52\n",
    "    card_quantity = int(total_cards / 13)\n",
    "    \n",
    "    deck['A'] = [card_quantity, 1, 11]\n",
    "\n",
    "    for card in range(2, 11):\n",
    "        deck[str(card)] = [card_quantity, card]\n",
    "    \n",
    "    for card in \"JQK\":\n",
    "        deck[str(card)] = [card_quantity, 10]\n",
    "        \n",
    "    return deck, total_cards\n",
    "\n",
    "deck, total_cards = getcards(decks=1)"
   ]
  },
  {
   "cell_type": "code",
   "execution_count": 3,
   "metadata": {},
   "outputs": [],
   "source": [
    "def shuffler(deck, total_cards):\n",
    "    \n",
    "    \"\"\"Shuffles the decks of cards, and places them inside the virtual gaming table card-shoe.\"\"\"\n",
    "    \n",
    "    shuffled_shoe = []\n",
    "    \n",
    "    while len(shuffled_shoe) < total_cards:\n",
    "        draw = random.choice(list(deck))\n",
    "        if deck[draw][0] == 0:\n",
    "            pass\n",
    "        else:\n",
    "            deck[draw][0] -= 1\n",
    "            shuffled_shoe.append(draw)\n",
    "            \n",
    "    return shuffled_shoe\n",
    "\n",
    "shuffled_shoe = shuffler(deck, total_cards)\n",
    "\n",
    "def openinghand():\n",
    "    \n",
    "    \"\"\"Deals two cards to the player, and one to the dealer from the shuffled shoe. Outputs a message if there is Blackjack\n",
    "    \n",
    "    Cards are taken sequentially from the shuffled card shoe, beginning with the last element of the shuffled shoe list object\n",
    "    and working in reverse order.\"\"\"\n",
    "    \n",
    "    player = []\n",
    "    dealer = []\n",
    "\n",
    "    player.append(shuffled_shoe.pop())\n",
    "    player.append(shuffled_shoe.pop())\n",
    "    \n",
    "    dealer.append(shuffled_shoe.pop())\n",
    "    \n",
    "    if ('A' in player) and (('10' in player) or ('J' in player) or ('Q' in player) or ('K' in player)):\n",
    "        player_blackjack = 1\n",
    "        print(\"Blackjack, house pays out at 3:2\")\n",
    "    else:\n",
    "        player_blackjack = 0\n",
    "        print(\"No Blackjack this time\")\n",
    "        \n",
    "    return player, dealer, player_blackjack\n",
    "\n",
    "def decode(action):\n",
    "    if action == 'Sp':\n",
    "        message = 'split'\n",
    "    elif action == 'H':\n",
    "        message = 'hit'\n",
    "    elif action == 'D':\n",
    "        message = 'double down'\n",
    "    else:\n",
    "        message = 'stick'\n",
    "    return message\n",
    "\n",
    "def basic_player_multiple_hits(player, dealer, player_blackjack):\n",
    "    \n",
    "    if len(player) == 2:\n",
    "        \n",
    "        if player_blackjack == 1:\n",
    "            cardvalues = [21]\n",
    "            decision = 'S'\n",
    "            print(\"It's my lucky day\")\n",
    "        else:\n",
    "            if player[0] == player[1]:\n",
    "                lookup_pairs = player[0] + \", \" + player[1]\n",
    "                decision = basic_strategy_table.loc[lookup_pairs, dealer[0]]\n",
    "                print(\"As I have a pair of {}s, I am going to {}\".format(player[0], decode(decision)))\n",
    "            elif ('A' in player):\n",
    "                if player[0] == 'A':\n",
    "                    lookup_soft_total = player[0] + player[1]\n",
    "                else:\n",
    "                    lookup_soft_total = player[1] + player[0]\n",
    "                \n",
    "                decision = basic_strategy_table.loc[lookup_soft_total, dealer[0]]\n",
    "                print(\"As I have a soft total, I am going to {}\".format(decode(decision)))\n",
    "            else:\n",
    "                cardvalues = []\n",
    "                for card in player:\n",
    "                    cardvalues.append(deck[card][1])\n",
    "                \n",
    "                lookup_hard_total = sum(cardvalues)\n",
    "                decision = basic_strategy_table.loc[lookup_hard_total, dealer[0]]\n",
    "                print(\"I have a total of {}, I am going to {}\".format(lookup_hard_total, decode(decision)))\n",
    "        \n",
    "    if len(player) > 2: \n",
    "        \n",
    "        if 'A' in player:  # check if the >3 hand has an ace, i.e. is potentially soft.\n",
    "            if player[0] != 'A':  # re-order dual ace to the left\n",
    "                ace_index = player.index('A')  \n",
    "                player[0], player[ace_index] = player[ace_index], player[0]\n",
    "            \n",
    "            cardvalues_no_ace = [deck[card][1] for card in player[1::]]\n",
    "            \n",
    "            if sum(cardvalues_no_ace) <= 10: # check soft totals\n",
    "                lookup_soft_total = player[0] + str(sum(cardvalues_no_ace))\n",
    "\n",
    "                decision = basic_strategy_table_no_doubling.loc[lookup_soft_total, dealer[0]]\n",
    "                print(\"As I have a soft {}, that is {} or {}, I am going to {}.\".format(11 + sum(cardvalues_no_ace), 1 + sum(cardvalues_no_ace), 11 + sum(cardvalues_no_ace), decode(decision)))\n",
    "            else:\n",
    "                lookup_hard_total = deck['A'][1] + sum(cardvalues_no_ace) # variable naming, hard total as ace can only take value 1 now\n",
    "                \n",
    "                decision = basic_strategy_table_no_doubling.loc[lookup_hard_total, dealer[0]]\n",
    "                print(\"I have {}, so I am going to {}\".format(1 + sum(cardvalues_no_ace), decode(decision)))\n",
    "        else:\n",
    "            cardvalues = [deck[card][1] for card in player]\n",
    "            lookup_hard_total = sum(cardvalues)\n",
    "            \n",
    "            decision = basic_strategy_table_no_doubling.loc[lookup_hard_total, dealer[0]]\n",
    "            print(\"I have {}, so I am going to {}\".format(sum(cardvalues), decode(decision)))\n",
    "            \n",
    "    return decision"
   ]
  },
  {
   "cell_type": "code",
   "execution_count": 4,
   "metadata": {},
   "outputs": [],
   "source": [
    "def player_action(player, decision):\n",
    "    \n",
    "    if decision == 'S':\n",
    "        print(player)\n",
    "        return player# -> go to dealerturn()\n",
    "\n",
    "    if decision == 'D':\n",
    "        drawcard = shuffled_shoe.pop()\n",
    "        player.append(drawcard)\n",
    "        print(player) #-> go to dealerturn(), and also have to modify payout\n",
    "        return player\n",
    "        \n",
    "    \n",
    "    if decision == 'H':\n",
    "        drawcard = shuffled_shoe.pop()\n",
    "        player.append(drawcard)\n",
    "        print(player) #-> now there are three cards in player hand and one in dealer\n",
    "        return player\n",
    "        \n",
    "\n",
    "    if decision == 'Sp': \n",
    "        multiple_hand_player = [player[i:i+1] for i in range(len(player))] #splits the player hand into two cards and places them in two sub-hands\n",
    "    \n",
    "        drawcard1 = shuffled_shoe.pop()\n",
    "        drawcard2 = shuffled_shoe.pop()\n",
    "    \n",
    "        print(\"After, splitting, I receive {} and {} in each of my hands\".format(drawcard1, drawcard2))\n",
    "    \n",
    "        multiple_hand_player[0].append(drawcard1)\n",
    "        multiple_hand_player[1].append(drawcard2)\n",
    "        \n",
    "        print(\"My new hands are: \" + str(multiple_hand_player))\n",
    "        \n",
    "        return multiple_hand_player"
   ]
  },
  {
   "cell_type": "code",
   "execution_count": 5,
   "metadata": {},
   "outputs": [],
   "source": [
    "def player_turn(player, decision):\n",
    "\n",
    "    while decision == 'H':\n",
    "        playerbust_indicator = check_if_bust(player)\n",
    "        \n",
    "        if playerbust_indicator == 0:\n",
    "            print(\"Continue decision-action sequence\")\n",
    "            decision = basic_player_multiple_hits(player, dealer, player_blackjack)\n",
    "            print(decision)\n",
    "            player = player_action(player, decision)\n",
    "            print(player)\n",
    "        else:\n",
    "            print(\"Now dealer's turn as I have gone bust, CF takes over\")\n",
    "            break\n",
    "    else:\n",
    "        if decision == 'S':\n",
    "            print(\"Decision-action sequence terminated by decision = 'S'\")\n",
    "            print(\"Go to dealer, CF takes over\")\n",
    "            playerbust_indicator = 0\n",
    "        elif decision == 'D':\n",
    "            print(\"Decision-action sequence terminated by decision = 'D'\")\n",
    "            print(\"Go to dealer, CF takes over\")\n",
    "            playerbust_indicator = check_if_bust(player)\n",
    "            \n",
    "            if playerbust_indicator:\n",
    "                print(\"Player doubled and busted.\")\n",
    "            else:\n",
    "                print(\"Player doubled and did not bust.\")\n",
    "                \n",
    "        elif decision == 'Sp':  # This part was added hastily - you need to think out the logic of this through.\n",
    "            playerbust_indicator = check_if_bust(player)\n",
    "        \n",
    "    return player, decision, playerbust_indicator"
   ]
  },
  {
   "cell_type": "code",
   "execution_count": 6,
   "metadata": {},
   "outputs": [],
   "source": [
    "def check_if_bust(player):\n",
    "    if 'A' in player:\n",
    "        if player[0] != 'A':\n",
    "            ace_index = player.index('A')\n",
    "            player[0], player[ace_index] = player[ace_index], player[0]\n",
    "            \n",
    "        card_values_no_ace = [deck[card][1] for card in player[1::]]\n",
    "        \n",
    "        if sum(card_values_no_ace) <= 10:\n",
    "            bust_indicator = 0\n",
    "        elif sum(card_values_no_ace) > 20:\n",
    "            bust_indicator = 1\n",
    "        else:\n",
    "            bust_indicator = 0\n",
    "    else:\n",
    "        card_values = [deck[card][1] for card in player]\n",
    "        \n",
    "        if sum(card_values) > 21:\n",
    "            bust_indicator = 1\n",
    "        else:\n",
    "            bust_indicator = 0\n",
    "            \n",
    "    return bust_indicator"
   ]
  },
  {
   "cell_type": "code",
   "execution_count": 7,
   "metadata": {},
   "outputs": [],
   "source": [
    "# Modify this to have specific 1st split functionality; think about merging later.\n",
    "# If further pairs are drawn, these need to be appended at the end. Work on this detail later; get overall flow first.\n",
    "# This is actually an important detail. Get a working, inefficient method done. \n",
    "\n",
    "def player_action_parent(player, decision):\n",
    "    \n",
    "    if decision == 'S':\n",
    "        print(player)\n",
    "        return player# -> go to dealerturn()\n",
    "\n",
    "    if decision == 'D':\n",
    "        drawcard = shuffled_shoe.pop()\n",
    "        player.append(drawcard)\n",
    "        print(player) #-> go to dealerturn(), and also have to modify payout\n",
    "        return player\n",
    "        \n",
    "    \n",
    "    if decision == 'H':\n",
    "        drawcard = shuffled_shoe.pop()\n",
    "        player.append(drawcard)\n",
    "        print(player) #-> now there are three cards in player hand and one in dealer\n",
    "        return player\n",
    "        \n",
    "\n",
    "    if decision == 'Sp': \n",
    "        player_split_hands = [player[i:i+1] for i in range(len(player))] #splits the player hand into two cards and places them in two sub-hands\n",
    "    \n",
    "        drawcard1 = shuffled_shoe.pop()\n",
    "        drawcard2 = shuffled_shoe.pop()\n",
    "                    \n",
    "        print(\"After, splitting, I receive {} and {} in each of my hands\".format(drawcard1, drawcard2))\n",
    "    \n",
    "        player_split_hands[0].append(drawcard1)\n",
    "        player_split_hands[1].append(drawcard2)\n",
    "        \n",
    "        if [hand[0] == hand[1] for hand in player_split_hands] == [True, False]:  # if additional pairs are drawn then these are placed at the end of the list of lists.\n",
    "            player_split_hands[0], player_split_hands[1] = player_split_hands[1], player_split_hands[0]\n",
    "        \n",
    "        print(\"My new hands are: \" + str(player_split_hands))\n",
    "        \n",
    "        return player_split_hands"
   ]
  },
  {
   "cell_type": "code",
   "execution_count": 18,
   "metadata": {},
   "outputs": [],
   "source": [
    "# This subsidiary module, when decision = {Sp}, will need to add a new empty list to the end of player_split_hands.\n",
    "# It will then need to transfer one card to that last list.\n",
    "# If another pair, then that needs to be at the end of the list. \n",
    "# Will run into namespace issues. Resolve later. \n",
    "\n",
    "def player_action_child(player, decision):\n",
    "    \n",
    "    if decision == 'S':\n",
    "        print(player)\n",
    "        return player# -> go to dealerturn()\n",
    "\n",
    "    if decision == 'D':\n",
    "        drawcard = shuffled_shoe.pop()\n",
    "        player.append(drawcard)\n",
    "        print(player) #-> go to dealerturn(), and also have to modify payout\n",
    "        return player\n",
    "        \n",
    "    \n",
    "    if decision == 'H':\n",
    "        drawcard = shuffled_shoe.pop()\n",
    "        player.append(drawcard)\n",
    "        print(player) #-> now there are three cards in player hand and one in dealer\n",
    "        return player  \n",
    "\n",
    "    if decision == 'Sp':\n",
    "        \n",
    "        index = player_split_hands.index(player) \n",
    "        \n",
    "        player_split_hands.insert(index + 1, list(player.pop()))  # Turn one hand with a pair into two separate hands inside player_split_hands\n",
    "    \n",
    "        drawcard1 = shuffled_shoe.pop()\n",
    "        drawcard2 = shuffled_shoe.pop()\n",
    "    \n",
    "        print(\"After, splitting, I receive {} and {} in each of my hands\".format(drawcard1, drawcard2))\n",
    "    \n",
    "        player_split_hands[index].append(drawcard1)\n",
    "        player_split_hands[index + 1].append(drawcard2)\n",
    "        \n",
    "        if [hand[0] == hand[1] for hand in player_split_hands[index:index + 2]] == [True, False]: # Ensures that if further pairs are drawn these are not resolved first.\n",
    "            player_split_hands[index], player_split_hands[index + 1] = player_split_hands[index + 1], player_split_hands[index]\n",
    "        \n",
    "        print(\"My new hands are: {} and {}.\".format(player_split_hands[index], player_split_hands[index + 1]))\n",
    "        \n",
    "        player = player_split_hands[index] \n",
    "        \n",
    "        return player\n",
    "    \n",
    "# Earlier iteration - return None, and only use this function to operate on the list of lists. Then if none, modify loop\n",
    "# or interrupt a la CF strategy.\n",
    "\n",
    "# This is where the issue lies. "
   ]
  },
  {
   "cell_type": "code",
   "execution_count": 191,
   "metadata": {},
   "outputs": [],
   "source": [
    "def player_multiple_turns(player_split_hands):\n",
    "    \n",
    "    decision_list = []\n",
    "    playerbust_indicator_list = []\n",
    "    \n",
    "    for hand in player_split_hands:\n",
    "        \n",
    "        decision = basic_player_multiple_hits(hand, dealer, player_blackjack)\n",
    "        player = player_action_child(hand, decision)\n",
    "        \n",
    "        if decision == 'Sp':\n",
    "            decision = basic_player_multiple_hits(player, dealer, player_blackjack)\n",
    "            player = player_action_child(player, decision)\n",
    "            \n",
    "        player, decision, playerbust_indicator = player_turn(player, decision)\n",
    "        decision_list.append(decision)\n",
    "        playerbust_indicator_list.append(playerbust_indicator)\n",
    "    \n",
    "    return player_split_hands, decision_list, playerbust_indicator_list"
   ]
  },
  {
   "cell_type": "code",
   "execution_count": 199,
   "metadata": {},
   "outputs": [
    {
     "name": "stdout",
     "output_type": "stream",
     "text": [
      "['2', 'A', '4', 'A', '9', '5', 'A', 'A', '7', 'A', '2', '7', 'A', '7', '2', '7', '7', '2', '7', '7']\n"
     ]
    }
   ],
   "source": [
    "rigged_shoe = []\n",
    "\n",
    "for card in \"2A4A95AA7A27A7277277\":\n",
    "    rigged_shoe.append(card)\n",
    "    \n",
    "print(rigged_shoe)"
   ]
  },
  {
   "cell_type": "code",
   "execution_count": 200,
   "metadata": {},
   "outputs": [],
   "source": [
    "deck, total_cards = getcards(decks=1)\n",
    "shuffled_shoe = rigged_shoe"
   ]
  },
  {
   "cell_type": "code",
   "execution_count": 201,
   "metadata": {},
   "outputs": [],
   "source": [
    "shuffled_shoe = rigged_shoe"
   ]
  },
  {
   "cell_type": "code",
   "execution_count": 202,
   "metadata": {},
   "outputs": [
    {
     "data": {
      "text/plain": [
       "['2']"
      ]
     },
     "execution_count": 202,
     "metadata": {},
     "output_type": "execute_result"
    }
   ],
   "source": [
    "dealer"
   ]
  },
  {
   "cell_type": "code",
   "execution_count": 203,
   "metadata": {},
   "outputs": [
    {
     "name": "stdout",
     "output_type": "stream",
     "text": [
      "No Blackjack this time\n",
      "As I have a pair of 7s, I am going to split\n",
      "After, splitting, I receive 7 and 7 in each of my hands\n",
      "My new hands are: [['7', '7'], ['7', '7']]\n"
     ]
    }
   ],
   "source": [
    "player, dealer, player_blackjack = openinghand()\n",
    "decision = basic_player_multiple_hits(player, dealer, player_blackjack)\n",
    "player_split_hands = player_action_parent(player, decision)"
   ]
  },
  {
   "cell_type": "code",
   "execution_count": 204,
   "metadata": {},
   "outputs": [
    {
     "name": "stdout",
     "output_type": "stream",
     "text": [
      "As I have a pair of 7s, I am going to split\n",
      "After, splitting, I receive 2 and 7 in each of my hands\n",
      "My new hands are: ['7', '2'] and ['7', '7'].\n",
      "I have a total of 9, I am going to hit\n",
      "['7', '2', 'A']\n",
      "Continue decision-action sequence\n",
      "As I have a soft 20, that is 10 or 20, I am going to stick.\n",
      "S\n",
      "['A', '2', '7']\n",
      "['A', '2', '7']\n",
      "Decision-action sequence terminated by decision = 'S'\n",
      "Go to dealer, CF takes over\n",
      "As I have a pair of 7s, I am going to split\n",
      "After, splitting, I receive 7 and 2 in each of my hands\n",
      "My new hands are: ['7', '2'] and ['7', '7'].\n",
      "I have a total of 9, I am going to hit\n",
      "['7', '2', 'A']\n",
      "Continue decision-action sequence\n",
      "As I have a soft 20, that is 10 or 20, I am going to stick.\n",
      "S\n",
      "['A', '2', '7']\n",
      "['A', '2', '7']\n",
      "Decision-action sequence terminated by decision = 'S'\n",
      "Go to dealer, CF takes over\n",
      "As I have a pair of 7s, I am going to split\n",
      "After, splitting, I receive 7 and A in each of my hands\n",
      "My new hands are: ['7', 'A'] and ['7', '7'].\n",
      "As I have a soft total, I am going to stick\n",
      "['7', 'A']\n",
      "Decision-action sequence terminated by decision = 'S'\n",
      "Go to dealer, CF takes over\n",
      "As I have a pair of 7s, I am going to split\n",
      "After, splitting, I receive A and 5 in each of my hands\n",
      "My new hands are: ['7', 'A'] and ['7', '5'].\n",
      "As I have a soft total, I am going to stick\n",
      "['7', 'A']\n",
      "Decision-action sequence terminated by decision = 'S'\n",
      "Go to dealer, CF takes over\n",
      "I have a total of 12, I am going to hit\n",
      "['7', '5', '9']\n",
      "Continue decision-action sequence\n",
      "I have 21, so I am going to stick\n",
      "S\n",
      "['7', '5', '9']\n",
      "['7', '5', '9']\n",
      "Decision-action sequence terminated by decision = 'S'\n",
      "Go to dealer, CF takes over\n",
      "As I have a pair of 7s, I am going to split\n",
      "After, splitting, I receive A and 4 in each of my hands\n",
      "My new hands are: ['7', 'A'] and ['7', '4'].\n",
      "As I have a soft total, I am going to stick\n",
      "['7', 'A']\n",
      "Decision-action sequence terminated by decision = 'S'\n",
      "Go to dealer, CF takes over\n",
      "I have a total of 11, I am going to double down\n",
      "['7', '4', 'A']\n",
      "Decision-action sequence terminated by decision = 'D'\n",
      "Go to dealer, CF takes over\n",
      "Player doubled and did not bust.\n"
     ]
    }
   ],
   "source": [
    "player_split_hands, decision_list, playerbust_indicator_list = player_multiple_turns(player_split_hands)"
   ]
  },
  {
   "cell_type": "code",
   "execution_count": 205,
   "metadata": {},
   "outputs": [
    {
     "name": "stdout",
     "output_type": "stream",
     "text": [
      "[['A', '2', '7'], ['A', '2', '7'], ['7', 'A'], ['7', 'A'], ['7', '5', '9'], ['7', 'A'], ['A', '4', '7']]\n",
      "['S', 'S', 'S', 'S', 'S', 'S', 'D']\n",
      "[0, 0, 0, 0, 0, 0, 0]\n"
     ]
    }
   ],
   "source": [
    "print(player_split_hands)\n",
    "print(decision_list)\n",
    "print(playerbust_indicator_list)"
   ]
  },
  {
   "cell_type": "code",
   "execution_count": 104,
   "metadata": {
    "scrolled": false
   },
   "outputs": [
    {
     "name": "stdout",
     "output_type": "stream",
     "text": [
      "Loop is working on hand: ['7', '7']\n",
      "As I have a pair of 7s, I am going to split\n",
      "After, splitting, I receive 2 and 7 in each of my hands\n",
      "My new hands are: ['7', '2'] and ['7', '7'].\n",
      "I have a total of 9, I am going to hit\n",
      "['7', '2', 'A']\n",
      "Continue decision-action sequence\n",
      "As I have a soft 20, that is 10 or 20, I am going to stick.\n",
      "S\n",
      "['A', '2', '7']\n",
      "['A', '2', '7']\n",
      "Decision-action sequence terminated by decision = 'S'\n",
      "Go to dealer, CF takes over\n",
      "The list of lists is [['A', '2', '7'], ['7', '7'], ['7', '7']]\n",
      "Loop is working on hand: ['7', '7']\n",
      "As I have a pair of 7s, I am going to split\n",
      "After, splitting, I receive 7 and 2 in each of my hands\n",
      "My new hands are: ['7', '2'] and ['7', '7'].\n",
      "I have a total of 9, I am going to hit\n",
      "['7', '2', 'A']\n",
      "Continue decision-action sequence\n",
      "As I have a soft 20, that is 10 or 20, I am going to stick.\n",
      "S\n",
      "['A', '2', '7']\n",
      "['A', '2', '7']\n",
      "Decision-action sequence terminated by decision = 'S'\n",
      "Go to dealer, CF takes over\n",
      "The list of lists is [['A', '2', '7'], ['A', '2', '7'], ['7', '7'], ['7', '7']]\n",
      "Loop is working on hand: ['7', '7']\n",
      "As I have a pair of 7s, I am going to split\n",
      "After, splitting, I receive 7 and A in each of my hands\n",
      "My new hands are: ['7', 'A'] and ['7', '7'].\n",
      "As I have a soft total, I am going to stick\n",
      "['7', 'A']\n",
      "Decision-action sequence terminated by decision = 'S'\n",
      "Go to dealer, CF takes over\n",
      "The list of lists is [['A', '2', '7'], ['A', '2', '7'], ['7', 'A'], ['7', '7'], ['7', '7']]\n",
      "Loop is working on hand: ['7', '7']\n",
      "As I have a pair of 7s, I am going to split\n",
      "After, splitting, I receive A and 5 in each of my hands\n",
      "My new hands are: ['7', 'A'] and ['7', '5'].\n",
      "As I have a soft total, I am going to stick\n",
      "['7', 'A']\n",
      "Decision-action sequence terminated by decision = 'S'\n",
      "Go to dealer, CF takes over\n",
      "The list of lists is [['A', '2', '7'], ['A', '2', '7'], ['7', 'A'], ['7', 'A'], ['7', '5'], ['7', '7']]\n",
      "Loop is working on hand: ['7', '5']\n",
      "I have a total of 12, I am going to hit\n",
      "['7', '5', '9']\n",
      "Continue decision-action sequence\n",
      "I have 21, so I am going to stick\n",
      "S\n",
      "['7', '5', '9']\n",
      "['7', '5', '9']\n",
      "Decision-action sequence terminated by decision = 'S'\n",
      "Go to dealer, CF takes over\n",
      "The list of lists is [['A', '2', '7'], ['A', '2', '7'], ['7', 'A'], ['7', 'A'], ['7', '5', '9'], ['7', '7']]\n",
      "Loop is working on hand: ['7', '7']\n",
      "As I have a pair of 7s, I am going to split\n",
      "After, splitting, I receive A and 4 in each of my hands\n",
      "My new hands are: ['7', 'A'] and ['7', '4'].\n",
      "As I have a soft total, I am going to stick\n",
      "['7', 'A']\n",
      "Decision-action sequence terminated by decision = 'S'\n",
      "Go to dealer, CF takes over\n",
      "The list of lists is [['A', '2', '7'], ['A', '2', '7'], ['7', 'A'], ['7', 'A'], ['7', '5', '9'], ['7', 'A'], ['7', '4']]\n",
      "Loop is working on hand: ['7', '4']\n",
      "I have a total of 11, I am going to double down\n",
      "['7', '4', 'A']\n",
      "Decision-action sequence terminated by decision = 'D'\n",
      "Go to dealer, CF takes over\n",
      "Player doubled and did not bust.\n",
      "The list of lists is [['A', '2', '7'], ['A', '2', '7'], ['7', 'A'], ['7', 'A'], ['7', '5', '9'], ['7', 'A'], ['A', '4', '7']]\n"
     ]
    }
   ],
   "source": [
    "decision_list = []\n",
    "player_bust_indicator_list = []\n",
    "\n",
    "for hand in player_split_hands:\n",
    "    \n",
    "    print(\"Loop is working on hand: {}\".format(hand))\n",
    "    \n",
    "    decision = basic_player_multiple_hits(hand, dealer, player_blackjack)\n",
    "    player = player_action_child(hand, decision)\n",
    "    \n",
    "    if decision == 'Sp':\n",
    "        decision = basic_player_multiple_hits(player, dealer, player_blackjack) # Issue with loop was that hand was being passed as argument here\n",
    "        player = player_action_child(player, decision)\n",
    "\n",
    "    player, decision, playerbust_indicator = player_turn(player, decision)\n",
    "    decision_list.append(decision)\n",
    "    player_bust_indicator_list.append(playerbust_indicator)\n",
    "    \n",
    "    print(\"The list of lists is {}\".format(player_split_hands))"
   ]
  },
  {
   "cell_type": "code",
   "execution_count": null,
   "metadata": {},
   "outputs": [],
   "source": [
    "# The player_turn module needs to be rewritten to allow for when previous decisions are to split!. That's one problem for tomorrow. "
   ]
  },
  {
   "cell_type": "code",
   "execution_count": 105,
   "metadata": {},
   "outputs": [
    {
     "name": "stdout",
     "output_type": "stream",
     "text": [
      "[['A', '2', '7'], ['A', '2', '7'], ['7', 'A'], ['7', 'A'], ['7', '5', '9'], ['7', 'A'], ['A', '4', '7']]\n",
      "['S', 'S', 'S', 'S', 'S', 'S', 'D']\n",
      "[0, 0, 0, 0, 0, 0, 0]\n"
     ]
    }
   ],
   "source": [
    "print(player_split_hands)\n",
    "print(decision_list)\n",
    "print(player_bust_indicator_list)"
   ]
  },
  {
   "cell_type": "code",
   "execution_count": 106,
   "metadata": {},
   "outputs": [],
   "source": [
    "# If you can get manual iterations to harmonise with the loop; then you have gotten near to correct answer. Harmonised."
   ]
  },
  {
   "cell_type": "code",
   "execution_count": 116,
   "metadata": {},
   "outputs": [],
   "source": [
    "deck, total_cards = getcards(decks=1)\n",
    "shuffled_shoe = shuffler(deck, total_cards)"
   ]
  },
  {
   "cell_type": "code",
   "execution_count": 117,
   "metadata": {},
   "outputs": [],
   "source": [
    "shuffled_shoe = rigged_shoe"
   ]
  },
  {
   "cell_type": "code",
   "execution_count": 118,
   "metadata": {},
   "outputs": [],
   "source": [
    "decision_list = []\n",
    "player_bust_indicator_list = []"
   ]
  },
  {
   "cell_type": "code",
   "execution_count": 119,
   "metadata": {},
   "outputs": [
    {
     "name": "stdout",
     "output_type": "stream",
     "text": [
      "No Blackjack this time\n",
      "As I have a pair of 7s, I am going to split\n",
      "After, splitting, I receive 7 and 7 in each of my hands\n",
      "My new hands are: [['7', '7'], ['7', '7']]\n"
     ]
    }
   ],
   "source": [
    "player, dealer, player_blackjack = openinghand()\n",
    "decision = basic_player_multiple_hits(player, dealer, player_blackjack)\n",
    "player_split_hands = player_action_parent(player, decision)"
   ]
  },
  {
   "cell_type": "code",
   "execution_count": 134,
   "metadata": {},
   "outputs": [
    {
     "name": "stdout",
     "output_type": "stream",
     "text": [
      "As I have a pair of 7s, I am going to split\n",
      "After, splitting, I receive 2 and 7 in each of my hands\n",
      "My new hands are: ['7', '2'] and ['7', '7'].\n"
     ]
    }
   ],
   "source": [
    "# Iteration 0 for hand = [7,7]\n",
    "\n",
    "decision = basic_player_multiple_hits(player_split_hands[0], dealer, player_blackjack)\n",
    "player = player_action_child(player_split_hands[0], decision)"
   ]
  },
  {
   "cell_type": "code",
   "execution_count": 135,
   "metadata": {},
   "outputs": [
    {
     "name": "stdout",
     "output_type": "stream",
     "text": [
      "['7', '2'] Sp [['7', '2'], ['7', '7'], ['7', '7']]\n"
     ]
    }
   ],
   "source": [
    "print(player, decision, player_split_hands)"
   ]
  },
  {
   "cell_type": "code",
   "execution_count": 136,
   "metadata": {},
   "outputs": [
    {
     "name": "stdout",
     "output_type": "stream",
     "text": [
      "I have a total of 9, I am going to hit\n",
      "['7', '2', 'A']\n"
     ]
    }
   ],
   "source": [
    "decision = basic_player_multiple_hits(player, dealer, player_blackjack)\n",
    "player = player_action_child(player, decision)"
   ]
  },
  {
   "cell_type": "code",
   "execution_count": 137,
   "metadata": {},
   "outputs": [
    {
     "name": "stdout",
     "output_type": "stream",
     "text": [
      "Continue decision-action sequence\n",
      "As I have a soft 20, that is 10 or 20, I am going to stick.\n",
      "S\n",
      "['A', '2', '7']\n",
      "['A', '2', '7']\n",
      "Decision-action sequence terminated by decision = 'S'\n",
      "Go to dealer, CF takes over\n"
     ]
    }
   ],
   "source": [
    "player, decision, playerbust_indicator = player_turn(player, decision)\n",
    "decision_list.append(decision)\n",
    "player_bust_indicator_list.append(playerbust_indicator)"
   ]
  },
  {
   "cell_type": "code",
   "execution_count": 138,
   "metadata": {},
   "outputs": [
    {
     "name": "stdout",
     "output_type": "stream",
     "text": [
      "[['A', '2', '7'], ['7', '7'], ['7', '7']]\n",
      "['S']\n",
      "[0]\n"
     ]
    }
   ],
   "source": [
    "print(player_split_hands)\n",
    "print(decision_list)\n",
    "print(player_bust_indicator_list)"
   ]
  },
  {
   "cell_type": "code",
   "execution_count": 139,
   "metadata": {},
   "outputs": [
    {
     "name": "stdout",
     "output_type": "stream",
     "text": [
      "As I have a pair of 7s, I am going to split\n",
      "After, splitting, I receive 7 and 2 in each of my hands\n",
      "My new hands are: ['7', '2'] and ['7', '7'].\n"
     ]
    }
   ],
   "source": [
    "# Iteration 1 for hand = [7,7]\n",
    "\n",
    "decision = basic_player_multiple_hits(player_split_hands[1], dealer, player_blackjack)\n",
    "player = player_action_child(player_split_hands[1], decision)"
   ]
  },
  {
   "cell_type": "code",
   "execution_count": 140,
   "metadata": {},
   "outputs": [
    {
     "name": "stdout",
     "output_type": "stream",
     "text": [
      "['7', '2'] Sp [['A', '2', '7'], ['7', '2'], ['7', '7'], ['7', '7']]\n"
     ]
    }
   ],
   "source": [
    "print(player, decision, player_split_hands)"
   ]
  },
  {
   "cell_type": "code",
   "execution_count": 141,
   "metadata": {},
   "outputs": [
    {
     "name": "stdout",
     "output_type": "stream",
     "text": [
      "I have a total of 9, I am going to hit\n",
      "['7', '2', 'A']\n"
     ]
    }
   ],
   "source": [
    "decision = basic_player_multiple_hits(player, dealer, player_blackjack)\n",
    "player = player_action_child(player, decision)"
   ]
  },
  {
   "cell_type": "code",
   "execution_count": 142,
   "metadata": {},
   "outputs": [
    {
     "name": "stdout",
     "output_type": "stream",
     "text": [
      "Continue decision-action sequence\n",
      "As I have a soft 20, that is 10 or 20, I am going to stick.\n",
      "S\n",
      "['A', '2', '7']\n",
      "['A', '2', '7']\n",
      "Decision-action sequence terminated by decision = 'S'\n",
      "Go to dealer, CF takes over\n"
     ]
    }
   ],
   "source": [
    "player, decision, playerbust_indicator = player_turn(player, decision)\n",
    "decision_list.append(decision)\n",
    "player_bust_indicator_list.append(playerbust_indicator)"
   ]
  },
  {
   "cell_type": "code",
   "execution_count": 143,
   "metadata": {},
   "outputs": [
    {
     "name": "stdout",
     "output_type": "stream",
     "text": [
      "[['A', '2', '7'], ['A', '2', '7'], ['7', '7'], ['7', '7']]\n",
      "['S', 'S']\n",
      "[0, 0]\n"
     ]
    }
   ],
   "source": [
    "print(player_split_hands)\n",
    "print(decision_list)\n",
    "print(player_bust_indicator_list)"
   ]
  },
  {
   "cell_type": "code",
   "execution_count": 144,
   "metadata": {},
   "outputs": [
    {
     "name": "stdout",
     "output_type": "stream",
     "text": [
      "As I have a pair of 7s, I am going to split\n",
      "After, splitting, I receive 7 and A in each of my hands\n",
      "My new hands are: ['7', 'A'] and ['7', '7'].\n"
     ]
    }
   ],
   "source": [
    "# Iteration 2 - hand [7,7]\n",
    "\n",
    "decision = basic_player_multiple_hits(player_split_hands[2], dealer, player_blackjack)\n",
    "player = player_action_child(player_split_hands[2], decision)"
   ]
  },
  {
   "cell_type": "code",
   "execution_count": 145,
   "metadata": {},
   "outputs": [
    {
     "name": "stdout",
     "output_type": "stream",
     "text": [
      "['7', 'A'] Sp [['A', '2', '7'], ['A', '2', '7'], ['7', 'A'], ['7', '7'], ['7', '7']]\n"
     ]
    }
   ],
   "source": [
    "print(player, decision, player_split_hands)"
   ]
  },
  {
   "cell_type": "code",
   "execution_count": 146,
   "metadata": {},
   "outputs": [
    {
     "name": "stdout",
     "output_type": "stream",
     "text": [
      "As I have a soft total, I am going to stick\n",
      "['7', 'A']\n"
     ]
    }
   ],
   "source": [
    "decision = basic_player_multiple_hits(player, dealer, player_blackjack)\n",
    "player = player_action_child(player, decision)"
   ]
  },
  {
   "cell_type": "code",
   "execution_count": 147,
   "metadata": {},
   "outputs": [
    {
     "name": "stdout",
     "output_type": "stream",
     "text": [
      "Decision-action sequence terminated by decision = 'S'\n",
      "Go to dealer, CF takes over\n"
     ]
    }
   ],
   "source": [
    "player, decision, playerbust_indicator = player_turn(player, decision)\n",
    "decision_list.append(decision)\n",
    "player_bust_indicator_list.append(playerbust_indicator)"
   ]
  },
  {
   "cell_type": "code",
   "execution_count": 148,
   "metadata": {},
   "outputs": [
    {
     "name": "stdout",
     "output_type": "stream",
     "text": [
      "[['A', '2', '7'], ['A', '2', '7'], ['7', 'A'], ['7', '7'], ['7', '7']]\n",
      "['S', 'S', 'S']\n",
      "[0, 0, 0]\n"
     ]
    }
   ],
   "source": [
    "print(player_split_hands)\n",
    "print(decision_list)\n",
    "print(player_bust_indicator_list)"
   ]
  },
  {
   "cell_type": "code",
   "execution_count": 149,
   "metadata": {},
   "outputs": [
    {
     "name": "stdout",
     "output_type": "stream",
     "text": [
      "As I have a pair of 7s, I am going to split\n",
      "After, splitting, I receive A and 5 in each of my hands\n",
      "My new hands are: ['7', 'A'] and ['7', '5'].\n"
     ]
    }
   ],
   "source": [
    "# Iteration 3 hand [7,7]\n",
    "\n",
    "decision = basic_player_multiple_hits(player_split_hands[3], dealer, player_blackjack)\n",
    "player = player_action_child(player_split_hands[3], decision)"
   ]
  },
  {
   "cell_type": "code",
   "execution_count": 150,
   "metadata": {},
   "outputs": [
    {
     "name": "stdout",
     "output_type": "stream",
     "text": [
      "['7', 'A'] Sp [['A', '2', '7'], ['A', '2', '7'], ['7', 'A'], ['7', 'A'], ['7', '5'], ['7', '7']]\n"
     ]
    }
   ],
   "source": [
    "print(player, decision, player_split_hands)"
   ]
  },
  {
   "cell_type": "code",
   "execution_count": 151,
   "metadata": {},
   "outputs": [
    {
     "name": "stdout",
     "output_type": "stream",
     "text": [
      "As I have a soft total, I am going to stick\n",
      "['7', 'A']\n"
     ]
    }
   ],
   "source": [
    "decision = basic_player_multiple_hits(player, dealer, player_blackjack)\n",
    "player = player_action_child(player, decision)"
   ]
  },
  {
   "cell_type": "code",
   "execution_count": 152,
   "metadata": {},
   "outputs": [
    {
     "name": "stdout",
     "output_type": "stream",
     "text": [
      "Decision-action sequence terminated by decision = 'S'\n",
      "Go to dealer, CF takes over\n"
     ]
    }
   ],
   "source": [
    "player, decision, playerbust_indicator = player_turn(player, decision)\n",
    "decision_list.append(decision)\n",
    "player_bust_indicator_list.append(playerbust_indicator)"
   ]
  },
  {
   "cell_type": "code",
   "execution_count": 153,
   "metadata": {},
   "outputs": [
    {
     "name": "stdout",
     "output_type": "stream",
     "text": [
      "[['A', '2', '7'], ['A', '2', '7'], ['7', 'A'], ['7', 'A'], ['7', '5'], ['7', '7']]\n",
      "['S', 'S', 'S', 'S']\n",
      "[0, 0, 0, 0]\n"
     ]
    }
   ],
   "source": [
    "print(player_split_hands)\n",
    "print(decision_list)\n",
    "print(player_bust_indicator_list)"
   ]
  },
  {
   "cell_type": "code",
   "execution_count": 154,
   "metadata": {},
   "outputs": [
    {
     "name": "stdout",
     "output_type": "stream",
     "text": [
      "I have a total of 12, I am going to hit\n",
      "['7', '5', '9']\n"
     ]
    }
   ],
   "source": [
    "# Iteration 4 - hand[7,5]\n",
    "\n",
    "decision = basic_player_multiple_hits(player_split_hands[4], dealer, player_blackjack)\n",
    "player = player_action_child(player_split_hands[4], decision)"
   ]
  },
  {
   "cell_type": "code",
   "execution_count": 155,
   "metadata": {},
   "outputs": [
    {
     "name": "stdout",
     "output_type": "stream",
     "text": [
      "Continue decision-action sequence\n",
      "I have 21, so I am going to stick\n",
      "S\n",
      "['7', '5', '9']\n",
      "['7', '5', '9']\n",
      "Decision-action sequence terminated by decision = 'S'\n",
      "Go to dealer, CF takes over\n"
     ]
    }
   ],
   "source": [
    "player, decision, playerbust_indicator = player_turn(player, decision)\n",
    "decision_list.append(decision)\n",
    "player_bust_indicator_list.append(playerbust_indicator)"
   ]
  },
  {
   "cell_type": "code",
   "execution_count": 156,
   "metadata": {},
   "outputs": [
    {
     "name": "stdout",
     "output_type": "stream",
     "text": [
      "[['A', '2', '7'], ['A', '2', '7'], ['7', 'A'], ['7', 'A'], ['7', '5', '9'], ['7', '7']]\n",
      "['S', 'S', 'S', 'S', 'S']\n",
      "[0, 0, 0, 0, 0]\n"
     ]
    }
   ],
   "source": [
    "print(player_split_hands)\n",
    "print(decision_list)\n",
    "print(player_bust_indicator_list)"
   ]
  },
  {
   "cell_type": "code",
   "execution_count": 157,
   "metadata": {},
   "outputs": [
    {
     "name": "stdout",
     "output_type": "stream",
     "text": [
      "As I have a pair of 7s, I am going to split\n",
      "After, splitting, I receive A and 4 in each of my hands\n",
      "My new hands are: ['7', 'A'] and ['7', '4'].\n"
     ]
    }
   ],
   "source": [
    "# Iteration 5 - hand [7,7]\n",
    "\n",
    "decision = basic_player_multiple_hits(player_split_hands[5], dealer, player_blackjack)\n",
    "player = player_action_child(player_split_hands[5], decision)"
   ]
  },
  {
   "cell_type": "code",
   "execution_count": 158,
   "metadata": {},
   "outputs": [
    {
     "name": "stdout",
     "output_type": "stream",
     "text": [
      "As I have a soft total, I am going to stick\n",
      "['7', 'A']\n"
     ]
    }
   ],
   "source": [
    "decision = basic_player_multiple_hits(player, dealer, player_blackjack)\n",
    "player = player_action_child(player, decision)"
   ]
  },
  {
   "cell_type": "code",
   "execution_count": 159,
   "metadata": {},
   "outputs": [
    {
     "name": "stdout",
     "output_type": "stream",
     "text": [
      "Decision-action sequence terminated by decision = 'S'\n",
      "Go to dealer, CF takes over\n"
     ]
    }
   ],
   "source": [
    "player, decision, playerbust_indicator = player_turn(player, decision)\n",
    "decision_list.append(decision)\n",
    "player_bust_indicator_list.append(playerbust_indicator)"
   ]
  },
  {
   "cell_type": "code",
   "execution_count": 160,
   "metadata": {},
   "outputs": [
    {
     "name": "stdout",
     "output_type": "stream",
     "text": [
      "[['A', '2', '7'], ['A', '2', '7'], ['7', 'A'], ['7', 'A'], ['7', '5', '9'], ['7', 'A'], ['7', '4']]\n",
      "['S', 'S', 'S', 'S', 'S', 'S']\n",
      "[0, 0, 0, 0, 0, 0]\n"
     ]
    }
   ],
   "source": [
    "print(player_split_hands)\n",
    "print(decision_list)\n",
    "print(player_bust_indicator_list)"
   ]
  },
  {
   "cell_type": "code",
   "execution_count": 161,
   "metadata": {},
   "outputs": [
    {
     "name": "stdout",
     "output_type": "stream",
     "text": [
      "I have a total of 11, I am going to double down\n",
      "['7', '4', 'A']\n"
     ]
    }
   ],
   "source": [
    "# Iteration 6 - hand [7,4]\n",
    "\n",
    "decision = basic_player_multiple_hits(player_split_hands[6], dealer, player_blackjack)\n",
    "player = player_action_child(player_split_hands[6], decision)"
   ]
  },
  {
   "cell_type": "code",
   "execution_count": 162,
   "metadata": {},
   "outputs": [
    {
     "name": "stdout",
     "output_type": "stream",
     "text": [
      "Decision-action sequence terminated by decision = 'D'\n",
      "Go to dealer, CF takes over\n",
      "Player doubled and did not bust.\n"
     ]
    }
   ],
   "source": [
    "player, decision, playerbust_indicator = player_turn(player, decision)\n",
    "decision_list.append(decision)\n",
    "player_bust_indicator_list.append(playerbust_indicator)"
   ]
  },
  {
   "cell_type": "code",
   "execution_count": 163,
   "metadata": {},
   "outputs": [
    {
     "name": "stdout",
     "output_type": "stream",
     "text": [
      "[['A', '2', '7'], ['A', '2', '7'], ['7', 'A'], ['7', 'A'], ['7', '5', '9'], ['7', 'A'], ['A', '4', '7']]\n",
      "['S', 'S', 'S', 'S', 'S', 'S', 'D']\n",
      "[0, 0, 0, 0, 0, 0, 0]\n"
     ]
    }
   ],
   "source": [
    "print(player_split_hands)\n",
    "print(decision_list)\n",
    "print(player_bust_indicator_list)"
   ]
  },
  {
   "cell_type": "code",
   "execution_count": 236,
   "metadata": {},
   "outputs": [],
   "source": [
    "# The challenge for this in context of CF occurs in context after a split has already occurred. \n",
    "# So after the 1st split, say one, or both of the hands will have pairs. \n",
    "\n",
    "# As decision-action-turn sequences are called on these new hands (which will yield a split), the player_action_child()\n",
    "# module will create two (or four) extra hands within the player_split_hands list of lists. The current decision-action-turn \n",
    "# sequence then needs to be halted, and decision-action-sequences need to be called on the newly split hands. \n",
    "\n",
    "# Current question is whether or not it is possible for the contents of a for loop to modify the iterator over which it is\n",
    "# iterating so that the iteration length is extended. \n",
    "\n",
    "for w in foo:\n",
    "    foo.append(1)\n",
    "    if len(foo) > 5:\n",
    "        break"
   ]
  }
 ],
 "metadata": {
  "kernelspec": {
   "display_name": "Python 3",
   "language": "python",
   "name": "python3"
  },
  "language_info": {
   "codemirror_mode": {
    "name": "ipython",
    "version": 3
   },
   "file_extension": ".py",
   "mimetype": "text/x-python",
   "name": "python",
   "nbconvert_exporter": "python",
   "pygments_lexer": "ipython3",
   "version": "3.7.4"
  }
 },
 "nbformat": 4,
 "nbformat_minor": 2
}
