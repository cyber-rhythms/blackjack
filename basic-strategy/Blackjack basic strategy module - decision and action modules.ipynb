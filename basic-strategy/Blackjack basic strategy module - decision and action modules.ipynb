{
 "cells": [
  {
   "cell_type": "markdown",
   "metadata": {},
   "source": [
    "Coding the basic strategy\n",
    "\n",
    "* Going to pass a lookup table \n",
    "\n",
    "* Will have to compare for similarities and differences in stipulation of basic strategy, and how differences in stipulation arise from minor variations in rules.\n",
    "\n",
    "* For now, just do a really quick consistency scan against wikipedia"
   ]
  },
  {
   "cell_type": "code",
   "execution_count": 2,
   "metadata": {},
   "outputs": [],
   "source": [
    "import pandas as pd\n",
    "import random\n",
    "\n",
    "columns = ['2', '3', '4', '5', '6', '7', '8', '9', '10', 'A']\n",
    "index = [i for i in range(5, 22)]\n",
    "index2 = ['A2', 'A3', 'A4', 'A5', 'A6', 'A7', 'A8', 'A9']\n",
    "index3 = ['2, 2','3, 3', '4, 4', '5, 5', '6, 6', '7, 7', '8, 8', '9, 9', '10, 10', 'A, A']\n",
    "indices = index + index2 + index3"
   ]
  },
  {
   "cell_type": "code",
   "execution_count": 3,
   "metadata": {},
   "outputs": [
    {
     "ename": "ValueError",
     "evalue": "Length mismatch: Expected axis has 39 elements, new values have 35 elements",
     "output_type": "error",
     "traceback": [
      "\u001b[1;31m---------------------------------------------------------------------------\u001b[0m",
      "\u001b[1;31mValueError\u001b[0m                                Traceback (most recent call last)",
      "\u001b[1;32m<ipython-input-3-8cb6ed428b00>\u001b[0m in \u001b[0;36m<module>\u001b[1;34m\u001b[0m\n\u001b[0;32m      1\u001b[0m \u001b[0mbasic_strategy_table\u001b[0m \u001b[1;33m=\u001b[0m \u001b[0mpd\u001b[0m\u001b[1;33m.\u001b[0m\u001b[0mread_csv\u001b[0m\u001b[1;33m(\u001b[0m\u001b[1;34m'basic-strategy.csv'\u001b[0m\u001b[1;33m,\u001b[0m \u001b[0mheader\u001b[0m\u001b[1;33m=\u001b[0m\u001b[1;32mNone\u001b[0m\u001b[1;33m)\u001b[0m\u001b[1;33m\u001b[0m\u001b[1;33m\u001b[0m\u001b[0m\n\u001b[1;32m----> 2\u001b[1;33m \u001b[0mbasic_strategy_table\u001b[0m\u001b[1;33m.\u001b[0m\u001b[0mindex\u001b[0m \u001b[1;33m=\u001b[0m \u001b[0mindices\u001b[0m\u001b[1;33m\u001b[0m\u001b[1;33m\u001b[0m\u001b[0m\n\u001b[0m\u001b[0;32m      3\u001b[0m \u001b[0mbasic_strategy_table\u001b[0m\u001b[1;33m.\u001b[0m\u001b[0mcolumns\u001b[0m \u001b[1;33m=\u001b[0m \u001b[0mcolumns\u001b[0m\u001b[1;33m\u001b[0m\u001b[1;33m\u001b[0m\u001b[0m\n\u001b[0;32m      4\u001b[0m \u001b[0mbasic_strategy_table\u001b[0m\u001b[1;33m\u001b[0m\u001b[1;33m\u001b[0m\u001b[0m\n",
      "\u001b[1;32m~\\Anaconda3\\lib\\site-packages\\pandas\\core\\generic.py\u001b[0m in \u001b[0;36m__setattr__\u001b[1;34m(self, name, value)\u001b[0m\n\u001b[0;32m   5190\u001b[0m         \u001b[1;32mtry\u001b[0m\u001b[1;33m:\u001b[0m\u001b[1;33m\u001b[0m\u001b[1;33m\u001b[0m\u001b[0m\n\u001b[0;32m   5191\u001b[0m             \u001b[0mobject\u001b[0m\u001b[1;33m.\u001b[0m\u001b[0m__getattribute__\u001b[0m\u001b[1;33m(\u001b[0m\u001b[0mself\u001b[0m\u001b[1;33m,\u001b[0m \u001b[0mname\u001b[0m\u001b[1;33m)\u001b[0m\u001b[1;33m\u001b[0m\u001b[1;33m\u001b[0m\u001b[0m\n\u001b[1;32m-> 5192\u001b[1;33m             \u001b[1;32mreturn\u001b[0m \u001b[0mobject\u001b[0m\u001b[1;33m.\u001b[0m\u001b[0m__setattr__\u001b[0m\u001b[1;33m(\u001b[0m\u001b[0mself\u001b[0m\u001b[1;33m,\u001b[0m \u001b[0mname\u001b[0m\u001b[1;33m,\u001b[0m \u001b[0mvalue\u001b[0m\u001b[1;33m)\u001b[0m\u001b[1;33m\u001b[0m\u001b[1;33m\u001b[0m\u001b[0m\n\u001b[0m\u001b[0;32m   5193\u001b[0m         \u001b[1;32mexcept\u001b[0m \u001b[0mAttributeError\u001b[0m\u001b[1;33m:\u001b[0m\u001b[1;33m\u001b[0m\u001b[1;33m\u001b[0m\u001b[0m\n\u001b[0;32m   5194\u001b[0m             \u001b[1;32mpass\u001b[0m\u001b[1;33m\u001b[0m\u001b[1;33m\u001b[0m\u001b[0m\n",
      "\u001b[1;32mpandas\\_libs\\properties.pyx\u001b[0m in \u001b[0;36mpandas._libs.properties.AxisProperty.__set__\u001b[1;34m()\u001b[0m\n",
      "\u001b[1;32m~\\Anaconda3\\lib\\site-packages\\pandas\\core\\generic.py\u001b[0m in \u001b[0;36m_set_axis\u001b[1;34m(self, axis, labels)\u001b[0m\n\u001b[0;32m    688\u001b[0m \u001b[1;33m\u001b[0m\u001b[0m\n\u001b[0;32m    689\u001b[0m     \u001b[1;32mdef\u001b[0m \u001b[0m_set_axis\u001b[0m\u001b[1;33m(\u001b[0m\u001b[0mself\u001b[0m\u001b[1;33m,\u001b[0m \u001b[0maxis\u001b[0m\u001b[1;33m,\u001b[0m \u001b[0mlabels\u001b[0m\u001b[1;33m)\u001b[0m\u001b[1;33m:\u001b[0m\u001b[1;33m\u001b[0m\u001b[1;33m\u001b[0m\u001b[0m\n\u001b[1;32m--> 690\u001b[1;33m         \u001b[0mself\u001b[0m\u001b[1;33m.\u001b[0m\u001b[0m_data\u001b[0m\u001b[1;33m.\u001b[0m\u001b[0mset_axis\u001b[0m\u001b[1;33m(\u001b[0m\u001b[0maxis\u001b[0m\u001b[1;33m,\u001b[0m \u001b[0mlabels\u001b[0m\u001b[1;33m)\u001b[0m\u001b[1;33m\u001b[0m\u001b[1;33m\u001b[0m\u001b[0m\n\u001b[0m\u001b[0;32m    691\u001b[0m         \u001b[0mself\u001b[0m\u001b[1;33m.\u001b[0m\u001b[0m_clear_item_cache\u001b[0m\u001b[1;33m(\u001b[0m\u001b[1;33m)\u001b[0m\u001b[1;33m\u001b[0m\u001b[1;33m\u001b[0m\u001b[0m\n\u001b[0;32m    692\u001b[0m \u001b[1;33m\u001b[0m\u001b[0m\n",
      "\u001b[1;32m~\\Anaconda3\\lib\\site-packages\\pandas\\core\\internals\\managers.py\u001b[0m in \u001b[0;36mset_axis\u001b[1;34m(self, axis, new_labels)\u001b[0m\n\u001b[0;32m    181\u001b[0m             raise ValueError(\n\u001b[0;32m    182\u001b[0m                 \u001b[1;34m\"Length mismatch: Expected axis has {old} elements, new \"\u001b[0m\u001b[1;33m\u001b[0m\u001b[1;33m\u001b[0m\u001b[0m\n\u001b[1;32m--> 183\u001b[1;33m                 \u001b[1;34m\"values have {new} elements\"\u001b[0m\u001b[1;33m.\u001b[0m\u001b[0mformat\u001b[0m\u001b[1;33m(\u001b[0m\u001b[0mold\u001b[0m\u001b[1;33m=\u001b[0m\u001b[0mold_len\u001b[0m\u001b[1;33m,\u001b[0m \u001b[0mnew\u001b[0m\u001b[1;33m=\u001b[0m\u001b[0mnew_len\u001b[0m\u001b[1;33m)\u001b[0m\u001b[1;33m\u001b[0m\u001b[1;33m\u001b[0m\u001b[0m\n\u001b[0m\u001b[0;32m    184\u001b[0m             )\n\u001b[0;32m    185\u001b[0m \u001b[1;33m\u001b[0m\u001b[0m\n",
      "\u001b[1;31mValueError\u001b[0m: Length mismatch: Expected axis has 39 elements, new values have 35 elements"
     ]
    }
   ],
   "source": [
    "basic_strategy_table = pd.read_csv('basic-strategy.csv', header=None)\n",
    "basic_strategy_table.index = indices\n",
    "basic_strategy_table.columns = columns\n",
    "basic_strategy_table"
   ]
  },
  {
   "cell_type": "code",
   "execution_count": 329,
   "metadata": {},
   "outputs": [],
   "source": [
    "def getcards(decks=1):\n",
    "    \"\"\"Brings out a number of sealed decks of cards in their original order to the virutal gaming table.\n",
    "\n",
    "    Creates a dictionary tracking the name of each card, its quantity, and its value\n",
    "    \n",
    "    Keyword argument:\n",
    "        decks {int} -- the number of 52-card decks that the casino is using (default 1)\n",
    "    \n",
    "    Returns:\n",
    "        dictionary{keys: values} -- dictionary object where keys are the card name (e.g. 'K' for King )\n",
    "                                    and where the values are a list object containing the card's quantity and its value.\n",
    "                                    \n",
    "    The value for the ace contains three elements, as aces can further take on the value of 1 or 11, depending on \n",
    "    the context of the hand. No distinction is made between card suits, i.e. spades, hearts, clubs, diamonds.\n",
    "    \"\"\"\n",
    "    \n",
    "    deck = {}\n",
    "    total_cards = decks * 52\n",
    "    card_quantity = int(total_cards / 13)\n",
    "    \n",
    "    deck['A'] = [card_quantity, 1, 11]\n",
    "\n",
    "    for card in range(2, 11):\n",
    "        deck[str(card)] = [card_quantity, card]\n",
    "    \n",
    "    for card in \"JQK\":\n",
    "        deck[str(card)] = [card_quantity, 10]\n",
    "        \n",
    "    return deck, total_cards\n",
    "\n",
    "deck, total_cards = getcards(decks=1)"
   ]
  },
  {
   "cell_type": "code",
   "execution_count": 330,
   "metadata": {},
   "outputs": [],
   "source": [
    "def shuffler(deck, total_cards):\n",
    "    \n",
    "    \"\"\"Shuffles the decks of cards, and places them inside the virtual gaming table card-shoe.\"\"\"\n",
    "    \n",
    "    shuffled_shoe = []\n",
    "    \n",
    "    while len(shuffled_shoe) < total_cards:\n",
    "        draw = random.choice(list(deck))\n",
    "        if deck[draw][0] == 0:\n",
    "            pass\n",
    "        else:\n",
    "            deck[draw][0] -= 1\n",
    "            shuffled_shoe.append(draw)\n",
    "            \n",
    "    return shuffled_shoe\n",
    "\n",
    "shuffled_shoe = shuffler(deck, total_cards)"
   ]
  },
  {
   "cell_type": "code",
   "execution_count": 331,
   "metadata": {},
   "outputs": [
    {
     "name": "stdout",
     "output_type": "stream",
     "text": [
      "['2', '2', '3', '4', 'A', '9', '7', '6', '6', '3', '6', 'A', '9', '9', '6', '9']\n"
     ]
    }
   ],
   "source": [
    "rigged_shoe = []\n",
    "\n",
    "for card in \"2234A976636A3722\":\n",
    "    rigged_shoe.append(card)\n",
    "print(rigged_shoe)"
   ]
  },
  {
   "cell_type": "code",
   "execution_count": 332,
   "metadata": {},
   "outputs": [
    {
     "name": "stdout",
     "output_type": "stream",
     "text": [
      "No Blackjack this time\n"
     ]
    }
   ],
   "source": [
    "def openinghand():\n",
    "    \n",
    "    \"\"\"Deals two cards to the player, and one to the dealer from the shuffled shoe. Outputs a message if there is Blackjack\n",
    "    \n",
    "    Cards are taken sequentially from the shuffled card shoe, beginning with the last element of the shuffled shoe list object\n",
    "    and working in reverse order.\"\"\"\n",
    "    \n",
    "    player = []\n",
    "    dealer = []\n",
    "\n",
    "    player.append(rigged_shoe.pop())\n",
    "    player.append(rigged_shoe.pop())\n",
    "    \n",
    "    dealer.append(rigged_shoe.pop())\n",
    "    \n",
    "    if ('A' in player) and (('10' in player) or ('J' in player) or ('Q' in player) or ('K' in player)):\n",
    "        player_blackjack = 1\n",
    "        print(\"Blackjack, house pays out at 3:2\")\n",
    "    else:\n",
    "        player_blackjack = 0\n",
    "        print(\"No Blackjack this time\")\n",
    "        \n",
    "    return player, dealer, player_blackjack\n",
    "\n",
    "player, dealer, player_blackjack = openinghand()"
   ]
  },
  {
   "cell_type": "code",
   "execution_count": 333,
   "metadata": {},
   "outputs": [],
   "source": [
    "def decode(action):\n",
    "    if action == 'Sp':\n",
    "        message = 'split'\n",
    "    elif action == 'H':\n",
    "        message = 'hit'\n",
    "    elif action == 'D':\n",
    "        message = 'double down'\n",
    "    else:\n",
    "        message = 'stick'\n",
    "    return message"
   ]
  },
  {
   "cell_type": "code",
   "execution_count": 327,
   "metadata": {},
   "outputs": [],
   "source": [
    "# O/S feature - need to define decision variable in the case of blackjack\n",
    "# Queries remain and decisions need to be made in context of entire \n",
    "# system what value it should take, as leaving it blank yields a local\n",
    "# variable referenced befroe assignment error.\n",
    "\n",
    "# For now, set decision variable to 'S' i.e. stick and decide what to do with\n",
    "# later on - ignoring it could yield some pathological behaviour later on.\n",
    "\n",
    "# Okay great this is all working fine for a sample of cases that have been\n",
    "# checked.\n",
    "\n",
    "# Cosmetic - blackjack print message and hard/soft calculation in message\n",
    "\n",
    "# HAVE TO CODE IN BUSTING\n",
    "\n",
    "def basic_player(player, dealer, player_blackjack):\n",
    "    \n",
    "    if player_blackjack == 1:\n",
    "        cardvalues = [21]\n",
    "        decision = 'S'\n",
    "        print(\"It's my lucky day\")\n",
    "    else:\n",
    "        if player[0] == player[1]:\n",
    "            lookup_pairs = player[0] + \", \" + player[1]\n",
    "            decision = basic_strategy_table.loc[lookup_pairs, dealer[0]]\n",
    "            print(\"As I have a pair of {}s, I am going to {}\".format(player[0], decode(decision)))\n",
    "        elif ('A' in player):\n",
    "            if player[0] == 'A':\n",
    "                lookup_soft_total = player[0] + player[1]\n",
    "            else:\n",
    "                lookup_soft_total = player[1] + player[0]\n",
    "                \n",
    "            decision = basic_strategy_table.loc[lookup_soft_total, dealer[0]]\n",
    "            print(\"As I have a soft total, I am going to {}\".format(decode(decision)))\n",
    "        else:\n",
    "            cardvalues = []\n",
    "            for card in player:\n",
    "                cardvalues.append(deck[card][1])\n",
    "                \n",
    "            lookup_hard_total = sum(cardvalues)\n",
    "            decision = basic_strategy_table.loc[lookup_hard_total, dealer[0]]\n",
    "            print(\"I have a total of {}, I am going to {}\".format(lookup_hard_total, decode(decision)))\n",
    "    \n",
    "    return decision"
   ]
  },
  {
   "cell_type": "code",
   "execution_count": 328,
   "metadata": {},
   "outputs": [
    {
     "ename": "KeyError",
     "evalue": "'J'",
     "output_type": "error",
     "traceback": [
      "\u001b[1;31m---------------------------------------------------------------------------\u001b[0m",
      "\u001b[1;31mKeyError\u001b[0m                                  Traceback (most recent call last)",
      "\u001b[1;32m~\\Anaconda3\\lib\\site-packages\\pandas\\core\\indexes\\base.py\u001b[0m in \u001b[0;36mget_loc\u001b[1;34m(self, key, method, tolerance)\u001b[0m\n\u001b[0;32m   2896\u001b[0m             \u001b[1;32mtry\u001b[0m\u001b[1;33m:\u001b[0m\u001b[1;33m\u001b[0m\u001b[1;33m\u001b[0m\u001b[0m\n\u001b[1;32m-> 2897\u001b[1;33m                 \u001b[1;32mreturn\u001b[0m \u001b[0mself\u001b[0m\u001b[1;33m.\u001b[0m\u001b[0m_engine\u001b[0m\u001b[1;33m.\u001b[0m\u001b[0mget_loc\u001b[0m\u001b[1;33m(\u001b[0m\u001b[0mkey\u001b[0m\u001b[1;33m)\u001b[0m\u001b[1;33m\u001b[0m\u001b[1;33m\u001b[0m\u001b[0m\n\u001b[0m\u001b[0;32m   2898\u001b[0m             \u001b[1;32mexcept\u001b[0m \u001b[0mKeyError\u001b[0m\u001b[1;33m:\u001b[0m\u001b[1;33m\u001b[0m\u001b[1;33m\u001b[0m\u001b[0m\n",
      "\u001b[1;32mpandas\\_libs\\index.pyx\u001b[0m in \u001b[0;36mpandas._libs.index.IndexEngine.get_loc\u001b[1;34m()\u001b[0m\n",
      "\u001b[1;32mpandas\\_libs\\index.pyx\u001b[0m in \u001b[0;36mpandas._libs.index.IndexEngine.get_loc\u001b[1;34m()\u001b[0m\n",
      "\u001b[1;32mpandas\\_libs\\hashtable_class_helper.pxi\u001b[0m in \u001b[0;36mpandas._libs.hashtable.PyObjectHashTable.get_item\u001b[1;34m()\u001b[0m\n",
      "\u001b[1;32mpandas\\_libs\\hashtable_class_helper.pxi\u001b[0m in \u001b[0;36mpandas._libs.hashtable.PyObjectHashTable.get_item\u001b[1;34m()\u001b[0m\n",
      "\u001b[1;31mKeyError\u001b[0m: 'J'",
      "\nDuring handling of the above exception, another exception occurred:\n",
      "\u001b[1;31mKeyError\u001b[0m                                  Traceback (most recent call last)",
      "\u001b[1;32m<ipython-input-328-ed9348f38258>\u001b[0m in \u001b[0;36m<module>\u001b[1;34m\u001b[0m\n\u001b[1;32m----> 1\u001b[1;33m \u001b[0mbasic_player\u001b[0m\u001b[1;33m(\u001b[0m\u001b[0mplayer\u001b[0m\u001b[1;33m,\u001b[0m \u001b[0mdealer\u001b[0m\u001b[1;33m,\u001b[0m \u001b[0mplayer_blackjack\u001b[0m\u001b[1;33m)\u001b[0m\u001b[1;33m\u001b[0m\u001b[1;33m\u001b[0m\u001b[0m\n\u001b[0m",
      "\u001b[1;32m<ipython-input-327-ead5adeef9c7>\u001b[0m in \u001b[0;36mbasic_player\u001b[1;34m(player, dealer, player_blackjack)\u001b[0m\n\u001b[0;32m     39\u001b[0m \u001b[1;33m\u001b[0m\u001b[0m\n\u001b[0;32m     40\u001b[0m             \u001b[0mlookup_hard_total\u001b[0m \u001b[1;33m=\u001b[0m \u001b[0msum\u001b[0m\u001b[1;33m(\u001b[0m\u001b[0mcardvalues\u001b[0m\u001b[1;33m)\u001b[0m\u001b[1;33m\u001b[0m\u001b[1;33m\u001b[0m\u001b[0m\n\u001b[1;32m---> 41\u001b[1;33m             \u001b[0mdecision\u001b[0m \u001b[1;33m=\u001b[0m \u001b[0mbasic_strategy_table\u001b[0m\u001b[1;33m.\u001b[0m\u001b[0mloc\u001b[0m\u001b[1;33m[\u001b[0m\u001b[0mlookup_hard_total\u001b[0m\u001b[1;33m,\u001b[0m \u001b[0mdealer\u001b[0m\u001b[1;33m[\u001b[0m\u001b[1;36m0\u001b[0m\u001b[1;33m]\u001b[0m\u001b[1;33m]\u001b[0m\u001b[1;33m\u001b[0m\u001b[1;33m\u001b[0m\u001b[0m\n\u001b[0m\u001b[0;32m     42\u001b[0m             \u001b[0mprint\u001b[0m\u001b[1;33m(\u001b[0m\u001b[1;34m\"I have a total of {}, I am going to {}\"\u001b[0m\u001b[1;33m.\u001b[0m\u001b[0mformat\u001b[0m\u001b[1;33m(\u001b[0m\u001b[0mlookup_hard_total\u001b[0m\u001b[1;33m,\u001b[0m \u001b[0mdecode\u001b[0m\u001b[1;33m(\u001b[0m\u001b[0mdecision\u001b[0m\u001b[1;33m)\u001b[0m\u001b[1;33m)\u001b[0m\u001b[1;33m)\u001b[0m\u001b[1;33m\u001b[0m\u001b[1;33m\u001b[0m\u001b[0m\n\u001b[0;32m     43\u001b[0m \u001b[1;33m\u001b[0m\u001b[0m\n",
      "\u001b[1;32m~\\Anaconda3\\lib\\site-packages\\pandas\\core\\indexing.py\u001b[0m in \u001b[0;36m__getitem__\u001b[1;34m(self, key)\u001b[0m\n\u001b[0;32m   1416\u001b[0m                 \u001b[1;32mexcept\u001b[0m \u001b[1;33m(\u001b[0m\u001b[0mKeyError\u001b[0m\u001b[1;33m,\u001b[0m \u001b[0mIndexError\u001b[0m\u001b[1;33m,\u001b[0m \u001b[0mAttributeError\u001b[0m\u001b[1;33m)\u001b[0m\u001b[1;33m:\u001b[0m\u001b[1;33m\u001b[0m\u001b[1;33m\u001b[0m\u001b[0m\n\u001b[0;32m   1417\u001b[0m                     \u001b[1;32mpass\u001b[0m\u001b[1;33m\u001b[0m\u001b[1;33m\u001b[0m\u001b[0m\n\u001b[1;32m-> 1418\u001b[1;33m             \u001b[1;32mreturn\u001b[0m \u001b[0mself\u001b[0m\u001b[1;33m.\u001b[0m\u001b[0m_getitem_tuple\u001b[0m\u001b[1;33m(\u001b[0m\u001b[0mkey\u001b[0m\u001b[1;33m)\u001b[0m\u001b[1;33m\u001b[0m\u001b[1;33m\u001b[0m\u001b[0m\n\u001b[0m\u001b[0;32m   1419\u001b[0m         \u001b[1;32melse\u001b[0m\u001b[1;33m:\u001b[0m\u001b[1;33m\u001b[0m\u001b[1;33m\u001b[0m\u001b[0m\n\u001b[0;32m   1420\u001b[0m             \u001b[1;31m# we by definition only have the 0th axis\u001b[0m\u001b[1;33m\u001b[0m\u001b[1;33m\u001b[0m\u001b[1;33m\u001b[0m\u001b[0m\n",
      "\u001b[1;32m~\\Anaconda3\\lib\\site-packages\\pandas\\core\\indexing.py\u001b[0m in \u001b[0;36m_getitem_tuple\u001b[1;34m(self, tup)\u001b[0m\n\u001b[0;32m    803\u001b[0m     \u001b[1;32mdef\u001b[0m \u001b[0m_getitem_tuple\u001b[0m\u001b[1;33m(\u001b[0m\u001b[0mself\u001b[0m\u001b[1;33m,\u001b[0m \u001b[0mtup\u001b[0m\u001b[1;33m)\u001b[0m\u001b[1;33m:\u001b[0m\u001b[1;33m\u001b[0m\u001b[1;33m\u001b[0m\u001b[0m\n\u001b[0;32m    804\u001b[0m         \u001b[1;32mtry\u001b[0m\u001b[1;33m:\u001b[0m\u001b[1;33m\u001b[0m\u001b[1;33m\u001b[0m\u001b[0m\n\u001b[1;32m--> 805\u001b[1;33m             \u001b[1;32mreturn\u001b[0m \u001b[0mself\u001b[0m\u001b[1;33m.\u001b[0m\u001b[0m_getitem_lowerdim\u001b[0m\u001b[1;33m(\u001b[0m\u001b[0mtup\u001b[0m\u001b[1;33m)\u001b[0m\u001b[1;33m\u001b[0m\u001b[1;33m\u001b[0m\u001b[0m\n\u001b[0m\u001b[0;32m    806\u001b[0m         \u001b[1;32mexcept\u001b[0m \u001b[0mIndexingError\u001b[0m\u001b[1;33m:\u001b[0m\u001b[1;33m\u001b[0m\u001b[1;33m\u001b[0m\u001b[0m\n\u001b[0;32m    807\u001b[0m             \u001b[1;32mpass\u001b[0m\u001b[1;33m\u001b[0m\u001b[1;33m\u001b[0m\u001b[0m\n",
      "\u001b[1;32m~\\Anaconda3\\lib\\site-packages\\pandas\\core\\indexing.py\u001b[0m in \u001b[0;36m_getitem_lowerdim\u001b[1;34m(self, tup)\u001b[0m\n\u001b[0;32m    959\u001b[0m                     \u001b[1;32mreturn\u001b[0m \u001b[0msection\u001b[0m\u001b[1;33m\u001b[0m\u001b[1;33m\u001b[0m\u001b[0m\n\u001b[0;32m    960\u001b[0m                 \u001b[1;31m# This is an elided recursive call to iloc/loc/etc'\u001b[0m\u001b[1;33m\u001b[0m\u001b[1;33m\u001b[0m\u001b[1;33m\u001b[0m\u001b[0m\n\u001b[1;32m--> 961\u001b[1;33m                 \u001b[1;32mreturn\u001b[0m \u001b[0mgetattr\u001b[0m\u001b[1;33m(\u001b[0m\u001b[0msection\u001b[0m\u001b[1;33m,\u001b[0m \u001b[0mself\u001b[0m\u001b[1;33m.\u001b[0m\u001b[0mname\u001b[0m\u001b[1;33m)\u001b[0m\u001b[1;33m[\u001b[0m\u001b[0mnew_key\u001b[0m\u001b[1;33m]\u001b[0m\u001b[1;33m\u001b[0m\u001b[1;33m\u001b[0m\u001b[0m\n\u001b[0m\u001b[0;32m    962\u001b[0m \u001b[1;33m\u001b[0m\u001b[0m\n\u001b[0;32m    963\u001b[0m         \u001b[1;32mraise\u001b[0m \u001b[0mIndexingError\u001b[0m\u001b[1;33m(\u001b[0m\u001b[1;34m\"not applicable\"\u001b[0m\u001b[1;33m)\u001b[0m\u001b[1;33m\u001b[0m\u001b[1;33m\u001b[0m\u001b[0m\n",
      "\u001b[1;32m~\\Anaconda3\\lib\\site-packages\\pandas\\core\\indexing.py\u001b[0m in \u001b[0;36m__getitem__\u001b[1;34m(self, key)\u001b[0m\n\u001b[0;32m   1422\u001b[0m \u001b[1;33m\u001b[0m\u001b[0m\n\u001b[0;32m   1423\u001b[0m             \u001b[0mmaybe_callable\u001b[0m \u001b[1;33m=\u001b[0m \u001b[0mcom\u001b[0m\u001b[1;33m.\u001b[0m\u001b[0mapply_if_callable\u001b[0m\u001b[1;33m(\u001b[0m\u001b[0mkey\u001b[0m\u001b[1;33m,\u001b[0m \u001b[0mself\u001b[0m\u001b[1;33m.\u001b[0m\u001b[0mobj\u001b[0m\u001b[1;33m)\u001b[0m\u001b[1;33m\u001b[0m\u001b[1;33m\u001b[0m\u001b[0m\n\u001b[1;32m-> 1424\u001b[1;33m             \u001b[1;32mreturn\u001b[0m \u001b[0mself\u001b[0m\u001b[1;33m.\u001b[0m\u001b[0m_getitem_axis\u001b[0m\u001b[1;33m(\u001b[0m\u001b[0mmaybe_callable\u001b[0m\u001b[1;33m,\u001b[0m \u001b[0maxis\u001b[0m\u001b[1;33m=\u001b[0m\u001b[0maxis\u001b[0m\u001b[1;33m)\u001b[0m\u001b[1;33m\u001b[0m\u001b[1;33m\u001b[0m\u001b[0m\n\u001b[0m\u001b[0;32m   1425\u001b[0m \u001b[1;33m\u001b[0m\u001b[0m\n\u001b[0;32m   1426\u001b[0m     \u001b[1;32mdef\u001b[0m \u001b[0m_is_scalar_access\u001b[0m\u001b[1;33m(\u001b[0m\u001b[0mself\u001b[0m\u001b[1;33m,\u001b[0m \u001b[0mkey\u001b[0m\u001b[1;33m:\u001b[0m \u001b[0mTuple\u001b[0m\u001b[1;33m)\u001b[0m\u001b[1;33m:\u001b[0m\u001b[1;33m\u001b[0m\u001b[1;33m\u001b[0m\u001b[0m\n",
      "\u001b[1;32m~\\Anaconda3\\lib\\site-packages\\pandas\\core\\indexing.py\u001b[0m in \u001b[0;36m_getitem_axis\u001b[1;34m(self, key, axis)\u001b[0m\n\u001b[0;32m   1848\u001b[0m         \u001b[1;31m# fall thru to straight lookup\u001b[0m\u001b[1;33m\u001b[0m\u001b[1;33m\u001b[0m\u001b[1;33m\u001b[0m\u001b[0m\n\u001b[0;32m   1849\u001b[0m         \u001b[0mself\u001b[0m\u001b[1;33m.\u001b[0m\u001b[0m_validate_key\u001b[0m\u001b[1;33m(\u001b[0m\u001b[0mkey\u001b[0m\u001b[1;33m,\u001b[0m \u001b[0maxis\u001b[0m\u001b[1;33m)\u001b[0m\u001b[1;33m\u001b[0m\u001b[1;33m\u001b[0m\u001b[0m\n\u001b[1;32m-> 1850\u001b[1;33m         \u001b[1;32mreturn\u001b[0m \u001b[0mself\u001b[0m\u001b[1;33m.\u001b[0m\u001b[0m_get_label\u001b[0m\u001b[1;33m(\u001b[0m\u001b[0mkey\u001b[0m\u001b[1;33m,\u001b[0m \u001b[0maxis\u001b[0m\u001b[1;33m=\u001b[0m\u001b[0maxis\u001b[0m\u001b[1;33m)\u001b[0m\u001b[1;33m\u001b[0m\u001b[1;33m\u001b[0m\u001b[0m\n\u001b[0m\u001b[0;32m   1851\u001b[0m \u001b[1;33m\u001b[0m\u001b[0m\n\u001b[0;32m   1852\u001b[0m \u001b[1;33m\u001b[0m\u001b[0m\n",
      "\u001b[1;32m~\\Anaconda3\\lib\\site-packages\\pandas\\core\\indexing.py\u001b[0m in \u001b[0;36m_get_label\u001b[1;34m(self, label, axis)\u001b[0m\n\u001b[0;32m    154\u001b[0m             \u001b[1;31m# but will fail when the index is not present\u001b[0m\u001b[1;33m\u001b[0m\u001b[1;33m\u001b[0m\u001b[1;33m\u001b[0m\u001b[0m\n\u001b[0;32m    155\u001b[0m             \u001b[1;31m# see GH5667\u001b[0m\u001b[1;33m\u001b[0m\u001b[1;33m\u001b[0m\u001b[1;33m\u001b[0m\u001b[0m\n\u001b[1;32m--> 156\u001b[1;33m             \u001b[1;32mreturn\u001b[0m \u001b[0mself\u001b[0m\u001b[1;33m.\u001b[0m\u001b[0mobj\u001b[0m\u001b[1;33m.\u001b[0m\u001b[0m_xs\u001b[0m\u001b[1;33m(\u001b[0m\u001b[0mlabel\u001b[0m\u001b[1;33m,\u001b[0m \u001b[0maxis\u001b[0m\u001b[1;33m=\u001b[0m\u001b[0maxis\u001b[0m\u001b[1;33m)\u001b[0m\u001b[1;33m\u001b[0m\u001b[1;33m\u001b[0m\u001b[0m\n\u001b[0m\u001b[0;32m    157\u001b[0m         \u001b[1;32melif\u001b[0m \u001b[0misinstance\u001b[0m\u001b[1;33m(\u001b[0m\u001b[0mlabel\u001b[0m\u001b[1;33m,\u001b[0m \u001b[0mtuple\u001b[0m\u001b[1;33m)\u001b[0m \u001b[1;32mand\u001b[0m \u001b[0misinstance\u001b[0m\u001b[1;33m(\u001b[0m\u001b[0mlabel\u001b[0m\u001b[1;33m[\u001b[0m\u001b[0maxis\u001b[0m\u001b[1;33m]\u001b[0m\u001b[1;33m,\u001b[0m \u001b[0mslice\u001b[0m\u001b[1;33m)\u001b[0m\u001b[1;33m:\u001b[0m\u001b[1;33m\u001b[0m\u001b[1;33m\u001b[0m\u001b[0m\n\u001b[0;32m    158\u001b[0m             \u001b[1;32mraise\u001b[0m \u001b[0mIndexingError\u001b[0m\u001b[1;33m(\u001b[0m\u001b[1;34m\"no slices here, handle elsewhere\"\u001b[0m\u001b[1;33m)\u001b[0m\u001b[1;33m\u001b[0m\u001b[1;33m\u001b[0m\u001b[0m\n",
      "\u001b[1;32m~\\Anaconda3\\lib\\site-packages\\pandas\\core\\generic.py\u001b[0m in \u001b[0;36mxs\u001b[1;34m(self, key, axis, level, drop_level)\u001b[0m\n\u001b[0;32m   3735\u001b[0m             \u001b[0mloc\u001b[0m\u001b[1;33m,\u001b[0m \u001b[0mnew_index\u001b[0m \u001b[1;33m=\u001b[0m \u001b[0mself\u001b[0m\u001b[1;33m.\u001b[0m\u001b[0mindex\u001b[0m\u001b[1;33m.\u001b[0m\u001b[0mget_loc_level\u001b[0m\u001b[1;33m(\u001b[0m\u001b[0mkey\u001b[0m\u001b[1;33m,\u001b[0m \u001b[0mdrop_level\u001b[0m\u001b[1;33m=\u001b[0m\u001b[0mdrop_level\u001b[0m\u001b[1;33m)\u001b[0m\u001b[1;33m\u001b[0m\u001b[1;33m\u001b[0m\u001b[0m\n\u001b[0;32m   3736\u001b[0m         \u001b[1;32melse\u001b[0m\u001b[1;33m:\u001b[0m\u001b[1;33m\u001b[0m\u001b[1;33m\u001b[0m\u001b[0m\n\u001b[1;32m-> 3737\u001b[1;33m             \u001b[0mloc\u001b[0m \u001b[1;33m=\u001b[0m \u001b[0mself\u001b[0m\u001b[1;33m.\u001b[0m\u001b[0mindex\u001b[0m\u001b[1;33m.\u001b[0m\u001b[0mget_loc\u001b[0m\u001b[1;33m(\u001b[0m\u001b[0mkey\u001b[0m\u001b[1;33m)\u001b[0m\u001b[1;33m\u001b[0m\u001b[1;33m\u001b[0m\u001b[0m\n\u001b[0m\u001b[0;32m   3738\u001b[0m \u001b[1;33m\u001b[0m\u001b[0m\n\u001b[0;32m   3739\u001b[0m             \u001b[1;32mif\u001b[0m \u001b[0misinstance\u001b[0m\u001b[1;33m(\u001b[0m\u001b[0mloc\u001b[0m\u001b[1;33m,\u001b[0m \u001b[0mnp\u001b[0m\u001b[1;33m.\u001b[0m\u001b[0mndarray\u001b[0m\u001b[1;33m)\u001b[0m\u001b[1;33m:\u001b[0m\u001b[1;33m\u001b[0m\u001b[1;33m\u001b[0m\u001b[0m\n",
      "\u001b[1;32m~\\Anaconda3\\lib\\site-packages\\pandas\\core\\indexes\\base.py\u001b[0m in \u001b[0;36mget_loc\u001b[1;34m(self, key, method, tolerance)\u001b[0m\n\u001b[0;32m   2897\u001b[0m                 \u001b[1;32mreturn\u001b[0m \u001b[0mself\u001b[0m\u001b[1;33m.\u001b[0m\u001b[0m_engine\u001b[0m\u001b[1;33m.\u001b[0m\u001b[0mget_loc\u001b[0m\u001b[1;33m(\u001b[0m\u001b[0mkey\u001b[0m\u001b[1;33m)\u001b[0m\u001b[1;33m\u001b[0m\u001b[1;33m\u001b[0m\u001b[0m\n\u001b[0;32m   2898\u001b[0m             \u001b[1;32mexcept\u001b[0m \u001b[0mKeyError\u001b[0m\u001b[1;33m:\u001b[0m\u001b[1;33m\u001b[0m\u001b[1;33m\u001b[0m\u001b[0m\n\u001b[1;32m-> 2899\u001b[1;33m                 \u001b[1;32mreturn\u001b[0m \u001b[0mself\u001b[0m\u001b[1;33m.\u001b[0m\u001b[0m_engine\u001b[0m\u001b[1;33m.\u001b[0m\u001b[0mget_loc\u001b[0m\u001b[1;33m(\u001b[0m\u001b[0mself\u001b[0m\u001b[1;33m.\u001b[0m\u001b[0m_maybe_cast_indexer\u001b[0m\u001b[1;33m(\u001b[0m\u001b[0mkey\u001b[0m\u001b[1;33m)\u001b[0m\u001b[1;33m)\u001b[0m\u001b[1;33m\u001b[0m\u001b[1;33m\u001b[0m\u001b[0m\n\u001b[0m\u001b[0;32m   2900\u001b[0m         \u001b[0mindexer\u001b[0m \u001b[1;33m=\u001b[0m \u001b[0mself\u001b[0m\u001b[1;33m.\u001b[0m\u001b[0mget_indexer\u001b[0m\u001b[1;33m(\u001b[0m\u001b[1;33m[\u001b[0m\u001b[0mkey\u001b[0m\u001b[1;33m]\u001b[0m\u001b[1;33m,\u001b[0m \u001b[0mmethod\u001b[0m\u001b[1;33m=\u001b[0m\u001b[0mmethod\u001b[0m\u001b[1;33m,\u001b[0m \u001b[0mtolerance\u001b[0m\u001b[1;33m=\u001b[0m\u001b[0mtolerance\u001b[0m\u001b[1;33m)\u001b[0m\u001b[1;33m\u001b[0m\u001b[1;33m\u001b[0m\u001b[0m\n\u001b[0;32m   2901\u001b[0m         \u001b[1;32mif\u001b[0m \u001b[0mindexer\u001b[0m\u001b[1;33m.\u001b[0m\u001b[0mndim\u001b[0m \u001b[1;33m>\u001b[0m \u001b[1;36m1\u001b[0m \u001b[1;32mor\u001b[0m \u001b[0mindexer\u001b[0m\u001b[1;33m.\u001b[0m\u001b[0msize\u001b[0m \u001b[1;33m>\u001b[0m \u001b[1;36m1\u001b[0m\u001b[1;33m:\u001b[0m\u001b[1;33m\u001b[0m\u001b[1;33m\u001b[0m\u001b[0m\n",
      "\u001b[1;32mpandas\\_libs\\index.pyx\u001b[0m in \u001b[0;36mpandas._libs.index.IndexEngine.get_loc\u001b[1;34m()\u001b[0m\n",
      "\u001b[1;32mpandas\\_libs\\index.pyx\u001b[0m in \u001b[0;36mpandas._libs.index.IndexEngine.get_loc\u001b[1;34m()\u001b[0m\n",
      "\u001b[1;32mpandas\\_libs\\hashtable_class_helper.pxi\u001b[0m in \u001b[0;36mpandas._libs.hashtable.PyObjectHashTable.get_item\u001b[1;34m()\u001b[0m\n",
      "\u001b[1;32mpandas\\_libs\\hashtable_class_helper.pxi\u001b[0m in \u001b[0;36mpandas._libs.hashtable.PyObjectHashTable.get_item\u001b[1;34m()\u001b[0m\n",
      "\u001b[1;31mKeyError\u001b[0m: 'J'"
     ]
    }
   ],
   "source": [
    "basic_player(player, dealer, player_blackjack)"
   ]
  },
  {
   "cell_type": "code",
   "execution_count": 270,
   "metadata": {},
   "outputs": [],
   "source": [
    "# So the player either gets action = {blackjack(stick*), Hit, Double, Stick, Split}\n",
    "# Start with the easiest cases and work up in order of difficulty, ie ones not involving recursion/feeding back\n",
    "\n",
    "# S - stick, proceed to dealer's turn straightaway, completely deterministic\n",
    "# D - double down - draw another card, and increase bet by 2x, then proceed to dealer's turn, which is completely deterministic\n",
    "# H - hit - draw another card from the shuffled shoe and add it to player's hand, then have to perform another basic strategy lookup\n",
    "# Sp - split - take hand and convert it into two hands, evaluate, requires another basic strategy lookup, and have to deal with\n",
    "# mulitple hands being dealt, leading to multiple scores that need to be evaluated, and multiple payoffs and losses that also need to be calculated/\n",
    "\n",
    "# Soft combos when there are more than two cards...\n",
    "\n",
    "# A sequential decision tree has assisted here. With proper planning, \n",
    "# and once YOU are clear with the logic, the computer will be clear with\n",
    "# the logic.\n",
    "\n",
    "# Next module:\n",
    "\n",
    "# Splits and multiple hands \n",
    "# Soft combos when there are more than 3 cards and repeated hitting - done, see separate notebook."
   ]
  },
  {
   "cell_type": "code",
   "execution_count": 338,
   "metadata": {},
   "outputs": [],
   "source": [
    "# Amended decision module with basic strategy that can handle additional\n",
    "# cards being drawn, and also splits.\n",
    "\n",
    "# O/S potential improvement - use a nested function rather than a more complicated function with quite intense logic? \n",
    "\n",
    "# Module for len(player) > 2 has been tried for a few cases for length 3\n",
    "\n",
    "# Check P = ['A', '2', 'A'] and D = [9]\n",
    "# Can't do A10 over three cards so have to add that permut. to pandas. - done, see separate notebook\n",
    "# Have to also code in BUSTING - done, see separate notebook\n",
    "\n",
    "# Just noticed that if a dealer has a picture card like 'Q', 'K', 'J', that won't be properly looked up in the table.\n",
    "# So I will have to either amend the table to contain strings like K, Q, J; or I will have to do a value lookup first in the\n",
    "# dictionary and use that to look up BS table. Good spot. Done, see separate notebook\n",
    "\n",
    "def basic_player_multiple_hits(player, dealer, player_blackjack):\n",
    "    \n",
    "    if len(player) == 2:\n",
    "        \n",
    "        if player_blackjack == 1:\n",
    "            cardvalues = [21]\n",
    "            decision = 'S'\n",
    "            print(\"It's my lucky day\")\n",
    "        else:\n",
    "            if player[0] == player[1]:\n",
    "                lookup_pairs = player[0] + \", \" + player[1]\n",
    "                decision = basic_strategy_table.loc[lookup_pairs, dealer[0]]\n",
    "                print(\"As I have a pair of {}s, I am going to {}\".format(player[0], decode(decision)))\n",
    "            elif ('A' in player):\n",
    "                if player[0] == 'A':\n",
    "                    lookup_soft_total = player[0] + player[1]\n",
    "                else:\n",
    "                    lookup_soft_total = player[1] + player[0]\n",
    "                \n",
    "                decision = basic_strategy_table.loc[lookup_soft_total, dealer[0]]\n",
    "                print(\"As I have a soft total, I am going to {}\".format(decode(decision)))\n",
    "            else:\n",
    "                cardvalues = []\n",
    "                for card in player:\n",
    "                    cardvalues.append(deck[card][1])\n",
    "                \n",
    "                lookup_hard_total = sum(cardvalues)\n",
    "                decision = basic_strategy_table.loc[lookup_hard_total, dealer[0]]\n",
    "                print(\"I have a total of {}, I am going to {}\".format(lookup_hard_total, decode(decision)))\n",
    "        \n",
    "    if len(player) > 2: \n",
    "        \n",
    "        if 'A' in player:  # check if the >3 hand has an ace, i.e. is potentially soft.\n",
    "            if player[0] != 'A':  # re-order dual ace to the left\n",
    "                ace_index = player.index('A')  \n",
    "                player[0], player[ace_index] = player[ace_index], player[0]\n",
    "            \n",
    "            cardvalues_no_ace = [deck[card][1] for card in player[1::]]\n",
    "            \n",
    "            if sum(cardvalues_no_ace) <= 10: # check soft totals\n",
    "                lookup_soft_total = player[0] + str(sum(cardvalues_no_ace))\n",
    "\n",
    "                decision = basic_strategy_table.loc[lookup_soft_total, dealer[0]]\n",
    "            else:\n",
    "                lookup_hard_total = deck['A'][1] + sum(cardvalues_no_ace) # variable naming, hard total as ace can only take value 1 now\n",
    "                \n",
    "                decision = basic_strategy_table.loc[lookup_hard_total, dealer[0]]\n",
    "        else:\n",
    "            cardvalues = [deck[card][1] for card in player]\n",
    "            lookup_hard_total = sum(cardvalues)\n",
    "            \n",
    "            decision = basic_strategy_table.loc[lookup_hard_total, dealer[0]]\n",
    "            \n",
    "    return decision"
   ]
  },
  {
   "cell_type": "code",
   "execution_count": 340,
   "metadata": {},
   "outputs": [],
   "source": [
    "# Action module\n",
    "# player_action(decision)\n",
    "\n",
    "# Issue is that in the for loop, player_action(decision) being called on each element of the decision list, containing 'H', 'H',\n",
    "# ends up appending these cards to the original pre-split \n",
    "\n",
    "# Have amended to include player explicitly as an argument, rather than as a global variable lurking in the background,\n",
    "# as it will need to be operated on. \n",
    "\n",
    "def player_action(player, decision):\n",
    "    \n",
    "    if decision == 'S':\n",
    "        print(player)\n",
    "        return player# -> go to dealerturn()\n",
    "\n",
    "    if decision == 'D':\n",
    "        drawcard = rigged_shoe.pop()\n",
    "        player.append(drawcard)\n",
    "        print(player) #-> go to dealerturn(), and also have to modify payout\n",
    "        return player\n",
    "        \n",
    "    \n",
    "    if decision == 'H':\n",
    "        drawcard = rigged_shoe.pop()\n",
    "        player.append(drawcard)\n",
    "        print(player) #-> now there are three cards in player hand and one in dealer\n",
    "        return player\n",
    "        \n",
    "\n",
    "    if decision == 'Sp': \n",
    "        multiple_hand_player = [player[i:i+1] for i in range(len(player))] #splits the player hand into two cards and places them in two sub-hands\n",
    "    \n",
    "        drawcard1 = rigged_shoe.pop()\n",
    "        drawcard2 = rigged_shoe.pop()\n",
    "    \n",
    "        print(\"After, splitting, I receive {} and {} in each of my hands\".format(drawcard1, drawcard2))\n",
    "    \n",
    "        multiple_hand_player[0].append(drawcard1)\n",
    "        multiple_hand_player[1].append(drawcard2)\n",
    "        \n",
    "        print(\"My new hands are: \" + str(multiple_hand_player))\n",
    "        \n",
    "        return multiple_hand_player"
   ]
  },
  {
   "cell_type": "code",
   "execution_count": null,
   "metadata": {},
   "outputs": [],
   "source": []
  },
  {
   "cell_type": "code",
   "execution_count": 305,
   "metadata": {},
   "outputs": [
    {
     "name": "stdout",
     "output_type": "stream",
     "text": [
      "After, splitting, I receive 3 and A in each of my hands\n",
      "My new hands are: [['2', '3'], ['2', 'A']]\n"
     ]
    }
   ],
   "source": [
    "multiple_hand_player = player_action(player, decision)"
   ]
  },
  {
   "cell_type": "code",
   "execution_count": 307,
   "metadata": {},
   "outputs": [
    {
     "name": "stdout",
     "output_type": "stream",
     "text": [
      "I have a total of 5, I am going to hit\n"
     ]
    }
   ],
   "source": [
    "# Resolve the 1st split hand which has been dealt a card. \n",
    "\n",
    "decision = basic_player_multiple_hits(multiple_hand_player[0], dealer, player_blackjack)"
   ]
  },
  {
   "cell_type": "code",
   "execution_count": 308,
   "metadata": {},
   "outputs": [
    {
     "name": "stdout",
     "output_type": "stream",
     "text": [
      "H\n"
     ]
    }
   ],
   "source": [
    "print(decision)"
   ]
  },
  {
   "cell_type": "code",
   "execution_count": 309,
   "metadata": {},
   "outputs": [
    {
     "name": "stdout",
     "output_type": "stream",
     "text": [
      "['2', '3', '6']\n",
      "[['2', '3', '6'], ['2', 'A']]\n"
     ]
    }
   ],
   "source": [
    "# So it takes [2, 3] and outputs the decision 'H', to hit.\n",
    "# Pass BOTH [2, 3] AND the decision = 'H' back into the action module.\n",
    "# It will take both inputs and operate on [2, 3] by adding a card to it.\n",
    "# Then we reassign that output to the 0-th element of multiple_player_hand.\n",
    "\n",
    "multiple_hand_player[0] = player_action(multiple_hand_player[0], decision)\n",
    "print(multiple_hand_player)"
   ]
  },
  {
   "cell_type": "code",
   "execution_count": 310,
   "metadata": {},
   "outputs": [
    {
     "name": "stdout",
     "output_type": "stream",
     "text": [
      "D\n"
     ]
    }
   ],
   "source": [
    "# Now the new [2, 3, 6] hand will need to be passed through the decision module again. \n",
    "\n",
    "decision = basic_player_multiple_hits(multiple_hand_player[0], dealer, player_blackjack)\n",
    "print(decision)"
   ]
  },
  {
   "cell_type": "code",
   "execution_count": 311,
   "metadata": {},
   "outputs": [
    {
     "name": "stdout",
     "output_type": "stream",
     "text": [
      "['2', '3', '6', '3']\n",
      "[['2', '3', '6', '3'], ['2', 'A']]\n"
     ]
    }
   ],
   "source": [
    "multiple_hand_player[0] = player_action(multiple_hand_player[0], decision)\n",
    "print(multiple_hand_player)"
   ]
  },
  {
   "cell_type": "code",
   "execution_count": 312,
   "metadata": {},
   "outputs": [
    {
     "name": "stdout",
     "output_type": "stream",
     "text": [
      "H\n"
     ]
    }
   ],
   "source": [
    "decision = basic_player_multiple_hits(multiple_hand_player[0], dealer, player_blackjack)\n",
    "print(decision)"
   ]
  },
  {
   "cell_type": "code",
   "execution_count": 313,
   "metadata": {},
   "outputs": [
    {
     "name": "stdout",
     "output_type": "stream",
     "text": [
      "['2', '3', '6', '3', '6']\n",
      "[['2', '3', '6', '3', '6'], ['2', 'A']]\n"
     ]
    }
   ],
   "source": [
    "multiple_hand_player[0] = player_action(multiple_hand_player[0], decision)\n",
    "print(multiple_hand_player)"
   ]
  },
  {
   "cell_type": "code",
   "execution_count": 314,
   "metadata": {},
   "outputs": [
    {
     "name": "stdout",
     "output_type": "stream",
     "text": [
      "S\n"
     ]
    }
   ],
   "source": [
    "decision = basic_player_multiple_hits(multiple_hand_player[0], dealer, player_blackjack)\n",
    "print(decision)"
   ]
  },
  {
   "cell_type": "code",
   "execution_count": 315,
   "metadata": {},
   "outputs": [
    {
     "name": "stdout",
     "output_type": "stream",
     "text": [
      "['2', '3', '6', '3', '6']\n",
      "[['2', '3', '6', '3', '6'], ['2', 'A']]\n"
     ]
    }
   ],
   "source": [
    "multiple_hand_player[0] = player_action(multiple_hand_player[0], decision)\n",
    "print(multiple_hand_player)"
   ]
  },
  {
   "cell_type": "code",
   "execution_count": null,
   "metadata": {},
   "outputs": [],
   "source": [
    "# So now the 1st hand has been resolved, and has concluded at [2, 3, 6, 3, 6], in keeping with the basic strategy. "
   ]
  },
  {
   "cell_type": "code",
   "execution_count": 316,
   "metadata": {},
   "outputs": [
    {
     "name": "stdout",
     "output_type": "stream",
     "text": [
      "As I have a soft total, I am going to hit\n"
     ]
    }
   ],
   "source": [
    "# Let's now resolve the 2nd hand which has been dealt a card. \n",
    "\n",
    "decision = basic_player_multiple_hits(multiple_hand_player[1], dealer, player_blackjack)"
   ]
  },
  {
   "cell_type": "code",
   "execution_count": 317,
   "metadata": {},
   "outputs": [
    {
     "name": "stdout",
     "output_type": "stream",
     "text": [
      "H\n"
     ]
    }
   ],
   "source": [
    "print(decision)"
   ]
  },
  {
   "cell_type": "code",
   "execution_count": 318,
   "metadata": {},
   "outputs": [
    {
     "name": "stdout",
     "output_type": "stream",
     "text": [
      "['2', 'A', '6']\n",
      "[['2', '3', '6', '3', '6'], ['2', 'A', '6']]\n"
     ]
    }
   ],
   "source": [
    "# Above takes 2nd [2,A] hand and outputs decision = 'H' to hit.\n",
    "\n",
    "# Pass BOTH [2, A] AND the decision = 'H' back into the action module.\n",
    "# It will take both inputs and operate on [2, A] by adding a card to it.\n",
    "# Then we reassign that output to the 1st element (subhand) of multiple_player_hand.\n",
    "\n",
    "multiple_hand_player[1] = player_action(multiple_hand_player[1], decision)\n",
    "print(multiple_hand_player)"
   ]
  },
  {
   "cell_type": "code",
   "execution_count": 319,
   "metadata": {},
   "outputs": [
    {
     "name": "stdout",
     "output_type": "stream",
     "text": [
      "S\n"
     ]
    }
   ],
   "source": [
    "# Now the new [2, A, 6] hand will need to be passed through the decision module again. \n",
    "\n",
    "decision = basic_player_multiple_hits(multiple_hand_player[1], dealer, player_blackjack)\n",
    "print(decision)"
   ]
  },
  {
   "cell_type": "code",
   "execution_count": 320,
   "metadata": {},
   "outputs": [
    {
     "name": "stdout",
     "output_type": "stream",
     "text": [
      "['A', '2', '6']\n"
     ]
    }
   ],
   "source": [
    "# Now the hand [2, A, 6] and decision = 'S' will need to be passed into the action module again.\n",
    "multiple_hand_player[1] = player_action(multiple_hand_player[1], decision)"
   ]
  },
  {
   "cell_type": "code",
   "execution_count": 321,
   "metadata": {},
   "outputs": [
    {
     "name": "stdout",
     "output_type": "stream",
     "text": [
      "[['2', '3', '6', '3', '6'], ['A', '2', '6']]\n"
     ]
    }
   ],
   "source": [
    "print(multiple_hand_player)"
   ]
  },
  {
   "cell_type": "code",
   "execution_count": null,
   "metadata": {},
   "outputs": [],
   "source": [
    "# Both hands have now been resolved, as the decision module has output 'S', which when passed to action module will move onto\n",
    "# the dealer's turn.\n",
    "\n",
    "# Automate the above process using loops to call the decision and action modules on each element of the list of hands.\n",
    "\n",
    "for hand in multiple_hand_player:\n",
    "    decision = basic_player_multiple_hits(multiple_hand_player[0], dealer, player_blackjack)\n",
    "    multiple_hand_player[0] = player_action(multiple_hand_player[0], decision)"
   ]
  },
  {
   "cell_type": "code",
   "execution_count": 29,
   "metadata": {},
   "outputs": [],
   "source": [
    "# Recursive piece that will be merged with basic_player_multiple_hits() under a separate section that deals with multiple hands\n",
    "# Current strategy for coding this:\n",
    "# 1. Create a list of lists, with each hand being a list, inside a list\n",
    "# 2. Then have to evaluate each hand in this list, together with dealer card; using a lookup table.\n",
    "# 3. Why not just call the basic_player_multiplehits() module on each list inside the list? Then each of the two hands will\n",
    "# have a decision associated with it, which can be stored in a list with elements populated by decisions\n",
    "# Flow and work with the logic as you go along via testing rather than pre-planning. Hacker/engineer style rather than academic\n",
    "\n",
    "# A. player_blackjack variable is passed into basic_player decision modules.\n",
    "\n",
    "# Dealing with the one split case where there are hits"
   ]
  },
  {
   "cell_type": "code",
   "execution_count": 205,
   "metadata": {},
   "outputs": [
    {
     "name": "stdout",
     "output_type": "stream",
     "text": [
      "I have a total of 5, I am going to hit\n",
      "As I have a soft total, I am going to hit\n",
      "I have a total of 5, I am going to hit\n",
      "As I have a soft total, I am going to hit\n",
      "['H', 'H']\n"
     ]
    }
   ],
   "source": [
    "# Iterates through multiple_hand list of list and calls the decision module on each of the subhands, stores respective decision\n",
    "# in a decision list object. This will need to be passed through the action module.\n",
    "\n",
    "# Note that the design choice here is repeatedly calling the decision module on each on the individual subhands, rather than\n",
    "# including the multiple_hands list of lists as an additional argument of an extended decision module. But earlier plan\n",
    "# was to merge this wit basic_player_multiple_hits(). No biggie, they may not be mutually incompatible objectives...we will see.\n",
    "\n",
    "# Following the same principle, write a for loop that iterates through the list of lists and calls the action module on each\n",
    "# subhand to carry out the actions. \n",
    "\n",
    "# For now looking at H only. S is trivial. D is also trivial. But then finally will have to deal with the possibility of multiple\n",
    "# splits.\n",
    "\n",
    "# This repeated calling of the decision module works fine, decision element is produced and added to decision list.\n",
    "# There are no issues with the DM because it yields a consistent output, i.e. decision = {H, D, S, Sp} for each subhand.\n",
    "\n",
    "for i in range(len(multiple_hand_player)):\n",
    "    decision_list = []\n",
    "    for i in range(2):\n",
    "        decision_element = basic_player_multiple_hits(multiple_hand_player[i], dealer, player_blackjack)\n",
    "        decision_list.append(decision_element)\n",
    "print(decision_list)"
   ]
  },
  {
   "cell_type": "code",
   "execution_count": 165,
   "metadata": {},
   "outputs": [
    {
     "name": "stdout",
     "output_type": "stream",
     "text": [
      "[['2', '3', ['2', '2', '6', '3']], ['2', 'A', ['2', '2', '6', '3']]]\n"
     ]
    }
   ],
   "source": [
    "# Take each output decision in the decision list and pass it through the player_action function so that cards are added to\n",
    "# each hand\n",
    "\n",
    "# However, this module is slightly different to the one above. Currently, calling the action module using each element of the\n",
    "# decision list means that it operates on the initial player = [2,2] hand before splitting, so that cards are drawn from the\n",
    "# shoe and placed in player, yielding the output [2, 2, 6, 3].\n",
    "\n",
    "# Instead, we do not want the action module to add cards to the presplit [2, 2] hand, but to add the cards to each hand in\n",
    "# multiple_hand_player. \n",
    "\n",
    "# Can either adjust current action module; or recode one that DOES meet my requirements\n",
    "\n",
    "for i in range(len(decision_list)):\n",
    "    \n",
    "print(multiple_hand_player)"
   ]
  },
  {
   "cell_type": "code",
   "execution_count": 176,
   "metadata": {},
   "outputs": [
    {
     "data": {
      "text/plain": [
       "[['2', '3'], ['2', 'A']]"
      ]
     },
     "execution_count": 176,
     "metadata": {},
     "output_type": "execute_result"
    }
   ],
   "source": [
    "multiple_hand_player"
   ]
  },
  {
   "cell_type": "code",
   "execution_count": 268,
   "metadata": {},
   "outputs": [
    {
     "name": "stdout",
     "output_type": "stream",
     "text": [
      "I have a total of 5, I am going to hit\n"
     ]
    },
    {
     "data": {
      "text/plain": [
       "'H'"
      ]
     },
     "execution_count": 268,
     "metadata": {},
     "output_type": "execute_result"
    }
   ],
   "source": [
    "basic_player_multiple_hits(multiple_hand_player[0], dealer, player_blackjack)"
   ]
  },
  {
   "cell_type": "markdown",
   "metadata": {},
   "source": [
    "Notes\n",
    "\n",
    "* The dimensionality of the problem is increasing a lot, feels a little combinatorial as splits create a branching factor. And there are complexities in the above aspects. I am investigating whether it is at all possible in a realistic timeframe to code this up solely using functions, in particuar because my attentions has been drawn to the fact that classes can keep track of states. \n",
    "* Follow up: With a little thought, and some pen/paper methods, the issue is that each split creates a branching factor of 2, i.e. it creates two separate player hands which individually need to be looked up, and following the lookup, there will be four possible actions for each hand, yielding a total of 8 possible actions. It can be easy to get lost in all of this. But there is a self-styled cybernetic principle, which is that when looking at the evolution of behaviour of a system, examine its constraints. The importance of this becomes clearer when we consider that this may be used to limit how far we need to expand combinatorially. \n",
    "* Strategy: The key constraints here, in order of the extent to which they limit the branching of the decision tree, are the number of positions on the table it is possible to open with a separate bet. And also player capital.\n",
    "* Revision: On checking, it turns out there is no relationship between number of boxes/positions on the table, and the number of hands a player can split....\n",
    "* Thought: Impose an artificial limit \n",
    "* Revision2: Came from the question of how frequently I will encounter multi-way splits. Coding practice suggests that one should not spend too much time coding for non-existent events. Abusing the boudnary between rare and non-existent, how frequently will multi-way splits occur? Was going to say look at the table, but examining it, there are some features of conditional probability/combinatorics I don't currently feel necessitates serious exploration. The key is next point.\n",
    "\n",
    "\n",
    "* Strategy2: A constraint on the number of splits that will occur is the number of the \"same\" cards in the deck and the number of 52-card decks used. \n",
    "* Consider an arbitrary split on opening hand e.g. 2,2 for a 52-card deck. There will now be 2 hands, each containing one 2. If after hitting on both, either hand or both hands get a 2, then there will be 4 hands to play in total. This will be the maximum number of hands generated through splitting actions.\n",
    "* Consider an arbitrary split on an opening hands again e.g. 2,2 for a 2 52-cards decks. Then there will now be a maximum of 8 possible hands being played. \n",
    "* Following same logic, for an arbitrary split, and using n 52-card decks, there will be a maxmimum of 4n hands being played, corresponding to 4 hands for every 52-card deck being used (as this defines the total number of the same card value in circulation).\n",
    "* So for 6 decks, which is the standard for casino play, there will be a maxmimum of 24 possible hands resulting from splitting an arbitrary opening hand...\n",
    "\n",
    "\n",
    "* Strategy3: Reduce unnecessary complexity, and impose artificial limit, as these cases may be extreme edge cases, in particular the maximum for 6 decks - 24 possible hands! However, only if it really is that hard to extend the look up table to more than 2 hands. \n",
    "\n",
    "Key detail I may have missed and need to check - the exact process when a split happens. Was under the impression that after splitting, you have two 1-card hands from which you can either stick, double, hit.\n",
    "\n",
    "Think we assume that the the player is automatically given a card to turn \n",
    "\n",
    "Soft/hard hands:\n",
    "\n",
    "* This required a few hours of thought...but I got there in the end and it is remarkably simple. Perhaps I would got it more quickly if I thought aloud. \n",
    "* Correct question - under what conditions does the ace have a dual value. \n",
    "\n",
    "\n",
    "With 2 card hands, state lookup and transition is completely specified by the basic strategy table.\n",
    "\n",
    "\n",
    "For 3 card hands and higher:\n",
    "\n",
    "Assume (or place it there for lookup purposes) that the ace is on the left.\n",
    "\n",
    "If the sum of the remaining cards is less than or equal to 10, then this can be either 1 or 11, and is converted into A2 - A10, which can be looked up in the basic table.\n",
    "\n",
    "If the sum of the remaing cards is greater than or equal to 11, then this becomes a hard total and is converted into 12 - 21, which can be looked up.\n",
    "\n",
    "If there is more than one ace in the hand, only one ace will have the value 11. Use the above conditions to determine the lookup. \n",
    "\n",
    "Some extensions need to be appended to the BS lookup table. Will need to include A10 soft value. Has been amended.\n",
    "\n",
    "EDGE CASES\n",
    "\n",
    "Q: Can you hit more than once after you have split aces/receive more than one card? \n",
    "\n",
    "Q: Can you double after splitting aces? N0.\n",
    "\n",
    "Q: Can you split non identical value 10 cards\n",
    "\n",
    "Q: Can you split aces twice\n",
    "\n",
    "Q: Why is A2A not 4? - for the consistency of my rule.\n",
    "\n",
    "Q: Clarity on blackjack situations. In this case, all cards (in the event of a one player against dealer situation) are returned to the discard pile. \n",
    "\n",
    "Unless the dealer's card is ace or 10. In which case, some more complex rules apply. \n",
    "\n",
    "Will have to return to this as an amendment as don't want to disrupt flow\n",
    "\n",
    "If the dealer's card is an ace, there is the possibility of a black-jack specific insurance side bet.  - all dealth with in ML journal.\n",
    "\n",
    "Issue with 2 card decision module, to do with unbound variables. That's because I was passing a nonsensical input i.e. player = ['A', 'K'] AND player_blackjack = 0 simultaneously, so decision variable was not being bound as a result of this limbo condition.\n",
    "\n",
    "But issue remains with multiple card hand decision module - solved. Typo when checking the number of cards in the hand.\n",
    "\n",
    "Now have a roughshod basic_strategy decision module that can handle multiple cards in a hand, and can compute and lookup BS table with soft and hard hands. Well done! Now for more progress."
   ]
  },
  {
   "cell_type": "code",
   "execution_count": null,
   "metadata": {},
   "outputs": [],
   "source": []
  }
 ],
 "metadata": {
  "kernelspec": {
   "display_name": "Python 3",
   "language": "python",
   "name": "python3"
  },
  "language_info": {
   "codemirror_mode": {
    "name": "ipython",
    "version": 3
   },
   "file_extension": ".py",
   "mimetype": "text/x-python",
   "name": "python",
   "nbconvert_exporter": "python",
   "pygments_lexer": "ipython3",
   "version": "3.7.4"
  }
 },
 "nbformat": 4,
 "nbformat_minor": 2
}
