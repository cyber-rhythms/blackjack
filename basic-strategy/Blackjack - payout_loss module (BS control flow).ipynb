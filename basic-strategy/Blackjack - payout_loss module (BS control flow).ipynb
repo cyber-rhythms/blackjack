{
 "cells": [
  {
   "cell_type": "markdown",
   "metadata": {},
   "source": [
    "Amend the payout_loss module to account to compute end of hand payoffs/losses\n",
    "when the player has chosen to double down.\n",
    "\n",
    "Requires testing in BS CF environment.\n",
    "\n",
    "Amend to be able to handle player_split_hands\n",
    "\n",
    "Design consideration - should entries in the capital stock be done per round, or per each hand?\n",
    "\n",
    "Previously, capital stock have a new entry at the end of the round, and because no splits were allowed, this was the same as per hand.\n",
    "\n",
    "For now, treat every hand as an event in itself, and so make a new entry to the capital stock each time a hand is resolved. \n",
    "\n",
    "Can adjust later if necessary/\n",
    "\n",
    "Works fine on two examples."
   ]
  },
  {
   "cell_type": "code",
   "execution_count": 20,
   "metadata": {},
   "outputs": [],
   "source": [
    "def payout_loss(hand_outcome, decision):\n",
    "    \n",
    "    \"\"\"Uses the outcome to calculate payoffs/losses, and decision of whether player has doubled down\n",
    "    to update player's capital stock accordingly. \"\"\"\n",
    "    \n",
    "    global capital_stock\n",
    "    \n",
    "    if hand_outcome == 0:\n",
    "        if decision == 'D':\n",
    "            new_capital = capital_stock[-1] - (2 * bet_per_round)\n",
    "            capital_stock.append(new_capital)\n",
    "            print(\"Player loses \" + str(2 * bet_per_round) + \" pounds from earlier doubling down.\")\n",
    "        else:\n",
    "            new_capital = capital_stock[-1] - bet_per_round\n",
    "            capital_stock.append(new_capital)\n",
    "            print(\"Player loses \" + str(bet_per_round) + \" pounds.\")\n",
    "    \n",
    "    elif hand_outcome == 1:\n",
    "        if decision == 'D':\n",
    "            new_capital = capital_stock[-1] + (2 * bet_per_round)\n",
    "            capital_stock.append(new_capital)\n",
    "            print(\"Player wins \" + str(2 * bet_per_round) + \" pounds from earlier doubling down.\")\n",
    "        else:\n",
    "            new_capital = capital_stock[-1] + bet_per_round\n",
    "            capital_stock.append(new_capital)\n",
    "            print(\"Player wins  \" + str(bet_per_round) + \" pounds\")\n",
    "        \n",
    "    elif hand_outcome == 2:\n",
    "        new_capital = capital_stock[-1]\n",
    "        capital_stock.append(new_capital)\n",
    "        print(\"Draw, no change to player's initial capital.\")\n",
    "        \n",
    "    else:\n",
    "        new_capital = capital_stock[-1] + (1.5 * bet_per_round)\n",
    "        capital_stock.append(new_capital)\n",
    "        print(\"Player blackjacks, house pays out \" + str(1.5 * bet_per_round) + \" pounds.\")\n",
    "        \n",
    "    print(\"Player now has\" + \" \" + str(capital_stock[-1]) + \" \" + \"pounds remaining.\")\n",
    "        \n",
    "    return capital_stock"
   ]
  },
  {
   "cell_type": "code",
   "execution_count": 21,
   "metadata": {},
   "outputs": [],
   "source": [
    "def multiple_payout_loss(multiple_hand_outcome_list, decision_list):\n",
    "    \n",
    "    global capital_stock\n",
    "    \n",
    "    for hand_outcome, decision in zip(multiple_hand_outcome_list, decision_list):\n",
    "    \n",
    "        capital_stock = payout_loss(hand_outcome, decision)\n",
    "    \n",
    "    return capital_stock"
   ]
  },
  {
   "cell_type": "code",
   "execution_count": 17,
   "metadata": {},
   "outputs": [],
   "source": [
    "initial_capital = 5000\n",
    "capital_stock = [initial_capital]\n",
    "bet_per_round = 10"
   ]
  },
  {
   "cell_type": "code",
   "execution_count": 18,
   "metadata": {},
   "outputs": [],
   "source": [
    "multiple_hand_outcome_list = [0, 0, 0, 0, 0, 1, 0, 0, 0, 0, 1]\n",
    "decision_list = ['S', 'S', 'S', 'S', 'S', 'S', 'S', 'S', 'S', 'S', 'S']"
   ]
  },
  {
   "cell_type": "code",
   "execution_count": 19,
   "metadata": {},
   "outputs": [
    {
     "name": "stdout",
     "output_type": "stream",
     "text": [
      "Player loses 10 pounds.\n",
      "Player now has 4990 pounds remaining.\n",
      "Player loses 10 pounds.\n",
      "Player now has 4980 pounds remaining.\n",
      "Player loses 10 pounds.\n",
      "Player now has 4970 pounds remaining.\n",
      "Player loses 10 pounds.\n",
      "Player now has 4960 pounds remaining.\n",
      "Player loses 10 pounds.\n",
      "Player now has 4950 pounds remaining.\n",
      "Player wins  10 pounds\n",
      "Player now has 4960 pounds remaining.\n",
      "Player loses 10 pounds.\n",
      "Player now has 4950 pounds remaining.\n",
      "Player loses 10 pounds.\n",
      "Player now has 4940 pounds remaining.\n",
      "Player loses 10 pounds.\n",
      "Player now has 4930 pounds remaining.\n",
      "Player loses 10 pounds.\n",
      "Player now has 4920 pounds remaining.\n",
      "Player wins  10 pounds\n",
      "Player now has 4930 pounds remaining.\n"
     ]
    },
    {
     "data": {
      "text/plain": [
       "[5000, 4990, 4980, 4970, 4960, 4950, 4960, 4950, 4940, 4930, 4920, 4930]"
      ]
     },
     "execution_count": 19,
     "metadata": {},
     "output_type": "execute_result"
    }
   ],
   "source": [
    "multiple_payout_loss(multiple_hand_outcome_list, decision_list)"
   ]
  },
  {
   "cell_type": "code",
   "execution_count": null,
   "metadata": {},
   "outputs": [],
   "source": []
  }
 ],
 "metadata": {
  "kernelspec": {
   "display_name": "Python 3",
   "language": "python",
   "name": "python3"
  },
  "language_info": {
   "codemirror_mode": {
    "name": "ipython",
    "version": 3
   },
   "file_extension": ".py",
   "mimetype": "text/x-python",
   "name": "python",
   "nbconvert_exporter": "python",
   "pygments_lexer": "ipython3",
   "version": "3.7.4"
  }
 },
 "nbformat": 4,
 "nbformat_minor": 2
}
