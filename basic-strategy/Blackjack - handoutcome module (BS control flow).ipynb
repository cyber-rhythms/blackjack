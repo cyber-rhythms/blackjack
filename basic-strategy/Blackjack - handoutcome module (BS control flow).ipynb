{
 "cells": [
  {
   "cell_type": "markdown",
   "metadata": {},
   "source": [
    "Need to adjust this in light of new and updated BS control flow, but not including splits.\n",
    "\n",
    "1. Adjust to take bust_indicator arguments - done.\n",
    "\n",
    "* Amend to take into account of player_split_hands, i.e. multiple hands.\n",
    "* Currently tested on both examples from multiwaysplits (2) and all groovy."
   ]
  },
  {
   "cell_type": "code",
   "execution_count": 1,
   "metadata": {},
   "outputs": [],
   "source": [
    "def handoutcome(playerscore, dealerscore, player_blackjack):\n",
    "    \n",
    "    \"\"\"Compares player's and dealer's scores and encodes the outcome.\n",
    "    \n",
    "    Can be extended if analysis required tracking the evolution of this variable.\"\"\"\n",
    "    \n",
    "    if player_blackjack == 1:\n",
    "        hand_outcome = 3\n",
    "        print(\"Player wins the hand with Blackjack\")\n",
    "    else:\n",
    "        if playerscore > 21:\n",
    "            if dealerscore > 21:\n",
    "                hand_outcome = 0\n",
    "                print(\"Player busts. Dealer also busts. But the 'edge' means that player loses the hand.\")\n",
    "            else:\n",
    "                hand_outcome = 0\n",
    "                print(\"Player busts. Dealer wins the hand.\")\n",
    "        else:\n",
    "            if dealerscore > 21:\n",
    "                hand_outcome = 1\n",
    "                print(\"Dealer busts. Player wins the hand\")\n",
    "            else:\n",
    "                if dealerscore > playerscore:\n",
    "                    hand_outcome = 0\n",
    "                    print(\"Dealer has higher score. Dealer wins the hand\")\n",
    "                elif dealerscore < playerscore:\n",
    "                    hand_outcome = 1\n",
    "                    print(\"Player has higher score. Player wins the hand\")\n",
    "                else:\n",
    "                    hand_outcome = 2\n",
    "                    print(\"Both dealer and player have the same score, the outcome of the hand is a draw\")\n",
    "    \n",
    "    return hand_outcome"
   ]
  },
  {
   "cell_type": "code",
   "execution_count": 4,
   "metadata": {},
   "outputs": [],
   "source": [
    "def handoutcome(playerscore, dealerscore, playerbust_indicator, dealerbust_indicator, player_blackjack):\n",
    "    \n",
    "    \"\"\"Encodes the outcome of hand using whether or not the dealer or player has bust, their respective scores, and\n",
    "    whether the player has blackjacked.\n",
    "    \n",
    "    Can be extended if analysis required tracking the evolution of this variable.\"\"\"\n",
    "    \n",
    "    if player_blackjack == 1:\n",
    "        hand_outcome = 3\n",
    "        print(\"Player wins the hand with Blackjack\")\n",
    "    else:\n",
    "        if playerbust_indicator == 1 and dealerbust_indicator == 1:\n",
    "            hand_outcome = 0\n",
    "            print(\"Player busts. Dealer also busts. But the 'edge' means that player loses the hand.\")\n",
    "        elif playerbust_indicator == 0 and dealerbust_indicator == 1:\n",
    "            hand_outcome = 1 \n",
    "            print(\"Dealer busts. Player wins the hand\") \n",
    "        elif playerbust_indicator == 1 and dealerbust_indicator == 0:\n",
    "            hand_outcome = 0\n",
    "            print(\"Player busts. Player loses the hand\")\n",
    "        else:\n",
    "            if playerscore > dealerscore:\n",
    "                hand_outcome = 1\n",
    "                print(\"Player has higher score. Player wins the hand\")\n",
    "            elif playerscore < dealerscore:\n",
    "                hand_outcome = 0\n",
    "                print(\"Dealer has higher score. Dealer wins the hand\")\n",
    "            else:\n",
    "                hand_outcome = 2\n",
    "                print(\"Both dealer and player have the same score, the outcome of the hand is a draw.\")\n",
    "                  \n",
    "    return hand_outcome"
   ]
  },
  {
   "cell_type": "code",
   "execution_count": 5,
   "metadata": {},
   "outputs": [],
   "source": [
    "def multiple_hand_outcomes(playerscore_list, dealerscore, \n",
    "                           playerbust_indicator_list, dealerbust_indicator, \n",
    "                           player_blackjack):\n",
    "    \n",
    "    multiple_hand_outcome_list = []\n",
    "    \n",
    "    for playerscore, playerbust_indicator in zip(playerscore_list, playerbust_indicator_list):\n",
    "        hand_outcome = handoutcome(playerscore, dealerscore, playerbust_indicator, dealerbust_indicator, player_blackjack)\n",
    "        multiple_hand_outcome_list.append(hand_outcome)\n",
    "        \n",
    "    return multiple_hand_outcome_list"
   ]
  },
  {
   "cell_type": "code",
   "execution_count": 10,
   "metadata": {},
   "outputs": [],
   "source": [
    "playerscore_list = [18, 13, 13, 18, 16, 20, 15, 13, 13, 14, 20]\n",
    "playerbust_indicator_list = [0, 0, 0, 0, 0, 0, 0, 0, 0, 0, 0]\n",
    "player_blackjack = 0"
   ]
  },
  {
   "cell_type": "code",
   "execution_count": 11,
   "metadata": {},
   "outputs": [
    {
     "name": "stdout",
     "output_type": "stream",
     "text": [
      "Dealer has higher score. Dealer wins the hand\n",
      "Dealer has higher score. Dealer wins the hand\n",
      "Dealer has higher score. Dealer wins the hand\n",
      "Dealer has higher score. Dealer wins the hand\n",
      "Dealer has higher score. Dealer wins the hand\n",
      "Player has higher score. Player wins the hand\n",
      "Dealer has higher score. Dealer wins the hand\n",
      "Dealer has higher score. Dealer wins the hand\n",
      "Dealer has higher score. Dealer wins the hand\n",
      "Dealer has higher score. Dealer wins the hand\n",
      "Player has higher score. Player wins the hand\n"
     ]
    },
    {
     "data": {
      "text/plain": [
       "[0, 0, 0, 0, 0, 1, 0, 0, 0, 0, 1]"
      ]
     },
     "execution_count": 11,
     "metadata": {},
     "output_type": "execute_result"
    }
   ],
   "source": [
    "multiple_hand_outcomes(playerscore_list, 19, playerbust_indicator_list, 0, player_blackjack)"
   ]
  },
  {
   "cell_type": "code",
   "execution_count": null,
   "metadata": {},
   "outputs": [],
   "source": []
  }
 ],
 "metadata": {
  "kernelspec": {
   "display_name": "Python 3",
   "language": "python",
   "name": "python3"
  },
  "language_info": {
   "codemirror_mode": {
    "name": "ipython",
    "version": 3
   },
   "file_extension": ".py",
   "mimetype": "text/x-python",
   "name": "python",
   "nbconvert_exporter": "python",
   "pygments_lexer": "ipython3",
   "version": "3.7.4"
  }
 },
 "nbformat": 4,
 "nbformat_minor": 2
}
