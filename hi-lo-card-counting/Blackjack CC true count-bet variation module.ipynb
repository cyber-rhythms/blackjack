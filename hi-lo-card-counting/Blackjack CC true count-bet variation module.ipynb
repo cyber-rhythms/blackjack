{
 "cells": [
  {
   "cell_type": "markdown",
   "metadata": {},
   "source": [
    "This module implements HI-LO card-counting.\n",
    "\n",
    "This works by assigning point values of (-1, 0, 1) to the denominations of cards ({2, 3, ,4, 5, 6}, {7 , 8, 9}, {10, J, Q, K, A}), the running count. \n",
    "\n",
    "In this module, the true count is evaluated to be (running count) / (no. unseen decks).\n",
    "\n",
    "At the start of each round, the player will place her bet, according to the true count that has been updated from the end of the previous round.\n",
    "\n",
    "Betting behaviour needs to be refined, but for now, we will use the slapstick 20x bet if TC > 2; and 1x bet if TC < 2.\n",
    "\n",
    "Implementation consists of two modules.\n",
    "\n",
    "* The player_bet module uses the true count to vary the player bets, as defined above.\n",
    "* An important initial edge case that needs to be specified is when no cards have been dealt, when bets are placed on the 1st round of a particular shoe.\n",
    "\n",
    "\n",
    "* The update_truecount module computes the true count at the end of a round, after all cards have been dealt. It takes the player and dealer's hand as input; and previous round running count and total cards dealt to compute the true count.\n",
    "\n",
    "* The updated running count, total cards dealt and true count are then stored for use in the next round.\n",
    "\n",
    "\n",
    "* A feature needs to be added at the control flow level whereby the true count, running count and total cards dealt are reset to 0 after the shoe has been shuffled (i.e. the replenish shoe module has been triggered).\n",
    "\n",
    "\n",
    "* We need to emphasise that the new true count is computed and updated using the player hand, the dealer hand, the running count, and the total cards dealt.\n",
    "\n",
    "Integration into CF:\n",
    "\n",
    "* Need to amend the way that payouts and losses are computed - as we will no longer be using constant bets per round, but rather, a bet informed by the true count.\n",
    "\n",
    "* Need to write this to account for multiway splits also, but shouldn't be too difficult."
   ]
  },
  {
   "cell_type": "code",
   "execution_count": 16,
   "metadata": {},
   "outputs": [],
   "source": [
    "import pandas as pd\n",
    "import random\n",
    "from matplotlib import pyplot \n",
    "import numpy as np"
   ]
  },
  {
   "cell_type": "code",
   "execution_count": 17,
   "metadata": {},
   "outputs": [],
   "source": [
    "def getcards(decks=1):\n",
    "    \"\"\"Brings out a number of sealed decks of cards in their original order to the virutal gaming table.\n",
    "\n",
    "    Creates a dictionary tracking the name of each card, its quantity, and its value\n",
    "    \n",
    "    Keyword argument:\n",
    "        decks {int} -- the number of 52-card decks that the casino is using (default 1)\n",
    "    \n",
    "    Returns:\n",
    "        dictionary{keys: values} -- dictionary object where keys are the card name (e.g. 'K' for King )\n",
    "                                    and where the values are a list object containing the card's quantity and its value.\n",
    "                                    \n",
    "    The value for the ace contains three elements, as aces can further take on the value of 1 or 11, depending on \n",
    "    the context of the hand. No distinction is made between card suits, i.e. spades, hearts, clubs, diamonds.\n",
    "    \"\"\"\n",
    "    \n",
    "    deck = {}\n",
    "    total_cards = decks * 52\n",
    "    card_quantity = int(total_cards / 13)\n",
    "    \n",
    "    deck['A'] = [card_quantity, 1, 11]\n",
    "\n",
    "    for card in range(2, 11):\n",
    "        deck[str(card)] = [card_quantity, card]\n",
    "    \n",
    "    for card in \"JQK\":\n",
    "        deck[str(card)] = [card_quantity, 10]\n",
    "        \n",
    "    return deck, total_cards"
   ]
  },
  {
   "cell_type": "code",
   "execution_count": 18,
   "metadata": {},
   "outputs": [],
   "source": [
    "def shuffler(deck, total_cards):\n",
    "    \n",
    "    \"\"\"Shuffles the decks of cards, and places them inside the virtual gaming table card-shoe.\"\"\"\n",
    "    \n",
    "    shuffled_shoe = []\n",
    "    \n",
    "    while len(shuffled_shoe) < total_cards:\n",
    "        draw = random.choice(list(deck))\n",
    "        if deck[draw][0] == 0:\n",
    "            pass\n",
    "        else:\n",
    "            deck[draw][0] -= 1\n",
    "            shuffled_shoe.append(draw)\n",
    "            \n",
    "    return shuffled_shoe"
   ]
  },
  {
   "cell_type": "code",
   "execution_count": 19,
   "metadata": {},
   "outputs": [],
   "source": [
    "def openinghand():\n",
    "    \n",
    "    \"\"\"Deals two cards to the player, and one to the dealer from the shuffled shoe. Outputs a message if there is Blackjack\n",
    "    \n",
    "    Cards are taken sequentially from the shuffled card shoe, beginning with the last element of the shuffled shoe list object\n",
    "    and working in reverse order.\"\"\"\n",
    "    \n",
    "    player = []\n",
    "    dealer = []\n",
    "\n",
    "    player.append(shuffled_shoe.pop())\n",
    "    player.append(shuffled_shoe.pop())\n",
    "    \n",
    "    dealer.append(shuffled_shoe.pop())\n",
    "    \n",
    "    if ('A' in player) and (('10' in player) or ('J' in player) or ('Q' in player) or ('K' in player)):\n",
    "        player_blackjack = 1\n",
    "        print(\"Blackjack, house pays out at 3:2\")\n",
    "    else:\n",
    "        player_blackjack = 0\n",
    "        print(\"No Blackjack this time\")\n",
    "        \n",
    "    return player, dealer, player_blackjack"
   ]
  },
  {
   "cell_type": "code",
   "execution_count": 20,
   "metadata": {},
   "outputs": [],
   "source": [
    "deck, total_cards = getcards(decks=1)\n",
    "shuffled_shoe = shuffler(deck, total_cards)\n",
    "bet_per_round = 5\n",
    "\n",
    "truecount = 0\n",
    "total_cards_dealt = 0\n",
    "runningcount = 0"
   ]
  },
  {
   "cell_type": "code",
   "execution_count": 316,
   "metadata": {},
   "outputs": [
    {
     "name": "stdout",
     "output_type": "stream",
     "text": [
      "As this is the first round, there is no available statistical information to use to place bets.\n",
      "I will therefore bet 5\n",
      "Blackjack, house pays out at 3:2\n",
      "The running count is -3, and the number of unseen decks is 0.9423076923076923, giving a true count of -3.183673469387755\n"
     ]
    }
   ],
   "source": [
    "current_hand_bet = player_bets(truecount, total_cards_dealt)\n",
    "player, dealer, player_blackjack = openinghand()\n",
    "truecount, runningcount, total_cards_dealt = update_truecount(player, dealer, runningcount, total_cards_dealt)"
   ]
  },
  {
   "cell_type": "code",
   "execution_count": 317,
   "metadata": {},
   "outputs": [
    {
     "name": "stdout",
     "output_type": "stream",
     "text": [
      "['10', 'A'] ['A']\n"
     ]
    }
   ],
   "source": [
    "print(player, dealer)"
   ]
  },
  {
   "cell_type": "code",
   "execution_count": 34,
   "metadata": {},
   "outputs": [],
   "source": [
    "def player_bets(truecount, total_cards_dealt):\n",
    "    \n",
    "    \"\"\"A specification of player betting behaviour. Uses the truecount from the previous round to inform betting behaviour.\n",
    "    If it is the first round of a shoe, then the minimum bet is placed.\"\"\"\n",
    "    \n",
    "    if total_cards_dealt == 0:\n",
    "        current_hand_bet = bet_per_round\n",
    "        print(\"As this is the first round of the shoe, there is no available statistical information to use to place bets.\")\n",
    "        print(\"I will therefore bet {}\".format(current_hand_bet))\n",
    "    else:\n",
    "        if (truecount <= 2):\n",
    "            current_hand_bet = bet_per_round\n",
    "            print(\"As the true count is {}, I will bet {}\".format(truecount, current_hand_bet))\n",
    "        if truecount > 2:\n",
    "            current_hand_bet = 20 * bet_per_round\n",
    "            print(\"As the true count is {}, I will bet {}\".format(truecount, current_hand_bet))\n",
    "    return current_hand_bet"
   ]
  },
  {
   "cell_type": "code",
   "execution_count": 32,
   "metadata": {},
   "outputs": [],
   "source": [
    "def update_truecount(player, dealer, runningcount, total_cards_dealt):\n",
    "    \n",
    "    \"\"\"Updates the true count, running count, and the number of cards dealt; at the end of the round. This information is used\n",
    "    to inform the player's bet in the next round.\"\"\"\n",
    "    \n",
    "    print(\"At the beginning of the round, the running count was {}, and the total number of cards dealt was {}\".format(runningcount, total_cards_dealt))\n",
    "    \n",
    "    cards_dealt = player + dealer\n",
    "    \n",
    "    current_round_running_count = 0 \n",
    "    \n",
    "    for card in cards_dealt:\n",
    "        if card in ['2','3','4','5','6']:\n",
    "            current_round_running_count += 1\n",
    "        if card in ['7','8','9']:\n",
    "            current_round_running_count += 0\n",
    "        if card in ['10','J', 'Q', 'K', 'A']:\n",
    "            current_round_running_count -= 1\n",
    "            \n",
    "    runningcount = current_round_running_count + runningcount\n",
    "            \n",
    "    current_round_cards_dealt = len(cards_dealt)\n",
    "    total_cards_dealt += current_round_cards_dealt\n",
    "    total_unseen_cards = total_cards - total_cards_dealt\n",
    "    unseen_decks = total_unseen_cards / 52 \n",
    "    truecount = runningcount / unseen_decks\n",
    "    \n",
    "    print(\"The running count change for this round is {}\".format(current_round_running_count))\n",
    "    \n",
    "    print(\"At the end of the round, the running count is now {}, and the number of unseen decks is {}, giving a true count of {}\".format(runningcount, unseen_decks, truecount))\n",
    "    \n",
    "    return truecount, runningcount, total_cards_dealt"
   ]
  },
  {
   "cell_type": "code",
   "execution_count": 33,
   "metadata": {},
   "outputs": [],
   "source": [
    "def multiple_hand_update_truecount(player_split_hands, dealer, runningcount, total_cards_dealt):\n",
    "    \n",
    "    \"\"\"Updates the true count, running count and the number of cards dealt; at the end of round, for every hand.\"\"\"\n",
    "    \n",
    "    print(\"At the beginning of the round, the running count was {}, and the total number of cards dealt was {}\".format(runningcount, total_cards_dealt))\n",
    "    \n",
    "    cards_dealt = []\n",
    "    \n",
    "    for hand in player_split_hands:\n",
    "        cards_dealt += hand\n",
    "        \n",
    "    cards_dealt += dealer\n",
    "    \n",
    "    current_round_running_count = 0\n",
    "    \n",
    "    for card in cards_dealt:\n",
    "        if card in ['2','3','4','5','6']:\n",
    "            current_round_running_count += 1\n",
    "        if card in ['7','8','9']:\n",
    "            current_round_running_count += 0\n",
    "        if card in ['10','J', 'Q', 'K', 'A']:\n",
    "            current_round_running_count -= 1\n",
    "            \n",
    "    runningcount = current_round_running_count + runningcount\n",
    "            \n",
    "    current_round_cards_dealt = len(cards_dealt)\n",
    "    total_cards_dealt += current_round_cards_dealt\n",
    "    total_unseen_cards = total_cards - total_cards_dealt\n",
    "    unseen_decks = total_unseen_cards / 52 \n",
    "    truecount = runningcount / unseen_decks\n",
    "    \n",
    "    print(\"The running count change for this round is {}\".format(current_round_running_count))\n",
    "    \n",
    "    print(\"The running count is {}, and the number of unseen decks is {}, giving a true count of {}\".format(runningcount, unseen_decks, truecount))\n",
    "    \n",
    "    return truecount, runningcount, total_cards_dealt"
   ]
  },
  {
   "cell_type": "code",
   "execution_count": 5,
   "metadata": {},
   "outputs": [],
   "source": [
    "def clear_count_variables(truecount, runningcount, total_cards_dealt):\n",
    "    \n",
    "    truecount = 0\n",
    "    runningcount = 0\n",
    "    total_cards_dealt = 0\n",
    "    \n",
    "    return truecount, runningcount, total_cards_dealt"
   ]
  },
  {
   "cell_type": "code",
   "execution_count": 4,
   "metadata": {},
   "outputs": [],
   "source": [
    "def replenish_shoe(threshold):\n",
    "    \n",
    "    \"\"\"Checks whether or not  we are near the end of a shoe. If so, discards the remaining cards in the current shoe,\n",
    "    collects them together with remaining cards that were discarded in previous hands, reshuffles all of them togther,\n",
    "    and finally replenishes the shoe.\"\"\"\n",
    "    \n",
    "    global deck\n",
    "    global total_cards\n",
    "    global shuffled_shoe\n",
    "    global truecount\n",
    "    global runningcount\n",
    "    global total_cards_dealt\n",
    "    \n",
    "    fraction_cards_remaining = len(shuffled_shoe) / total_cards\n",
    "    \n",
    "    if fraction_cards_remaining < threshold:\n",
    "        shuffled_shoe.clear\n",
    "        deck, total_cards = getcards(decks=6)\n",
    "        shuffled_shoe = shuffler(deck, total_cards)\n",
    "        print(\"As we are reaching near the end of the shoe, we will reshuffle\")\n",
    "        truecount, runningcount, total_cards_dealt = clear_count_variables(truecount, runningcount, total_cards_dealt)\n",
    "        print(\"As we have reshuffled, all card-counting variables are reset\")\n",
    "    else:\n",
    "        print(\"No need for reshuffling yet, as card threshold not reached\")\n",
    "\n",
    "    return shuffled_shoe"
   ]
  },
  {
   "cell_type": "code",
   "execution_count": 7,
   "metadata": {},
   "outputs": [],
   "source": [
    "def payout_loss(hand_outcome, decision):\n",
    "    \n",
    "    \"\"\"Uses the outcome to calculate payoffs/losses, and decision of whether player has doubled down\n",
    "    to update player's capital stock accordingly. \"\"\"\n",
    "    \n",
    "    global capital_stock\n",
    "    \n",
    "    if hand_outcome == 0:\n",
    "        if decision == 'D':\n",
    "            new_capital = capital_stock[-1] - (2 * current_hand_bet)\n",
    "            capital_stock.append(new_capital)\n",
    "            print(\"Player loses \" + str(2 * current_hand_bet) + \" pounds from earlier doubling down.\")\n",
    "        else:\n",
    "            new_capital = capital_stock[-1] - current_hand_bet\n",
    "            capital_stock.append(new_capital)\n",
    "            print(\"Player loses \" + str(current_hand_bet) + \" pounds.\")\n",
    "    \n",
    "    elif hand_outcome == 1:\n",
    "        if decision == 'D':\n",
    "            new_capital = capital_stock[-1] + (2 * current_hand_bet)\n",
    "            capital_stock.append(new_capital)\n",
    "            print(\"Player wins \" + str(2 * current_hand_bet) + \" pounds from earlier doubling down.\")\n",
    "        else:\n",
    "            new_capital = capital_stock[-1] + current_hand_bet\n",
    "            capital_stock.append(new_capital)\n",
    "            print(\"Player wins  \" + str(current_hand_bet) + \" pounds\")\n",
    "        \n",
    "    elif hand_outcome == 2:\n",
    "        new_capital = capital_stock[-1]\n",
    "        capital_stock.append(new_capital)\n",
    "        print(\"Draw, no change to player's initial capital.\")\n",
    "        \n",
    "    else:\n",
    "        new_capital = capital_stock[-1] + (1.5 * current_hand_bet)\n",
    "        capital_stock.append(new_capital)\n",
    "        print(\"Player blackjacks, house pays out \" + str(1.5 * current_hand_bet) + \" pounds.\")\n",
    "        \n",
    "    print(\"Player now has\" + \" \" + str(capital_stock[-1]) + \" \" + \"pounds remaining.\")\n",
    "        \n",
    "    return capital_stock"
   ]
  },
  {
   "cell_type": "code",
   "execution_count": 8,
   "metadata": {},
   "outputs": [],
   "source": [
    "def multiple_payout_loss(multiple_hand_outcome_list, decision_list):\n",
    "    \n",
    "    global capital_stock\n",
    "    \n",
    "    for hand_outcome, decision in zip(multiple_hand_outcome_list, decision_list):\n",
    "    \n",
    "        capital_stock = payout_loss(hand_outcome, decision)\n",
    "    \n",
    "    return capital_stock"
   ]
  },
  {
   "cell_type": "code",
   "execution_count": 31,
   "metadata": {},
   "outputs": [
    {
     "name": "stdout",
     "output_type": "stream",
     "text": [
      "The running count is 8, and the number of unseen decks is 0.6923076923076923, giving a true count of 11.555555555555555\n"
     ]
    },
    {
     "data": {
      "text/plain": [
       "(11.555555555555555, 8, 16)"
      ]
     },
     "execution_count": 31,
     "metadata": {},
     "output_type": "execute_result"
    }
   ],
   "source": [
    "multiple_hand_update_truecount([['2','2'],['2','2'],['2','2']], ['2','2'], 0, 8)"
   ]
  },
  {
   "cell_type": "code",
   "execution_count": null,
   "metadata": {},
   "outputs": [],
   "source": []
  }
 ],
 "metadata": {
  "kernelspec": {
   "display_name": "Python 3",
   "language": "python",
   "name": "python3"
  },
  "language_info": {
   "codemirror_mode": {
    "name": "ipython",
    "version": 3
   },
   "file_extension": ".py",
   "mimetype": "text/x-python",
   "name": "python",
   "nbconvert_exporter": "python",
   "pygments_lexer": "ipython3",
   "version": "3.7.4"
  }
 },
 "nbformat": 4,
 "nbformat_minor": 2
}
