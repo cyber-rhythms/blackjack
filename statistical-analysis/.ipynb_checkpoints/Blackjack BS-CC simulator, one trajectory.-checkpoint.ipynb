{
 "cells": [
  {
   "cell_type": "code",
   "execution_count": 1,
   "metadata": {},
   "outputs": [],
   "source": [
    "import pandas as pd\n",
    "from matplotlib import pyplot as plt\n",
    "from matplotlib.pyplot import stem\n",
    "import random\n",
    "import numpy as np"
   ]
  },
  {
   "cell_type": "code",
   "execution_count": 2,
   "metadata": {},
   "outputs": [],
   "source": [
    "basic_strategy_series = pd.read_csv(\"BS_simulation.csv\", header=None)"
   ]
  },
  {
   "cell_type": "code",
   "execution_count": 13,
   "metadata": {},
   "outputs": [],
   "source": [
    "hi_lo_strategy_series = pd.read_csv(\"CC_simulation.csv\", header=None)"
   ]
  },
  {
   "cell_type": "code",
   "execution_count": 14,
   "metadata": {},
   "outputs": [
    {
     "data": {
      "text/html": [
       "<div>\n",
       "<style scoped>\n",
       "    .dataframe tbody tr th:only-of-type {\n",
       "        vertical-align: middle;\n",
       "    }\n",
       "\n",
       "    .dataframe tbody tr th {\n",
       "        vertical-align: top;\n",
       "    }\n",
       "\n",
       "    .dataframe thead th {\n",
       "        text-align: right;\n",
       "    }\n",
       "</style>\n",
       "<table border=\"1\" class=\"dataframe\">\n",
       "  <thead>\n",
       "    <tr style=\"text-align: right;\">\n",
       "      <th></th>\n",
       "      <th>0</th>\n",
       "      <th>1</th>\n",
       "      <th>2</th>\n",
       "      <th>3</th>\n",
       "      <th>4</th>\n",
       "      <th>5</th>\n",
       "      <th>6</th>\n",
       "      <th>7</th>\n",
       "      <th>8</th>\n",
       "      <th>9</th>\n",
       "      <th>...</th>\n",
       "      <th>990</th>\n",
       "      <th>991</th>\n",
       "      <th>992</th>\n",
       "      <th>993</th>\n",
       "      <th>994</th>\n",
       "      <th>995</th>\n",
       "      <th>996</th>\n",
       "      <th>997</th>\n",
       "      <th>998</th>\n",
       "      <th>999</th>\n",
       "    </tr>\n",
       "  </thead>\n",
       "  <tbody>\n",
       "    <tr>\n",
       "      <td>0</td>\n",
       "      <td>5000.0</td>\n",
       "      <td>4990.0</td>\n",
       "      <td>4985.0</td>\n",
       "      <td>4985.0</td>\n",
       "      <td>4980.0</td>\n",
       "      <td>4975.0</td>\n",
       "      <td>4980.0</td>\n",
       "      <td>4985.0</td>\n",
       "      <td>4995.0</td>\n",
       "      <td>5000.0</td>\n",
       "      <td>...</td>\n",
       "      <td>5185.0</td>\n",
       "      <td>5190.0</td>\n",
       "      <td>5195.0</td>\n",
       "      <td>5190.0</td>\n",
       "      <td>5195.0</td>\n",
       "      <td>5185.0</td>\n",
       "      <td>5190.0</td>\n",
       "      <td>5185.0</td>\n",
       "      <td>5190.0</td>\n",
       "      <td>5185.0</td>\n",
       "    </tr>\n",
       "    <tr>\n",
       "      <td>1</td>\n",
       "      <td>5000.0</td>\n",
       "      <td>5000.0</td>\n",
       "      <td>4995.0</td>\n",
       "      <td>4990.0</td>\n",
       "      <td>4990.0</td>\n",
       "      <td>4995.0</td>\n",
       "      <td>5000.0</td>\n",
       "      <td>5005.0</td>\n",
       "      <td>5000.0</td>\n",
       "      <td>5005.0</td>\n",
       "      <td>...</td>\n",
       "      <td>4975.0</td>\n",
       "      <td>4975.0</td>\n",
       "      <td>4980.0</td>\n",
       "      <td>4985.0</td>\n",
       "      <td>4980.0</td>\n",
       "      <td>4985.0</td>\n",
       "      <td>4995.0</td>\n",
       "      <td>5000.0</td>\n",
       "      <td>5005.0</td>\n",
       "      <td>5000.0</td>\n",
       "    </tr>\n",
       "  </tbody>\n",
       "</table>\n",
       "<p>2 rows × 1000 columns</p>\n",
       "</div>"
      ],
      "text/plain": [
       "      0       1       2       3       4       5       6       7       8    \\\n",
       "0  5000.0  4990.0  4985.0  4985.0  4980.0  4975.0  4980.0  4985.0  4995.0   \n",
       "1  5000.0  5000.0  4995.0  4990.0  4990.0  4995.0  5000.0  5005.0  5000.0   \n",
       "\n",
       "      9    ...     990     991     992     993     994     995     996  \\\n",
       "0  5000.0  ...  5185.0  5190.0  5195.0  5190.0  5195.0  5185.0  5190.0   \n",
       "1  5005.0  ...  4975.0  4975.0  4980.0  4985.0  4980.0  4985.0  4995.0   \n",
       "\n",
       "      997     998     999  \n",
       "0  5185.0  5190.0  5185.0  \n",
       "1  5000.0  5005.0  5000.0  \n",
       "\n",
       "[2 rows x 1000 columns]"
      ]
     },
     "execution_count": 14,
     "metadata": {},
     "output_type": "execute_result"
    }
   ],
   "source": [
    "basic_strategy_series.head()"
   ]
  },
  {
   "cell_type": "code",
   "execution_count": 15,
   "metadata": {},
   "outputs": [
    {
     "data": {
      "text/html": [
       "<div>\n",
       "<style scoped>\n",
       "    .dataframe tbody tr th:only-of-type {\n",
       "        vertical-align: middle;\n",
       "    }\n",
       "\n",
       "    .dataframe tbody tr th {\n",
       "        vertical-align: top;\n",
       "    }\n",
       "\n",
       "    .dataframe thead th {\n",
       "        text-align: right;\n",
       "    }\n",
       "</style>\n",
       "<table border=\"1\" class=\"dataframe\">\n",
       "  <thead>\n",
       "    <tr style=\"text-align: right;\">\n",
       "      <th></th>\n",
       "      <th>0</th>\n",
       "      <th>1</th>\n",
       "      <th>2</th>\n",
       "      <th>3</th>\n",
       "      <th>4</th>\n",
       "      <th>5</th>\n",
       "      <th>6</th>\n",
       "      <th>7</th>\n",
       "      <th>8</th>\n",
       "      <th>9</th>\n",
       "      <th>...</th>\n",
       "      <th>990</th>\n",
       "      <th>991</th>\n",
       "      <th>992</th>\n",
       "      <th>993</th>\n",
       "      <th>994</th>\n",
       "      <th>995</th>\n",
       "      <th>996</th>\n",
       "      <th>997</th>\n",
       "      <th>998</th>\n",
       "      <th>999</th>\n",
       "    </tr>\n",
       "  </thead>\n",
       "  <tbody>\n",
       "    <tr>\n",
       "      <td>0</td>\n",
       "      <td>5000.0</td>\n",
       "      <td>4990.0</td>\n",
       "      <td>4985.0</td>\n",
       "      <td>4985.0</td>\n",
       "      <td>4980.0</td>\n",
       "      <td>4975.0</td>\n",
       "      <td>5075.0</td>\n",
       "      <td>5080.0</td>\n",
       "      <td>5090.0</td>\n",
       "      <td>5190.0</td>\n",
       "      <td>...</td>\n",
       "      <td>7940.0</td>\n",
       "      <td>7945.0</td>\n",
       "      <td>7950.0</td>\n",
       "      <td>7945.0</td>\n",
       "      <td>7950.0</td>\n",
       "      <td>7940.0</td>\n",
       "      <td>7945.0</td>\n",
       "      <td>7940.0</td>\n",
       "      <td>7945.0</td>\n",
       "      <td>7940.0</td>\n",
       "    </tr>\n",
       "    <tr>\n",
       "      <td>1</td>\n",
       "      <td>5000.0</td>\n",
       "      <td>5000.0</td>\n",
       "      <td>4995.0</td>\n",
       "      <td>4990.0</td>\n",
       "      <td>4990.0</td>\n",
       "      <td>4995.0</td>\n",
       "      <td>5000.0</td>\n",
       "      <td>5005.0</td>\n",
       "      <td>5000.0</td>\n",
       "      <td>5005.0</td>\n",
       "      <td>...</td>\n",
       "      <td>5925.0</td>\n",
       "      <td>5925.0</td>\n",
       "      <td>5930.0</td>\n",
       "      <td>5935.0</td>\n",
       "      <td>5930.0</td>\n",
       "      <td>5935.0</td>\n",
       "      <td>5945.0</td>\n",
       "      <td>5950.0</td>\n",
       "      <td>5955.0</td>\n",
       "      <td>5950.0</td>\n",
       "    </tr>\n",
       "  </tbody>\n",
       "</table>\n",
       "<p>2 rows × 1000 columns</p>\n",
       "</div>"
      ],
      "text/plain": [
       "      0       1       2       3       4       5       6       7       8    \\\n",
       "0  5000.0  4990.0  4985.0  4985.0  4980.0  4975.0  5075.0  5080.0  5090.0   \n",
       "1  5000.0  5000.0  4995.0  4990.0  4990.0  4995.0  5000.0  5005.0  5000.0   \n",
       "\n",
       "      9    ...     990     991     992     993     994     995     996  \\\n",
       "0  5190.0  ...  7940.0  7945.0  7950.0  7945.0  7950.0  7940.0  7945.0   \n",
       "1  5005.0  ...  5925.0  5925.0  5930.0  5935.0  5930.0  5935.0  5945.0   \n",
       "\n",
       "      997     998     999  \n",
       "0  7940.0  7945.0  7940.0  \n",
       "1  5950.0  5955.0  5950.0  \n",
       "\n",
       "[2 rows x 1000 columns]"
      ]
     },
     "execution_count": 15,
     "metadata": {},
     "output_type": "execute_result"
    }
   ],
   "source": [
    "hi_lo_strategy_series.head()"
   ]
  },
  {
   "cell_type": "code",
   "execution_count": 21,
   "metadata": {},
   "outputs": [
    {
     "data": {
      "text/plain": [
       "[<matplotlib.lines.Line2D at 0x18078f91a48>]"
      ]
     },
     "execution_count": 21,
     "metadata": {},
     "output_type": "execute_result"
    },
    {
     "data": {
      "image/png": "[encoded data removed]",
      "text/plain": [
       "<Figure size 432x288 with 1 Axes>"
      ]
     },
     "metadata": {
      "needs_background": "light"
     },
     "output_type": "display_data"
    }
   ],
   "source": [
    "plt.plot(basic_strategy_series.iloc[0, :])\n",
    "plt.plot(basic_strategy_series.iloc[1, :])"
   ]
  },
  {
   "cell_type": "code",
   "execution_count": 23,
   "metadata": {},
   "outputs": [
    {
     "data": {
      "text/plain": [
       "[<matplotlib.lines.Line2D at 0x1807a031248>]"
      ]
     },
     "execution_count": 23,
     "metadata": {},
     "output_type": "execute_result"
    },
    {
     "data": {
      "image/png": "[encoded data removed]",
      "text/plain": [
       "<Figure size 432x288 with 1 Axes>"
      ]
     },
     "metadata": {
      "needs_background": "light"
     },
     "output_type": "display_data"
    }
   ],
   "source": [
    "plt.plot(hi_lo_strategy_series.iloc[0, :])\n",
    "plt.plot(hi_lo_strategy_series.iloc[1, :])"
   ]
  },
  {
   "cell_type": "code",
   "execution_count": 24,
   "metadata": {},
   "outputs": [],
   "source": [
    "z_t_cc = np.array(hi_lo_strategy_series.iloc[0, :])"
   ]
  },
  {
   "cell_type": "code",
   "execution_count": 27,
   "metadata": {},
   "outputs": [
    {
     "data": {
      "text/plain": [
       "(array([ 53., 102.,  78.,  55.,  78.,  19.,  39.,  16.,  11.,  30.,  64.,\n",
       "         12., 151.,   4.,  17.,  13.,  37., 141.,  73.,   7.]),\n",
       " array([4975. , 5147.5, 5320. , 5492.5, 5665. , 5837.5, 6010. , 6182.5,\n",
       "        6355. , 6527.5, 6700. , 6872.5, 7045. , 7217.5, 7390. , 7562.5,\n",
       "        7735. , 7907.5, 8080. , 8252.5, 8425. ]),\n",
       " <a list of 20 Patch objects>)"
      ]
     },
     "execution_count": 27,
     "metadata": {},
     "output_type": "execute_result"
    },
    {
     "data": {
      "image/png": "[encoded data removed]",
      "text/plain": [
       "<Figure size 432x288 with 1 Axes>"
      ]
     },
     "metadata": {
      "needs_background": "light"
     },
     "output_type": "display_data"
    }
   ],
   "source": [
    "plt.hist(z_t_cc, bins=20)"
   ]
  },
  {
   "cell_type": "code",
   "execution_count": 32,
   "metadata": {},
   "outputs": [],
   "source": [
    "first_differenced_z_t_cc = np.diff(z_t_cc)"
   ]
  },
  {
   "cell_type": "code",
   "execution_count": 33,
   "metadata": {},
   "outputs": [
    {
     "data": {
      "text/plain": [
       "[<matplotlib.lines.Line2D at 0x1807a411cc8>]"
      ]
     },
     "execution_count": 33,
     "metadata": {},
     "output_type": "execute_result"
    },
    {
     "data": {
      "image/png": "[encoded data removed]",
      "text/plain": [
       "<Figure size 432x288 with 1 Axes>"
      ]
     },
     "metadata": {
      "needs_background": "light"
     },
     "output_type": "display_data"
    }
   ],
   "source": [
    "plt.plot(first_differenced_z_t_cc)"
   ]
  },
  {
   "cell_type": "code",
   "execution_count": 35,
   "metadata": {},
   "outputs": [
    {
     "data": {
      "text/plain": [
       "(array([  3.,   0.,  57., 394., 463.,   0.,  69.,  13.]),\n",
       " array([-40., -30., -20., -10.,   0.,  10.,  20.,  30.,  40.]),\n",
       " <a list of 8 Patch objects>)"
      ]
     },
     "execution_count": 35,
     "metadata": {},
     "output_type": "execute_result"
    },
    {
     "data": {
      "image/png": "[encoded data removed]",
      "text/plain": [
       "<Figure size 432x288 with 1 Axes>"
      ]
     },
     "metadata": {
      "needs_background": "light"
     },
     "output_type": "display_data"
    }
   ],
   "source": [
    "plt.hist(first_differenced_z_t_cc / 5, bins=8)"
   ]
  },
  {
   "cell_type": "code",
   "execution_count": null,
   "metadata": {},
   "outputs": [],
   "source": []
  }
 ],
 "metadata": {
  "kernelspec": {
   "display_name": "Python 3",
   "language": "python",
   "name": "python3"
  },
  "language_info": {
   "codemirror_mode": {
    "name": "ipython",
    "version": 3
   },
   "file_extension": ".py",
   "mimetype": "text/x-python",
   "name": "python",
   "nbconvert_exporter": "python",
   "pygments_lexer": "ipython3",
   "version": "3.7.4"
  }
 },
 "nbformat": 4,
 "nbformat_minor": 2
}
